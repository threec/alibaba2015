{
 "cells": [
  {
   "cell_type": "code",
   "execution_count": 1,
   "metadata": {
    "collapsed": false
   },
   "outputs": [],
   "source": [
    "import sklearn,pandas, sklearn.metrics\n",
    "import numpy as np\n",
    "from sklearn import datasets\n",
    "\n",
    "from sklearn.linear_model import LogisticRegressionCV, LogisticRegression\n",
    "from sklearn.metrics import f1_score,precision_score,recall_score,confusion_matrix\n",
    "from sklearn.grid_search import GridSearchCV"
   ]
  },
  {
   "cell_type": "code",
   "execution_count": 159,
   "metadata": {
    "collapsed": false,
    "scrolled": true
   },
   "outputs": [
    {
     "data": {
      "text/html": [
       "<div style=\"max-height:1000px;max-width:1500px;overflow:auto;\">\n",
       "<table border=\"1\" class=\"dataframe\">\n",
       "  <thead>\n",
       "    <tr style=\"text-align: right;\">\n",
       "      <th></th>\n",
       "      <th>user_id</th>\n",
       "      <th>item_id</th>\n",
       "      <th>user_action_count</th>\n",
       "      <th>user_lastday_count</th>\n",
       "      <th>user_buy_count</th>\n",
       "      <th>item_click_count</th>\n",
       "      <th>item_lastday_count</th>\n",
       "      <th>item_buy_count</th>\n",
       "      <th>cat_click_count</th>\n",
       "      <th>cat_buy_count</th>\n",
       "      <th>...</th>\n",
       "      <th>user_item_lastweek_buy</th>\n",
       "      <th>user_item_halfmonth_click</th>\n",
       "      <th>user_item_halfmonth_star</th>\n",
       "      <th>user_item_halfmonth_add_car</th>\n",
       "      <th>user_item_halfmonth_buy</th>\n",
       "      <th>user_item_before_halfmonth_click</th>\n",
       "      <th>user_item_before_halfmonth_star</th>\n",
       "      <th>user_item_before_halfmonth_add_car</th>\n",
       "      <th>user_item_before_halfmonth_buy</th>\n",
       "      <th>buy</th>\n",
       "    </tr>\n",
       "  </thead>\n",
       "  <tbody>\n",
       "    <tr>\n",
       "      <th>0</th>\n",
       "      <td>109210338</td>\n",
       "      <td>248388830</td>\n",
       "      <td>3338</td>\n",
       "      <td>20</td>\n",
       "      <td>3</td>\n",
       "      <td>127</td>\n",
       "      <td>0</td>\n",
       "      <td>1</td>\n",
       "      <td>307261</td>\n",
       "      <td>833</td>\n",
       "      <td>...</td>\n",
       "      <td>0</td>\n",
       "      <td>4</td>\n",
       "      <td>0</td>\n",
       "      <td>0</td>\n",
       "      <td>0</td>\n",
       "      <td>0</td>\n",
       "      <td>0</td>\n",
       "      <td>0</td>\n",
       "      <td>0</td>\n",
       "      <td>0</td>\n",
       "    </tr>\n",
       "    <tr>\n",
       "      <th>1</th>\n",
       "      <td>135897509</td>\n",
       "      <td>111578194</td>\n",
       "      <td>769</td>\n",
       "      <td>0</td>\n",
       "      <td>2</td>\n",
       "      <td>11</td>\n",
       "      <td>0</td>\n",
       "      <td>0</td>\n",
       "      <td>23686</td>\n",
       "      <td>154</td>\n",
       "      <td>...</td>\n",
       "      <td>0</td>\n",
       "      <td>0</td>\n",
       "      <td>0</td>\n",
       "      <td>0</td>\n",
       "      <td>0</td>\n",
       "      <td>0</td>\n",
       "      <td>0</td>\n",
       "      <td>0</td>\n",
       "      <td>0</td>\n",
       "      <td>0</td>\n",
       "    </tr>\n",
       "    <tr>\n",
       "      <th>2</th>\n",
       "      <td>8598345</td>\n",
       "      <td>231549197</td>\n",
       "      <td>6293</td>\n",
       "      <td>208</td>\n",
       "      <td>11</td>\n",
       "      <td>67</td>\n",
       "      <td>3</td>\n",
       "      <td>0</td>\n",
       "      <td>358271</td>\n",
       "      <td>802</td>\n",
       "      <td>...</td>\n",
       "      <td>0</td>\n",
       "      <td>0</td>\n",
       "      <td>0</td>\n",
       "      <td>0</td>\n",
       "      <td>0</td>\n",
       "      <td>0</td>\n",
       "      <td>0</td>\n",
       "      <td>0</td>\n",
       "      <td>0</td>\n",
       "      <td>0</td>\n",
       "    </tr>\n",
       "    <tr>\n",
       "      <th>3</th>\n",
       "      <td>72333767</td>\n",
       "      <td>252905469</td>\n",
       "      <td>1237</td>\n",
       "      <td>16</td>\n",
       "      <td>27</td>\n",
       "      <td>2</td>\n",
       "      <td>0</td>\n",
       "      <td>0</td>\n",
       "      <td>307261</td>\n",
       "      <td>833</td>\n",
       "      <td>...</td>\n",
       "      <td>0</td>\n",
       "      <td>0</td>\n",
       "      <td>0</td>\n",
       "      <td>0</td>\n",
       "      <td>0</td>\n",
       "      <td>0</td>\n",
       "      <td>0</td>\n",
       "      <td>0</td>\n",
       "      <td>0</td>\n",
       "      <td>0</td>\n",
       "    </tr>\n",
       "    <tr>\n",
       "      <th>4</th>\n",
       "      <td>103922137</td>\n",
       "      <td>13749512</td>\n",
       "      <td>2622</td>\n",
       "      <td>93</td>\n",
       "      <td>4</td>\n",
       "      <td>2</td>\n",
       "      <td>0</td>\n",
       "      <td>0</td>\n",
       "      <td>300</td>\n",
       "      <td>4</td>\n",
       "      <td>...</td>\n",
       "      <td>0</td>\n",
       "      <td>0</td>\n",
       "      <td>0</td>\n",
       "      <td>0</td>\n",
       "      <td>0</td>\n",
       "      <td>2</td>\n",
       "      <td>0</td>\n",
       "      <td>0</td>\n",
       "      <td>0</td>\n",
       "      <td>0</td>\n",
       "    </tr>\n",
       "  </tbody>\n",
       "</table>\n",
       "<p>5 rows × 35 columns</p>\n",
       "</div>"
      ],
      "text/plain": [
       "     user_id    item_id  user_action_count  user_lastday_count  \\\n",
       "0  109210338  248388830               3338                  20   \n",
       "1  135897509  111578194                769                   0   \n",
       "2    8598345  231549197               6293                 208   \n",
       "3   72333767  252905469               1237                  16   \n",
       "4  103922137   13749512               2622                  93   \n",
       "\n",
       "   user_buy_count  item_click_count  item_lastday_count  item_buy_count  \\\n",
       "0               3               127                   0               1   \n",
       "1               2                11                   0               0   \n",
       "2              11                67                   3               0   \n",
       "3              27                 2                   0               0   \n",
       "4               4                 2                   0               0   \n",
       "\n",
       "   cat_click_count  cat_buy_count ...   user_item_lastweek_buy  \\\n",
       "0           307261            833 ...                        0   \n",
       "1            23686            154 ...                        0   \n",
       "2           358271            802 ...                        0   \n",
       "3           307261            833 ...                        0   \n",
       "4              300              4 ...                        0   \n",
       "\n",
       "   user_item_halfmonth_click  user_item_halfmonth_star  \\\n",
       "0                          4                         0   \n",
       "1                          0                         0   \n",
       "2                          0                         0   \n",
       "3                          0                         0   \n",
       "4                          0                         0   \n",
       "\n",
       "   user_item_halfmonth_add_car  user_item_halfmonth_buy  \\\n",
       "0                            0                        0   \n",
       "1                            0                        0   \n",
       "2                            0                        0   \n",
       "3                            0                        0   \n",
       "4                            0                        0   \n",
       "\n",
       "   user_item_before_halfmonth_click  user_item_before_halfmonth_star  \\\n",
       "0                                 0                                0   \n",
       "1                                 0                                0   \n",
       "2                                 0                                0   \n",
       "3                                 0                                0   \n",
       "4                                 2                                0   \n",
       "\n",
       "   user_item_before_halfmonth_add_car  user_item_before_halfmonth_buy  buy  \n",
       "0                                   0                               0    0  \n",
       "1                                   0                               0    0  \n",
       "2                                   0                               0    0  \n",
       "3                                   0                               0    0  \n",
       "4                                   0                               0    0  \n",
       "\n",
       "[5 rows x 35 columns]"
      ]
     },
     "execution_count": 159,
     "metadata": {},
     "output_type": "execute_result"
    }
   ],
   "source": [
    "data = pandas.read_csv('data.train.csv')\n",
    "data.head()"
   ]
  },
  {
   "cell_type": "code",
   "execution_count": 12,
   "metadata": {
    "collapsed": false
   },
   "outputs": [
    {
     "data": {
      "text/plain": [
       "Index([u'user_id', u'item_id', u'user_action_count', u'user_lastday_count', u'user_buy_count', u'item_click_count', u'item_lastday_count', u'item_buy_count', u'cat_click_count', u'cat_buy_count', u'user_cat_count', u'user_cat_lastday_count', u'user_item_count', u'user_item_lastday_count', u'user_add_car', u'user_add_star', u'item_added_car', u'item_added_start', u'user_item_lasttime', u'buy'], dtype='object')"
      ]
     },
     "execution_count": 12,
     "metadata": {},
     "output_type": "execute_result"
    }
   ],
   "source": [
    "data.columns"
   ]
  },
  {
   "cell_type": "code",
   "execution_count": 20,
   "metadata": {
    "collapsed": false
   },
   "outputs": [
    {
     "data": {
      "text/html": [
       "<div style=\"max-height:1000px;max-width:1500px;overflow:auto;\">\n",
       "<table border=\"1\" class=\"dataframe\">\n",
       "  <thead>\n",
       "    <tr style=\"text-align: right;\">\n",
       "      <th></th>\n",
       "      <th>user_action_count</th>\n",
       "      <th>user_lastday_count</th>\n",
       "      <th>user_buy_count</th>\n",
       "      <th>item_click_count</th>\n",
       "      <th>item_lastday_count</th>\n",
       "      <th>item_buy_count</th>\n",
       "      <th>cat_click_count</th>\n",
       "      <th>cat_buy_count</th>\n",
       "      <th>user_cat_count</th>\n",
       "      <th>user_cat_lastday_count</th>\n",
       "      <th>user_item_count</th>\n",
       "      <th>user_item_lastday_count</th>\n",
       "      <th>user_add_car</th>\n",
       "      <th>user_add_star</th>\n",
       "      <th>item_added_car</th>\n",
       "      <th>item_added_start</th>\n",
       "      <th>user_item_lasttime</th>\n",
       "    </tr>\n",
       "  </thead>\n",
       "  <tbody>\n",
       "    <tr>\n",
       "      <th>0</th>\n",
       "      <td>1237</td>\n",
       "      <td>16</td>\n",
       "      <td>27</td>\n",
       "      <td>2</td>\n",
       "      <td>0</td>\n",
       "      <td>0</td>\n",
       "      <td>307261</td>\n",
       "      <td>833</td>\n",
       "      <td>134</td>\n",
       "      <td>0</td>\n",
       "      <td>2</td>\n",
       "      <td>0</td>\n",
       "      <td>111</td>\n",
       "      <td>10</td>\n",
       "      <td>0</td>\n",
       "      <td>0</td>\n",
       "      <td>1418342400</td>\n",
       "    </tr>\n",
       "    <tr>\n",
       "      <th>1</th>\n",
       "      <td>3465</td>\n",
       "      <td>104</td>\n",
       "      <td>43</td>\n",
       "      <td>4</td>\n",
       "      <td>0</td>\n",
       "      <td>0</td>\n",
       "      <td>122784</td>\n",
       "      <td>709</td>\n",
       "      <td>11</td>\n",
       "      <td>0</td>\n",
       "      <td>3</td>\n",
       "      <td>0</td>\n",
       "      <td>186</td>\n",
       "      <td>20</td>\n",
       "      <td>0</td>\n",
       "      <td>0</td>\n",
       "      <td>1418367600</td>\n",
       "    </tr>\n",
       "    <tr>\n",
       "      <th>2</th>\n",
       "      <td>7605</td>\n",
       "      <td>7</td>\n",
       "      <td>293</td>\n",
       "      <td>15</td>\n",
       "      <td>1</td>\n",
       "      <td>1</td>\n",
       "      <td>25230</td>\n",
       "      <td>922</td>\n",
       "      <td>2481</td>\n",
       "      <td>6</td>\n",
       "      <td>10</td>\n",
       "      <td>0</td>\n",
       "      <td>695</td>\n",
       "      <td>334</td>\n",
       "      <td>4</td>\n",
       "      <td>0</td>\n",
       "      <td>1418702400</td>\n",
       "    </tr>\n",
       "    <tr>\n",
       "      <th>3</th>\n",
       "      <td>2096</td>\n",
       "      <td>0</td>\n",
       "      <td>17</td>\n",
       "      <td>3</td>\n",
       "      <td>0</td>\n",
       "      <td>0</td>\n",
       "      <td>8</td>\n",
       "      <td>0</td>\n",
       "      <td>5</td>\n",
       "      <td>0</td>\n",
       "      <td>3</td>\n",
       "      <td>0</td>\n",
       "      <td>5</td>\n",
       "      <td>14</td>\n",
       "      <td>0</td>\n",
       "      <td>0</td>\n",
       "      <td>1416312000</td>\n",
       "    </tr>\n",
       "    <tr>\n",
       "      <th>4</th>\n",
       "      <td>6516</td>\n",
       "      <td>107</td>\n",
       "      <td>20</td>\n",
       "      <td>11</td>\n",
       "      <td>0</td>\n",
       "      <td>0</td>\n",
       "      <td>311285</td>\n",
       "      <td>838</td>\n",
       "      <td>952</td>\n",
       "      <td>0</td>\n",
       "      <td>2</td>\n",
       "      <td>0</td>\n",
       "      <td>28</td>\n",
       "      <td>0</td>\n",
       "      <td>1</td>\n",
       "      <td>0</td>\n",
       "      <td>1417492800</td>\n",
       "    </tr>\n",
       "    <tr>\n",
       "      <th>5</th>\n",
       "      <td>2000</td>\n",
       "      <td>142</td>\n",
       "      <td>6</td>\n",
       "      <td>4</td>\n",
       "      <td>0</td>\n",
       "      <td>0</td>\n",
       "      <td>15246</td>\n",
       "      <td>131</td>\n",
       "      <td>15</td>\n",
       "      <td>0</td>\n",
       "      <td>1</td>\n",
       "      <td>0</td>\n",
       "      <td>167</td>\n",
       "      <td>5</td>\n",
       "      <td>0</td>\n",
       "      <td>0</td>\n",
       "      <td>1417086000</td>\n",
       "    </tr>\n",
       "    <tr>\n",
       "      <th>6</th>\n",
       "      <td>220</td>\n",
       "      <td>0</td>\n",
       "      <td>6</td>\n",
       "      <td>470</td>\n",
       "      <td>0</td>\n",
       "      <td>0</td>\n",
       "      <td>105625</td>\n",
       "      <td>357</td>\n",
       "      <td>42</td>\n",
       "      <td>0</td>\n",
       "      <td>2</td>\n",
       "      <td>0</td>\n",
       "      <td>0</td>\n",
       "      <td>0</td>\n",
       "      <td>7</td>\n",
       "      <td>1</td>\n",
       "      <td>1418270400</td>\n",
       "    </tr>\n",
       "    <tr>\n",
       "      <th>7</th>\n",
       "      <td>11015</td>\n",
       "      <td>0</td>\n",
       "      <td>67</td>\n",
       "      <td>4</td>\n",
       "      <td>0</td>\n",
       "      <td>0</td>\n",
       "      <td>15782</td>\n",
       "      <td>144</td>\n",
       "      <td>10</td>\n",
       "      <td>0</td>\n",
       "      <td>4</td>\n",
       "      <td>0</td>\n",
       "      <td>131</td>\n",
       "      <td>1446</td>\n",
       "      <td>0</td>\n",
       "      <td>1</td>\n",
       "      <td>1418378400</td>\n",
       "    </tr>\n",
       "    <tr>\n",
       "      <th>8</th>\n",
       "      <td>3849</td>\n",
       "      <td>124</td>\n",
       "      <td>36</td>\n",
       "      <td>4</td>\n",
       "      <td>0</td>\n",
       "      <td>0</td>\n",
       "      <td>67255</td>\n",
       "      <td>405</td>\n",
       "      <td>118</td>\n",
       "      <td>0</td>\n",
       "      <td>2</td>\n",
       "      <td>0</td>\n",
       "      <td>68</td>\n",
       "      <td>223</td>\n",
       "      <td>0</td>\n",
       "      <td>0</td>\n",
       "      <td>1418220000</td>\n",
       "    </tr>\n",
       "    <tr>\n",
       "      <th>9</th>\n",
       "      <td>4884</td>\n",
       "      <td>0</td>\n",
       "      <td>6</td>\n",
       "      <td>2</td>\n",
       "      <td>0</td>\n",
       "      <td>0</td>\n",
       "      <td>358271</td>\n",
       "      <td>802</td>\n",
       "      <td>368</td>\n",
       "      <td>0</td>\n",
       "      <td>2</td>\n",
       "      <td>0</td>\n",
       "      <td>261</td>\n",
       "      <td>1</td>\n",
       "      <td>0</td>\n",
       "      <td>0</td>\n",
       "      <td>1416319200</td>\n",
       "    </tr>\n",
       "    <tr>\n",
       "      <th>10</th>\n",
       "      <td>1629</td>\n",
       "      <td>16</td>\n",
       "      <td>10</td>\n",
       "      <td>1</td>\n",
       "      <td>0</td>\n",
       "      <td>0</td>\n",
       "      <td>3153</td>\n",
       "      <td>71</td>\n",
       "      <td>13</td>\n",
       "      <td>0</td>\n",
       "      <td>1</td>\n",
       "      <td>0</td>\n",
       "      <td>26</td>\n",
       "      <td>20</td>\n",
       "      <td>0</td>\n",
       "      <td>0</td>\n",
       "      <td>1416722400</td>\n",
       "    </tr>\n",
       "    <tr>\n",
       "      <th>11</th>\n",
       "      <td>5464</td>\n",
       "      <td>30</td>\n",
       "      <td>35</td>\n",
       "      <td>1</td>\n",
       "      <td>1</td>\n",
       "      <td>0</td>\n",
       "      <td>3705</td>\n",
       "      <td>60</td>\n",
       "      <td>1</td>\n",
       "      <td>1</td>\n",
       "      <td>1</td>\n",
       "      <td>1</td>\n",
       "      <td>34</td>\n",
       "      <td>104</td>\n",
       "      <td>0</td>\n",
       "      <td>0</td>\n",
       "      <td>1418824800</td>\n",
       "    </tr>\n",
       "    <tr>\n",
       "      <th>12</th>\n",
       "      <td>196</td>\n",
       "      <td>0</td>\n",
       "      <td>1</td>\n",
       "      <td>2</td>\n",
       "      <td>0</td>\n",
       "      <td>0</td>\n",
       "      <td>1442</td>\n",
       "      <td>26</td>\n",
       "      <td>4</td>\n",
       "      <td>0</td>\n",
       "      <td>2</td>\n",
       "      <td>0</td>\n",
       "      <td>39</td>\n",
       "      <td>1</td>\n",
       "      <td>1</td>\n",
       "      <td>0</td>\n",
       "      <td>1417309200</td>\n",
       "    </tr>\n",
       "    <tr>\n",
       "      <th>13</th>\n",
       "      <td>1372</td>\n",
       "      <td>85</td>\n",
       "      <td>19</td>\n",
       "      <td>2</td>\n",
       "      <td>0</td>\n",
       "      <td>0</td>\n",
       "      <td>1228</td>\n",
       "      <td>13</td>\n",
       "      <td>12</td>\n",
       "      <td>0</td>\n",
       "      <td>2</td>\n",
       "      <td>0</td>\n",
       "      <td>30</td>\n",
       "      <td>77</td>\n",
       "      <td>0</td>\n",
       "      <td>0</td>\n",
       "      <td>1416906000</td>\n",
       "    </tr>\n",
       "    <tr>\n",
       "      <th>14</th>\n",
       "      <td>1481</td>\n",
       "      <td>0</td>\n",
       "      <td>3</td>\n",
       "      <td>102</td>\n",
       "      <td>3</td>\n",
       "      <td>1</td>\n",
       "      <td>3712</td>\n",
       "      <td>13</td>\n",
       "      <td>33</td>\n",
       "      <td>0</td>\n",
       "      <td>2</td>\n",
       "      <td>0</td>\n",
       "      <td>0</td>\n",
       "      <td>45</td>\n",
       "      <td>3</td>\n",
       "      <td>3</td>\n",
       "      <td>1418400000</td>\n",
       "    </tr>\n",
       "    <tr>\n",
       "      <th>15</th>\n",
       "      <td>3126</td>\n",
       "      <td>0</td>\n",
       "      <td>6</td>\n",
       "      <td>103</td>\n",
       "      <td>0</td>\n",
       "      <td>0</td>\n",
       "      <td>69780</td>\n",
       "      <td>340</td>\n",
       "      <td>8</td>\n",
       "      <td>0</td>\n",
       "      <td>1</td>\n",
       "      <td>0</td>\n",
       "      <td>71</td>\n",
       "      <td>1</td>\n",
       "      <td>1</td>\n",
       "      <td>3</td>\n",
       "      <td>1416286800</td>\n",
       "    </tr>\n",
       "    <tr>\n",
       "      <th>16</th>\n",
       "      <td>2223</td>\n",
       "      <td>340</td>\n",
       "      <td>5</td>\n",
       "      <td>39</td>\n",
       "      <td>3</td>\n",
       "      <td>1</td>\n",
       "      <td>492</td>\n",
       "      <td>19</td>\n",
       "      <td>13</td>\n",
       "      <td>6</td>\n",
       "      <td>5</td>\n",
       "      <td>3</td>\n",
       "      <td>82</td>\n",
       "      <td>215</td>\n",
       "      <td>6</td>\n",
       "      <td>3</td>\n",
       "      <td>1418785200</td>\n",
       "    </tr>\n",
       "    <tr>\n",
       "      <th>17</th>\n",
       "      <td>471</td>\n",
       "      <td>8</td>\n",
       "      <td>3</td>\n",
       "      <td>1</td>\n",
       "      <td>0</td>\n",
       "      <td>0</td>\n",
       "      <td>9730</td>\n",
       "      <td>101</td>\n",
       "      <td>1</td>\n",
       "      <td>0</td>\n",
       "      <td>1</td>\n",
       "      <td>0</td>\n",
       "      <td>2</td>\n",
       "      <td>11</td>\n",
       "      <td>0</td>\n",
       "      <td>0</td>\n",
       "      <td>1416751200</td>\n",
       "    </tr>\n",
       "    <tr>\n",
       "      <th>18</th>\n",
       "      <td>921</td>\n",
       "      <td>47</td>\n",
       "      <td>2</td>\n",
       "      <td>9</td>\n",
       "      <td>0</td>\n",
       "      <td>0</td>\n",
       "      <td>60867</td>\n",
       "      <td>321</td>\n",
       "      <td>175</td>\n",
       "      <td>4</td>\n",
       "      <td>4</td>\n",
       "      <td>0</td>\n",
       "      <td>3</td>\n",
       "      <td>5</td>\n",
       "      <td>0</td>\n",
       "      <td>0</td>\n",
       "      <td>1418130000</td>\n",
       "    </tr>\n",
       "    <tr>\n",
       "      <th>19</th>\n",
       "      <td>4048</td>\n",
       "      <td>51</td>\n",
       "      <td>40</td>\n",
       "      <td>2</td>\n",
       "      <td>0</td>\n",
       "      <td>0</td>\n",
       "      <td>4710</td>\n",
       "      <td>7</td>\n",
       "      <td>48</td>\n",
       "      <td>0</td>\n",
       "      <td>2</td>\n",
       "      <td>0</td>\n",
       "      <td>106</td>\n",
       "      <td>67</td>\n",
       "      <td>0</td>\n",
       "      <td>0</td>\n",
       "      <td>1418508000</td>\n",
       "    </tr>\n",
       "    <tr>\n",
       "      <th>20</th>\n",
       "      <td>16092</td>\n",
       "      <td>1210</td>\n",
       "      <td>4</td>\n",
       "      <td>1</td>\n",
       "      <td>0</td>\n",
       "      <td>0</td>\n",
       "      <td>128805</td>\n",
       "      <td>786</td>\n",
       "      <td>254</td>\n",
       "      <td>7</td>\n",
       "      <td>1</td>\n",
       "      <td>0</td>\n",
       "      <td>347</td>\n",
       "      <td>2</td>\n",
       "      <td>0</td>\n",
       "      <td>0</td>\n",
       "      <td>1417744800</td>\n",
       "    </tr>\n",
       "    <tr>\n",
       "      <th>21</th>\n",
       "      <td>1253</td>\n",
       "      <td>66</td>\n",
       "      <td>8</td>\n",
       "      <td>5</td>\n",
       "      <td>0</td>\n",
       "      <td>0</td>\n",
       "      <td>4192</td>\n",
       "      <td>96</td>\n",
       "      <td>23</td>\n",
       "      <td>0</td>\n",
       "      <td>5</td>\n",
       "      <td>0</td>\n",
       "      <td>59</td>\n",
       "      <td>1</td>\n",
       "      <td>0</td>\n",
       "      <td>0</td>\n",
       "      <td>1418608800</td>\n",
       "    </tr>\n",
       "    <tr>\n",
       "      <th>22</th>\n",
       "      <td>6463</td>\n",
       "      <td>191</td>\n",
       "      <td>22</td>\n",
       "      <td>5</td>\n",
       "      <td>2</td>\n",
       "      <td>0</td>\n",
       "      <td>83190</td>\n",
       "      <td>361</td>\n",
       "      <td>669</td>\n",
       "      <td>52</td>\n",
       "      <td>2</td>\n",
       "      <td>0</td>\n",
       "      <td>27</td>\n",
       "      <td>364</td>\n",
       "      <td>1</td>\n",
       "      <td>0</td>\n",
       "      <td>1417705200</td>\n",
       "    </tr>\n",
       "    <tr>\n",
       "      <th>23</th>\n",
       "      <td>5738</td>\n",
       "      <td>321</td>\n",
       "      <td>13</td>\n",
       "      <td>10</td>\n",
       "      <td>1</td>\n",
       "      <td>0</td>\n",
       "      <td>72086</td>\n",
       "      <td>358</td>\n",
       "      <td>559</td>\n",
       "      <td>159</td>\n",
       "      <td>1</td>\n",
       "      <td>1</td>\n",
       "      <td>260</td>\n",
       "      <td>7</td>\n",
       "      <td>0</td>\n",
       "      <td>0</td>\n",
       "      <td>1418828400</td>\n",
       "    </tr>\n",
       "    <tr>\n",
       "      <th>24</th>\n",
       "      <td>1027</td>\n",
       "      <td>51</td>\n",
       "      <td>6</td>\n",
       "      <td>2</td>\n",
       "      <td>0</td>\n",
       "      <td>0</td>\n",
       "      <td>4862</td>\n",
       "      <td>149</td>\n",
       "      <td>2</td>\n",
       "      <td>0</td>\n",
       "      <td>2</td>\n",
       "      <td>0</td>\n",
       "      <td>10</td>\n",
       "      <td>2</td>\n",
       "      <td>0</td>\n",
       "      <td>0</td>\n",
       "      <td>1416384000</td>\n",
       "    </tr>\n",
       "    <tr>\n",
       "      <th>25</th>\n",
       "      <td>5158</td>\n",
       "      <td>75</td>\n",
       "      <td>110</td>\n",
       "      <td>5</td>\n",
       "      <td>0</td>\n",
       "      <td>0</td>\n",
       "      <td>3973</td>\n",
       "      <td>72</td>\n",
       "      <td>9</td>\n",
       "      <td>0</td>\n",
       "      <td>5</td>\n",
       "      <td>0</td>\n",
       "      <td>404</td>\n",
       "      <td>7</td>\n",
       "      <td>1</td>\n",
       "      <td>0</td>\n",
       "      <td>1418734800</td>\n",
       "    </tr>\n",
       "    <tr>\n",
       "      <th>26</th>\n",
       "      <td>2432</td>\n",
       "      <td>40</td>\n",
       "      <td>24</td>\n",
       "      <td>3</td>\n",
       "      <td>0</td>\n",
       "      <td>0</td>\n",
       "      <td>7461</td>\n",
       "      <td>199</td>\n",
       "      <td>32</td>\n",
       "      <td>4</td>\n",
       "      <td>3</td>\n",
       "      <td>0</td>\n",
       "      <td>110</td>\n",
       "      <td>4</td>\n",
       "      <td>0</td>\n",
       "      <td>0</td>\n",
       "      <td>1418706000</td>\n",
       "    </tr>\n",
       "    <tr>\n",
       "      <th>27</th>\n",
       "      <td>1124</td>\n",
       "      <td>4</td>\n",
       "      <td>15</td>\n",
       "      <td>2</td>\n",
       "      <td>0</td>\n",
       "      <td>0</td>\n",
       "      <td>4814</td>\n",
       "      <td>76</td>\n",
       "      <td>12</td>\n",
       "      <td>0</td>\n",
       "      <td>2</td>\n",
       "      <td>0</td>\n",
       "      <td>75</td>\n",
       "      <td>1</td>\n",
       "      <td>0</td>\n",
       "      <td>0</td>\n",
       "      <td>1418655600</td>\n",
       "    </tr>\n",
       "    <tr>\n",
       "      <th>28</th>\n",
       "      <td>1455</td>\n",
       "      <td>34</td>\n",
       "      <td>0</td>\n",
       "      <td>2</td>\n",
       "      <td>0</td>\n",
       "      <td>0</td>\n",
       "      <td>105625</td>\n",
       "      <td>357</td>\n",
       "      <td>421</td>\n",
       "      <td>32</td>\n",
       "      <td>2</td>\n",
       "      <td>0</td>\n",
       "      <td>2</td>\n",
       "      <td>49</td>\n",
       "      <td>0</td>\n",
       "      <td>0</td>\n",
       "      <td>1418310000</td>\n",
       "    </tr>\n",
       "    <tr>\n",
       "      <th>29</th>\n",
       "      <td>1854</td>\n",
       "      <td>86</td>\n",
       "      <td>0</td>\n",
       "      <td>2</td>\n",
       "      <td>0</td>\n",
       "      <td>0</td>\n",
       "      <td>192</td>\n",
       "      <td>5</td>\n",
       "      <td>54</td>\n",
       "      <td>0</td>\n",
       "      <td>2</td>\n",
       "      <td>0</td>\n",
       "      <td>0</td>\n",
       "      <td>44</td>\n",
       "      <td>0</td>\n",
       "      <td>0</td>\n",
       "      <td>1417575600</td>\n",
       "    </tr>\n",
       "    <tr>\n",
       "      <th>...</th>\n",
       "      <td>...</td>\n",
       "      <td>...</td>\n",
       "      <td>...</td>\n",
       "      <td>...</td>\n",
       "      <td>...</td>\n",
       "      <td>...</td>\n",
       "      <td>...</td>\n",
       "      <td>...</td>\n",
       "      <td>...</td>\n",
       "      <td>...</td>\n",
       "      <td>...</td>\n",
       "      <td>...</td>\n",
       "      <td>...</td>\n",
       "      <td>...</td>\n",
       "      <td>...</td>\n",
       "      <td>...</td>\n",
       "      <td>...</td>\n",
       "    </tr>\n",
       "    <tr>\n",
       "      <th>4876</th>\n",
       "      <td>1299</td>\n",
       "      <td>7</td>\n",
       "      <td>3</td>\n",
       "      <td>1</td>\n",
       "      <td>0</td>\n",
       "      <td>0</td>\n",
       "      <td>49904</td>\n",
       "      <td>539</td>\n",
       "      <td>3</td>\n",
       "      <td>0</td>\n",
       "      <td>1</td>\n",
       "      <td>0</td>\n",
       "      <td>95</td>\n",
       "      <td>0</td>\n",
       "      <td>0</td>\n",
       "      <td>0</td>\n",
       "      <td>1418684400</td>\n",
       "    </tr>\n",
       "    <tr>\n",
       "      <th>4877</th>\n",
       "      <td>1687</td>\n",
       "      <td>66</td>\n",
       "      <td>29</td>\n",
       "      <td>42</td>\n",
       "      <td>0</td>\n",
       "      <td>2</td>\n",
       "      <td>15851</td>\n",
       "      <td>506</td>\n",
       "      <td>65</td>\n",
       "      <td>0</td>\n",
       "      <td>4</td>\n",
       "      <td>0</td>\n",
       "      <td>33</td>\n",
       "      <td>98</td>\n",
       "      <td>3</td>\n",
       "      <td>0</td>\n",
       "      <td>1417312800</td>\n",
       "    </tr>\n",
       "    <tr>\n",
       "      <th>4878</th>\n",
       "      <td>1963</td>\n",
       "      <td>34</td>\n",
       "      <td>47</td>\n",
       "      <td>2</td>\n",
       "      <td>0</td>\n",
       "      <td>0</td>\n",
       "      <td>25894</td>\n",
       "      <td>389</td>\n",
       "      <td>477</td>\n",
       "      <td>0</td>\n",
       "      <td>2</td>\n",
       "      <td>0</td>\n",
       "      <td>275</td>\n",
       "      <td>99</td>\n",
       "      <td>0</td>\n",
       "      <td>1</td>\n",
       "      <td>1416632400</td>\n",
       "    </tr>\n",
       "    <tr>\n",
       "      <th>4879</th>\n",
       "      <td>1743</td>\n",
       "      <td>62</td>\n",
       "      <td>15</td>\n",
       "      <td>3</td>\n",
       "      <td>0</td>\n",
       "      <td>0</td>\n",
       "      <td>29098</td>\n",
       "      <td>456</td>\n",
       "      <td>43</td>\n",
       "      <td>0</td>\n",
       "      <td>3</td>\n",
       "      <td>0</td>\n",
       "      <td>26</td>\n",
       "      <td>43</td>\n",
       "      <td>0</td>\n",
       "      <td>0</td>\n",
       "      <td>1416664800</td>\n",
       "    </tr>\n",
       "    <tr>\n",
       "      <th>4880</th>\n",
       "      <td>1956</td>\n",
       "      <td>15</td>\n",
       "      <td>20</td>\n",
       "      <td>6</td>\n",
       "      <td>0</td>\n",
       "      <td>0</td>\n",
       "      <td>144267</td>\n",
       "      <td>1484</td>\n",
       "      <td>90</td>\n",
       "      <td>0</td>\n",
       "      <td>3</td>\n",
       "      <td>0</td>\n",
       "      <td>20</td>\n",
       "      <td>29</td>\n",
       "      <td>0</td>\n",
       "      <td>1</td>\n",
       "      <td>1416297600</td>\n",
       "    </tr>\n",
       "    <tr>\n",
       "      <th>4881</th>\n",
       "      <td>7487</td>\n",
       "      <td>190</td>\n",
       "      <td>48</td>\n",
       "      <td>4</td>\n",
       "      <td>0</td>\n",
       "      <td>0</td>\n",
       "      <td>6496</td>\n",
       "      <td>91</td>\n",
       "      <td>6</td>\n",
       "      <td>0</td>\n",
       "      <td>4</td>\n",
       "      <td>0</td>\n",
       "      <td>387</td>\n",
       "      <td>238</td>\n",
       "      <td>0</td>\n",
       "      <td>0</td>\n",
       "      <td>1418328000</td>\n",
       "    </tr>\n",
       "    <tr>\n",
       "      <th>4882</th>\n",
       "      <td>2380</td>\n",
       "      <td>76</td>\n",
       "      <td>66</td>\n",
       "      <td>10</td>\n",
       "      <td>0</td>\n",
       "      <td>0</td>\n",
       "      <td>21327</td>\n",
       "      <td>264</td>\n",
       "      <td>8</td>\n",
       "      <td>0</td>\n",
       "      <td>1</td>\n",
       "      <td>0</td>\n",
       "      <td>218</td>\n",
       "      <td>1</td>\n",
       "      <td>0</td>\n",
       "      <td>0</td>\n",
       "      <td>1416535200</td>\n",
       "    </tr>\n",
       "    <tr>\n",
       "      <th>4883</th>\n",
       "      <td>2260</td>\n",
       "      <td>0</td>\n",
       "      <td>4</td>\n",
       "      <td>41</td>\n",
       "      <td>0</td>\n",
       "      <td>0</td>\n",
       "      <td>358271</td>\n",
       "      <td>802</td>\n",
       "      <td>584</td>\n",
       "      <td>0</td>\n",
       "      <td>2</td>\n",
       "      <td>0</td>\n",
       "      <td>58</td>\n",
       "      <td>0</td>\n",
       "      <td>0</td>\n",
       "      <td>0</td>\n",
       "      <td>1417953600</td>\n",
       "    </tr>\n",
       "    <tr>\n",
       "      <th>4884</th>\n",
       "      <td>237</td>\n",
       "      <td>0</td>\n",
       "      <td>0</td>\n",
       "      <td>1</td>\n",
       "      <td>0</td>\n",
       "      <td>0</td>\n",
       "      <td>17206</td>\n",
       "      <td>41</td>\n",
       "      <td>74</td>\n",
       "      <td>0</td>\n",
       "      <td>1</td>\n",
       "      <td>0</td>\n",
       "      <td>0</td>\n",
       "      <td>0</td>\n",
       "      <td>0</td>\n",
       "      <td>0</td>\n",
       "      <td>1417784400</td>\n",
       "    </tr>\n",
       "    <tr>\n",
       "      <th>4885</th>\n",
       "      <td>1616</td>\n",
       "      <td>4</td>\n",
       "      <td>4</td>\n",
       "      <td>2</td>\n",
       "      <td>0</td>\n",
       "      <td>0</td>\n",
       "      <td>78163</td>\n",
       "      <td>593</td>\n",
       "      <td>84</td>\n",
       "      <td>0</td>\n",
       "      <td>2</td>\n",
       "      <td>0</td>\n",
       "      <td>33</td>\n",
       "      <td>31</td>\n",
       "      <td>0</td>\n",
       "      <td>0</td>\n",
       "      <td>1417921200</td>\n",
       "    </tr>\n",
       "    <tr>\n",
       "      <th>4886</th>\n",
       "      <td>2924</td>\n",
       "      <td>91</td>\n",
       "      <td>44</td>\n",
       "      <td>1</td>\n",
       "      <td>0</td>\n",
       "      <td>0</td>\n",
       "      <td>270</td>\n",
       "      <td>2</td>\n",
       "      <td>1</td>\n",
       "      <td>0</td>\n",
       "      <td>1</td>\n",
       "      <td>0</td>\n",
       "      <td>47</td>\n",
       "      <td>169</td>\n",
       "      <td>0</td>\n",
       "      <td>0</td>\n",
       "      <td>1418713200</td>\n",
       "    </tr>\n",
       "    <tr>\n",
       "      <th>4887</th>\n",
       "      <td>952</td>\n",
       "      <td>119</td>\n",
       "      <td>4</td>\n",
       "      <td>6</td>\n",
       "      <td>0</td>\n",
       "      <td>0</td>\n",
       "      <td>48789</td>\n",
       "      <td>581</td>\n",
       "      <td>22</td>\n",
       "      <td>0</td>\n",
       "      <td>1</td>\n",
       "      <td>0</td>\n",
       "      <td>14</td>\n",
       "      <td>0</td>\n",
       "      <td>0</td>\n",
       "      <td>0</td>\n",
       "      <td>1418576400</td>\n",
       "    </tr>\n",
       "    <tr>\n",
       "      <th>4888</th>\n",
       "      <td>329</td>\n",
       "      <td>0</td>\n",
       "      <td>5</td>\n",
       "      <td>1</td>\n",
       "      <td>0</td>\n",
       "      <td>0</td>\n",
       "      <td>2763</td>\n",
       "      <td>23</td>\n",
       "      <td>16</td>\n",
       "      <td>0</td>\n",
       "      <td>1</td>\n",
       "      <td>0</td>\n",
       "      <td>2</td>\n",
       "      <td>0</td>\n",
       "      <td>0</td>\n",
       "      <td>0</td>\n",
       "      <td>1418130000</td>\n",
       "    </tr>\n",
       "    <tr>\n",
       "      <th>4889</th>\n",
       "      <td>83</td>\n",
       "      <td>0</td>\n",
       "      <td>2</td>\n",
       "      <td>1</td>\n",
       "      <td>0</td>\n",
       "      <td>0</td>\n",
       "      <td>6222</td>\n",
       "      <td>64</td>\n",
       "      <td>35</td>\n",
       "      <td>0</td>\n",
       "      <td>1</td>\n",
       "      <td>0</td>\n",
       "      <td>2</td>\n",
       "      <td>0</td>\n",
       "      <td>0</td>\n",
       "      <td>0</td>\n",
       "      <td>1418043600</td>\n",
       "    </tr>\n",
       "    <tr>\n",
       "      <th>4890</th>\n",
       "      <td>2665</td>\n",
       "      <td>14</td>\n",
       "      <td>4</td>\n",
       "      <td>1</td>\n",
       "      <td>0</td>\n",
       "      <td>0</td>\n",
       "      <td>5371</td>\n",
       "      <td>78</td>\n",
       "      <td>219</td>\n",
       "      <td>0</td>\n",
       "      <td>1</td>\n",
       "      <td>0</td>\n",
       "      <td>167</td>\n",
       "      <td>1</td>\n",
       "      <td>0</td>\n",
       "      <td>0</td>\n",
       "      <td>1417352400</td>\n",
       "    </tr>\n",
       "    <tr>\n",
       "      <th>4891</th>\n",
       "      <td>1551</td>\n",
       "      <td>19</td>\n",
       "      <td>47</td>\n",
       "      <td>5</td>\n",
       "      <td>0</td>\n",
       "      <td>0</td>\n",
       "      <td>874</td>\n",
       "      <td>7</td>\n",
       "      <td>2</td>\n",
       "      <td>0</td>\n",
       "      <td>2</td>\n",
       "      <td>0</td>\n",
       "      <td>28</td>\n",
       "      <td>36</td>\n",
       "      <td>0</td>\n",
       "      <td>0</td>\n",
       "      <td>1417611600</td>\n",
       "    </tr>\n",
       "    <tr>\n",
       "      <th>4892</th>\n",
       "      <td>16262</td>\n",
       "      <td>378</td>\n",
       "      <td>127</td>\n",
       "      <td>2</td>\n",
       "      <td>0</td>\n",
       "      <td>0</td>\n",
       "      <td>168256</td>\n",
       "      <td>703</td>\n",
       "      <td>511</td>\n",
       "      <td>36</td>\n",
       "      <td>2</td>\n",
       "      <td>0</td>\n",
       "      <td>602</td>\n",
       "      <td>1827</td>\n",
       "      <td>0</td>\n",
       "      <td>1</td>\n",
       "      <td>1417032000</td>\n",
       "    </tr>\n",
       "    <tr>\n",
       "      <th>4893</th>\n",
       "      <td>4112</td>\n",
       "      <td>34</td>\n",
       "      <td>17</td>\n",
       "      <td>1</td>\n",
       "      <td>0</td>\n",
       "      <td>0</td>\n",
       "      <td>282497</td>\n",
       "      <td>1052</td>\n",
       "      <td>354</td>\n",
       "      <td>0</td>\n",
       "      <td>1</td>\n",
       "      <td>0</td>\n",
       "      <td>97</td>\n",
       "      <td>121</td>\n",
       "      <td>0</td>\n",
       "      <td>0</td>\n",
       "      <td>1416362400</td>\n",
       "    </tr>\n",
       "    <tr>\n",
       "      <th>4894</th>\n",
       "      <td>895</td>\n",
       "      <td>51</td>\n",
       "      <td>15</td>\n",
       "      <td>14</td>\n",
       "      <td>2</td>\n",
       "      <td>0</td>\n",
       "      <td>15802</td>\n",
       "      <td>233</td>\n",
       "      <td>7</td>\n",
       "      <td>0</td>\n",
       "      <td>1</td>\n",
       "      <td>0</td>\n",
       "      <td>6</td>\n",
       "      <td>17</td>\n",
       "      <td>0</td>\n",
       "      <td>1</td>\n",
       "      <td>1416758400</td>\n",
       "    </tr>\n",
       "    <tr>\n",
       "      <th>4895</th>\n",
       "      <td>5843</td>\n",
       "      <td>47</td>\n",
       "      <td>12</td>\n",
       "      <td>2</td>\n",
       "      <td>0</td>\n",
       "      <td>0</td>\n",
       "      <td>647</td>\n",
       "      <td>4</td>\n",
       "      <td>2</td>\n",
       "      <td>0</td>\n",
       "      <td>2</td>\n",
       "      <td>0</td>\n",
       "      <td>36</td>\n",
       "      <td>25</td>\n",
       "      <td>0</td>\n",
       "      <td>0</td>\n",
       "      <td>1417431600</td>\n",
       "    </tr>\n",
       "    <tr>\n",
       "      <th>4896</th>\n",
       "      <td>5101</td>\n",
       "      <td>193</td>\n",
       "      <td>20</td>\n",
       "      <td>2</td>\n",
       "      <td>0</td>\n",
       "      <td>0</td>\n",
       "      <td>7243</td>\n",
       "      <td>64</td>\n",
       "      <td>356</td>\n",
       "      <td>0</td>\n",
       "      <td>2</td>\n",
       "      <td>0</td>\n",
       "      <td>53</td>\n",
       "      <td>95</td>\n",
       "      <td>0</td>\n",
       "      <td>0</td>\n",
       "      <td>1418137200</td>\n",
       "    </tr>\n",
       "    <tr>\n",
       "      <th>4897</th>\n",
       "      <td>1830</td>\n",
       "      <td>94</td>\n",
       "      <td>8</td>\n",
       "      <td>2</td>\n",
       "      <td>0</td>\n",
       "      <td>0</td>\n",
       "      <td>25090</td>\n",
       "      <td>315</td>\n",
       "      <td>54</td>\n",
       "      <td>0</td>\n",
       "      <td>2</td>\n",
       "      <td>0</td>\n",
       "      <td>0</td>\n",
       "      <td>18</td>\n",
       "      <td>0</td>\n",
       "      <td>0</td>\n",
       "      <td>1418310000</td>\n",
       "    </tr>\n",
       "    <tr>\n",
       "      <th>4898</th>\n",
       "      <td>23</td>\n",
       "      <td>0</td>\n",
       "      <td>0</td>\n",
       "      <td>1</td>\n",
       "      <td>0</td>\n",
       "      <td>0</td>\n",
       "      <td>358271</td>\n",
       "      <td>802</td>\n",
       "      <td>10</td>\n",
       "      <td>0</td>\n",
       "      <td>1</td>\n",
       "      <td>0</td>\n",
       "      <td>0</td>\n",
       "      <td>0</td>\n",
       "      <td>0</td>\n",
       "      <td>0</td>\n",
       "      <td>1416880800</td>\n",
       "    </tr>\n",
       "    <tr>\n",
       "      <th>4899</th>\n",
       "      <td>503</td>\n",
       "      <td>0</td>\n",
       "      <td>4</td>\n",
       "      <td>5</td>\n",
       "      <td>0</td>\n",
       "      <td>0</td>\n",
       "      <td>67255</td>\n",
       "      <td>405</td>\n",
       "      <td>8</td>\n",
       "      <td>0</td>\n",
       "      <td>2</td>\n",
       "      <td>0</td>\n",
       "      <td>5</td>\n",
       "      <td>7</td>\n",
       "      <td>0</td>\n",
       "      <td>0</td>\n",
       "      <td>1418086800</td>\n",
       "    </tr>\n",
       "    <tr>\n",
       "      <th>4900</th>\n",
       "      <td>1311</td>\n",
       "      <td>92</td>\n",
       "      <td>0</td>\n",
       "      <td>1</td>\n",
       "      <td>0</td>\n",
       "      <td>0</td>\n",
       "      <td>1489</td>\n",
       "      <td>6</td>\n",
       "      <td>588</td>\n",
       "      <td>0</td>\n",
       "      <td>1</td>\n",
       "      <td>0</td>\n",
       "      <td>0</td>\n",
       "      <td>0</td>\n",
       "      <td>0</td>\n",
       "      <td>0</td>\n",
       "      <td>1417755600</td>\n",
       "    </tr>\n",
       "    <tr>\n",
       "      <th>4901</th>\n",
       "      <td>672</td>\n",
       "      <td>58</td>\n",
       "      <td>23</td>\n",
       "      <td>51</td>\n",
       "      <td>0</td>\n",
       "      <td>1</td>\n",
       "      <td>2797</td>\n",
       "      <td>100</td>\n",
       "      <td>13</td>\n",
       "      <td>0</td>\n",
       "      <td>3</td>\n",
       "      <td>0</td>\n",
       "      <td>7</td>\n",
       "      <td>0</td>\n",
       "      <td>2</td>\n",
       "      <td>1</td>\n",
       "      <td>1418569200</td>\n",
       "    </tr>\n",
       "    <tr>\n",
       "      <th>4902</th>\n",
       "      <td>9398</td>\n",
       "      <td>411</td>\n",
       "      <td>26</td>\n",
       "      <td>36</td>\n",
       "      <td>0</td>\n",
       "      <td>0</td>\n",
       "      <td>23869</td>\n",
       "      <td>193</td>\n",
       "      <td>70</td>\n",
       "      <td>0</td>\n",
       "      <td>2</td>\n",
       "      <td>0</td>\n",
       "      <td>297</td>\n",
       "      <td>116</td>\n",
       "      <td>2</td>\n",
       "      <td>1</td>\n",
       "      <td>1416812400</td>\n",
       "    </tr>\n",
       "    <tr>\n",
       "      <th>4903</th>\n",
       "      <td>3527</td>\n",
       "      <td>0</td>\n",
       "      <td>31</td>\n",
       "      <td>5</td>\n",
       "      <td>0</td>\n",
       "      <td>0</td>\n",
       "      <td>282497</td>\n",
       "      <td>1052</td>\n",
       "      <td>340</td>\n",
       "      <td>0</td>\n",
       "      <td>2</td>\n",
       "      <td>0</td>\n",
       "      <td>135</td>\n",
       "      <td>1</td>\n",
       "      <td>0</td>\n",
       "      <td>0</td>\n",
       "      <td>1417266000</td>\n",
       "    </tr>\n",
       "    <tr>\n",
       "      <th>4904</th>\n",
       "      <td>1805</td>\n",
       "      <td>18</td>\n",
       "      <td>95</td>\n",
       "      <td>61</td>\n",
       "      <td>0</td>\n",
       "      <td>2</td>\n",
       "      <td>1779</td>\n",
       "      <td>46</td>\n",
       "      <td>13</td>\n",
       "      <td>0</td>\n",
       "      <td>9</td>\n",
       "      <td>0</td>\n",
       "      <td>151</td>\n",
       "      <td>6</td>\n",
       "      <td>4</td>\n",
       "      <td>0</td>\n",
       "      <td>1418724000</td>\n",
       "    </tr>\n",
       "    <tr>\n",
       "      <th>4905</th>\n",
       "      <td>3013</td>\n",
       "      <td>52</td>\n",
       "      <td>28</td>\n",
       "      <td>5</td>\n",
       "      <td>0</td>\n",
       "      <td>0</td>\n",
       "      <td>654</td>\n",
       "      <td>6</td>\n",
       "      <td>1</td>\n",
       "      <td>0</td>\n",
       "      <td>1</td>\n",
       "      <td>0</td>\n",
       "      <td>2</td>\n",
       "      <td>115</td>\n",
       "      <td>0</td>\n",
       "      <td>0</td>\n",
       "      <td>1417096800</td>\n",
       "    </tr>\n",
       "  </tbody>\n",
       "</table>\n",
       "<p>4906 rows × 17 columns</p>\n",
       "</div>"
      ],
      "text/plain": [
       "      user_action_count  user_lastday_count  user_buy_count  item_click_count  \\\n",
       "0                  1237                  16              27                 2   \n",
       "1                  3465                 104              43                 4   \n",
       "2                  7605                   7             293                15   \n",
       "3                  2096                   0              17                 3   \n",
       "4                  6516                 107              20                11   \n",
       "5                  2000                 142               6                 4   \n",
       "6                   220                   0               6               470   \n",
       "7                 11015                   0              67                 4   \n",
       "8                  3849                 124              36                 4   \n",
       "9                  4884                   0               6                 2   \n",
       "10                 1629                  16              10                 1   \n",
       "11                 5464                  30              35                 1   \n",
       "12                  196                   0               1                 2   \n",
       "13                 1372                  85              19                 2   \n",
       "14                 1481                   0               3               102   \n",
       "15                 3126                   0               6               103   \n",
       "16                 2223                 340               5                39   \n",
       "17                  471                   8               3                 1   \n",
       "18                  921                  47               2                 9   \n",
       "19                 4048                  51              40                 2   \n",
       "20                16092                1210               4                 1   \n",
       "21                 1253                  66               8                 5   \n",
       "22                 6463                 191              22                 5   \n",
       "23                 5738                 321              13                10   \n",
       "24                 1027                  51               6                 2   \n",
       "25                 5158                  75             110                 5   \n",
       "26                 2432                  40              24                 3   \n",
       "27                 1124                   4              15                 2   \n",
       "28                 1455                  34               0                 2   \n",
       "29                 1854                  86               0                 2   \n",
       "...                 ...                 ...             ...               ...   \n",
       "4876               1299                   7               3                 1   \n",
       "4877               1687                  66              29                42   \n",
       "4878               1963                  34              47                 2   \n",
       "4879               1743                  62              15                 3   \n",
       "4880               1956                  15              20                 6   \n",
       "4881               7487                 190              48                 4   \n",
       "4882               2380                  76              66                10   \n",
       "4883               2260                   0               4                41   \n",
       "4884                237                   0               0                 1   \n",
       "4885               1616                   4               4                 2   \n",
       "4886               2924                  91              44                 1   \n",
       "4887                952                 119               4                 6   \n",
       "4888                329                   0               5                 1   \n",
       "4889                 83                   0               2                 1   \n",
       "4890               2665                  14               4                 1   \n",
       "4891               1551                  19              47                 5   \n",
       "4892              16262                 378             127                 2   \n",
       "4893               4112                  34              17                 1   \n",
       "4894                895                  51              15                14   \n",
       "4895               5843                  47              12                 2   \n",
       "4896               5101                 193              20                 2   \n",
       "4897               1830                  94               8                 2   \n",
       "4898                 23                   0               0                 1   \n",
       "4899                503                   0               4                 5   \n",
       "4900               1311                  92               0                 1   \n",
       "4901                672                  58              23                51   \n",
       "4902               9398                 411              26                36   \n",
       "4903               3527                   0              31                 5   \n",
       "4904               1805                  18              95                61   \n",
       "4905               3013                  52              28                 5   \n",
       "\n",
       "      item_lastday_count  item_buy_count  cat_click_count  cat_buy_count  \\\n",
       "0                      0               0           307261            833   \n",
       "1                      0               0           122784            709   \n",
       "2                      1               1            25230            922   \n",
       "3                      0               0                8              0   \n",
       "4                      0               0           311285            838   \n",
       "5                      0               0            15246            131   \n",
       "6                      0               0           105625            357   \n",
       "7                      0               0            15782            144   \n",
       "8                      0               0            67255            405   \n",
       "9                      0               0           358271            802   \n",
       "10                     0               0             3153             71   \n",
       "11                     1               0             3705             60   \n",
       "12                     0               0             1442             26   \n",
       "13                     0               0             1228             13   \n",
       "14                     3               1             3712             13   \n",
       "15                     0               0            69780            340   \n",
       "16                     3               1              492             19   \n",
       "17                     0               0             9730            101   \n",
       "18                     0               0            60867            321   \n",
       "19                     0               0             4710              7   \n",
       "20                     0               0           128805            786   \n",
       "21                     0               0             4192             96   \n",
       "22                     2               0            83190            361   \n",
       "23                     1               0            72086            358   \n",
       "24                     0               0             4862            149   \n",
       "25                     0               0             3973             72   \n",
       "26                     0               0             7461            199   \n",
       "27                     0               0             4814             76   \n",
       "28                     0               0           105625            357   \n",
       "29                     0               0              192              5   \n",
       "...                  ...             ...              ...            ...   \n",
       "4876                   0               0            49904            539   \n",
       "4877                   0               2            15851            506   \n",
       "4878                   0               0            25894            389   \n",
       "4879                   0               0            29098            456   \n",
       "4880                   0               0           144267           1484   \n",
       "4881                   0               0             6496             91   \n",
       "4882                   0               0            21327            264   \n",
       "4883                   0               0           358271            802   \n",
       "4884                   0               0            17206             41   \n",
       "4885                   0               0            78163            593   \n",
       "4886                   0               0              270              2   \n",
       "4887                   0               0            48789            581   \n",
       "4888                   0               0             2763             23   \n",
       "4889                   0               0             6222             64   \n",
       "4890                   0               0             5371             78   \n",
       "4891                   0               0              874              7   \n",
       "4892                   0               0           168256            703   \n",
       "4893                   0               0           282497           1052   \n",
       "4894                   2               0            15802            233   \n",
       "4895                   0               0              647              4   \n",
       "4896                   0               0             7243             64   \n",
       "4897                   0               0            25090            315   \n",
       "4898                   0               0           358271            802   \n",
       "4899                   0               0            67255            405   \n",
       "4900                   0               0             1489              6   \n",
       "4901                   0               1             2797            100   \n",
       "4902                   0               0            23869            193   \n",
       "4903                   0               0           282497           1052   \n",
       "4904                   0               2             1779             46   \n",
       "4905                   0               0              654              6   \n",
       "\n",
       "      user_cat_count  user_cat_lastday_count  user_item_count  \\\n",
       "0                134                       0                2   \n",
       "1                 11                       0                3   \n",
       "2               2481                       6               10   \n",
       "3                  5                       0                3   \n",
       "4                952                       0                2   \n",
       "5                 15                       0                1   \n",
       "6                 42                       0                2   \n",
       "7                 10                       0                4   \n",
       "8                118                       0                2   \n",
       "9                368                       0                2   \n",
       "10                13                       0                1   \n",
       "11                 1                       1                1   \n",
       "12                 4                       0                2   \n",
       "13                12                       0                2   \n",
       "14                33                       0                2   \n",
       "15                 8                       0                1   \n",
       "16                13                       6                5   \n",
       "17                 1                       0                1   \n",
       "18               175                       4                4   \n",
       "19                48                       0                2   \n",
       "20               254                       7                1   \n",
       "21                23                       0                5   \n",
       "22               669                      52                2   \n",
       "23               559                     159                1   \n",
       "24                 2                       0                2   \n",
       "25                 9                       0                5   \n",
       "26                32                       4                3   \n",
       "27                12                       0                2   \n",
       "28               421                      32                2   \n",
       "29                54                       0                2   \n",
       "...              ...                     ...              ...   \n",
       "4876               3                       0                1   \n",
       "4877              65                       0                4   \n",
       "4878             477                       0                2   \n",
       "4879              43                       0                3   \n",
       "4880              90                       0                3   \n",
       "4881               6                       0                4   \n",
       "4882               8                       0                1   \n",
       "4883             584                       0                2   \n",
       "4884              74                       0                1   \n",
       "4885              84                       0                2   \n",
       "4886               1                       0                1   \n",
       "4887              22                       0                1   \n",
       "4888              16                       0                1   \n",
       "4889              35                       0                1   \n",
       "4890             219                       0                1   \n",
       "4891               2                       0                2   \n",
       "4892             511                      36                2   \n",
       "4893             354                       0                1   \n",
       "4894               7                       0                1   \n",
       "4895               2                       0                2   \n",
       "4896             356                       0                2   \n",
       "4897              54                       0                2   \n",
       "4898              10                       0                1   \n",
       "4899               8                       0                2   \n",
       "4900             588                       0                1   \n",
       "4901              13                       0                3   \n",
       "4902              70                       0                2   \n",
       "4903             340                       0                2   \n",
       "4904              13                       0                9   \n",
       "4905               1                       0                1   \n",
       "\n",
       "      user_item_lastday_count  user_add_car  user_add_star  item_added_car  \\\n",
       "0                           0           111             10               0   \n",
       "1                           0           186             20               0   \n",
       "2                           0           695            334               4   \n",
       "3                           0             5             14               0   \n",
       "4                           0            28              0               1   \n",
       "5                           0           167              5               0   \n",
       "6                           0             0              0               7   \n",
       "7                           0           131           1446               0   \n",
       "8                           0            68            223               0   \n",
       "9                           0           261              1               0   \n",
       "10                          0            26             20               0   \n",
       "11                          1            34            104               0   \n",
       "12                          0            39              1               1   \n",
       "13                          0            30             77               0   \n",
       "14                          0             0             45               3   \n",
       "15                          0            71              1               1   \n",
       "16                          3            82            215               6   \n",
       "17                          0             2             11               0   \n",
       "18                          0             3              5               0   \n",
       "19                          0           106             67               0   \n",
       "20                          0           347              2               0   \n",
       "21                          0            59              1               0   \n",
       "22                          0            27            364               1   \n",
       "23                          1           260              7               0   \n",
       "24                          0            10              2               0   \n",
       "25                          0           404              7               1   \n",
       "26                          0           110              4               0   \n",
       "27                          0            75              1               0   \n",
       "28                          0             2             49               0   \n",
       "29                          0             0             44               0   \n",
       "...                       ...           ...            ...             ...   \n",
       "4876                        0            95              0               0   \n",
       "4877                        0            33             98               3   \n",
       "4878                        0           275             99               0   \n",
       "4879                        0            26             43               0   \n",
       "4880                        0            20             29               0   \n",
       "4881                        0           387            238               0   \n",
       "4882                        0           218              1               0   \n",
       "4883                        0            58              0               0   \n",
       "4884                        0             0              0               0   \n",
       "4885                        0            33             31               0   \n",
       "4886                        0            47            169               0   \n",
       "4887                        0            14              0               0   \n",
       "4888                        0             2              0               0   \n",
       "4889                        0             2              0               0   \n",
       "4890                        0           167              1               0   \n",
       "4891                        0            28             36               0   \n",
       "4892                        0           602           1827               0   \n",
       "4893                        0            97            121               0   \n",
       "4894                        0             6             17               0   \n",
       "4895                        0            36             25               0   \n",
       "4896                        0            53             95               0   \n",
       "4897                        0             0             18               0   \n",
       "4898                        0             0              0               0   \n",
       "4899                        0             5              7               0   \n",
       "4900                        0             0              0               0   \n",
       "4901                        0             7              0               2   \n",
       "4902                        0           297            116               2   \n",
       "4903                        0           135              1               0   \n",
       "4904                        0           151              6               4   \n",
       "4905                        0             2            115               0   \n",
       "\n",
       "      item_added_start  user_item_lasttime  \n",
       "0                    0          1418342400  \n",
       "1                    0          1418367600  \n",
       "2                    0          1418702400  \n",
       "3                    0          1416312000  \n",
       "4                    0          1417492800  \n",
       "5                    0          1417086000  \n",
       "6                    1          1418270400  \n",
       "7                    1          1418378400  \n",
       "8                    0          1418220000  \n",
       "9                    0          1416319200  \n",
       "10                   0          1416722400  \n",
       "11                   0          1418824800  \n",
       "12                   0          1417309200  \n",
       "13                   0          1416906000  \n",
       "14                   3          1418400000  \n",
       "15                   3          1416286800  \n",
       "16                   3          1418785200  \n",
       "17                   0          1416751200  \n",
       "18                   0          1418130000  \n",
       "19                   0          1418508000  \n",
       "20                   0          1417744800  \n",
       "21                   0          1418608800  \n",
       "22                   0          1417705200  \n",
       "23                   0          1418828400  \n",
       "24                   0          1416384000  \n",
       "25                   0          1418734800  \n",
       "26                   0          1418706000  \n",
       "27                   0          1418655600  \n",
       "28                   0          1418310000  \n",
       "29                   0          1417575600  \n",
       "...                ...                 ...  \n",
       "4876                 0          1418684400  \n",
       "4877                 0          1417312800  \n",
       "4878                 1          1416632400  \n",
       "4879                 0          1416664800  \n",
       "4880                 1          1416297600  \n",
       "4881                 0          1418328000  \n",
       "4882                 0          1416535200  \n",
       "4883                 0          1417953600  \n",
       "4884                 0          1417784400  \n",
       "4885                 0          1417921200  \n",
       "4886                 0          1418713200  \n",
       "4887                 0          1418576400  \n",
       "4888                 0          1418130000  \n",
       "4889                 0          1418043600  \n",
       "4890                 0          1417352400  \n",
       "4891                 0          1417611600  \n",
       "4892                 1          1417032000  \n",
       "4893                 0          1416362400  \n",
       "4894                 1          1416758400  \n",
       "4895                 0          1417431600  \n",
       "4896                 0          1418137200  \n",
       "4897                 0          1418310000  \n",
       "4898                 0          1416880800  \n",
       "4899                 0          1418086800  \n",
       "4900                 0          1417755600  \n",
       "4901                 1          1418569200  \n",
       "4902                 1          1416812400  \n",
       "4903                 0          1417266000  \n",
       "4904                 0          1418724000  \n",
       "4905                 0          1417096800  \n",
       "\n",
       "[4906 rows x 17 columns]"
      ]
     },
     "execution_count": 20,
     "metadata": {},
     "output_type": "execute_result"
    }
   ],
   "source": [
    "data[[i for i in data.columns if i not in ['user_id','item_id','buy']]]"
   ]
  },
  {
   "cell_type": "code",
   "execution_count": 3,
   "metadata": {
    "collapsed": false
   },
   "outputs": [],
   "source": [
    "import model5 as model\n",
    "X = model.GetFeature(data)\n",
    "Y = data['buy'].as_matrix()"
   ]
  },
  {
   "cell_type": "code",
   "execution_count": 4,
   "metadata": {
    "collapsed": false,
    "scrolled": true
   },
   "outputs": [
    {
     "data": {
      "text/plain": [
       "array([[  1.19392247e+00,   2.58776404e+00,   5.89349611e-03],\n",
       "       [ -1.20397280e+00,  -1.20397280e+00,   8.29383886e-03],\n",
       "       [ -1.20397280e+00,  -1.20397280e+00,   2.14285714e-02],\n",
       "       [ -1.20397280e+00,  -1.20397280e+00,   1.75438596e-03],\n",
       "       [ -1.20397280e+00,  -1.20397280e+00,   1.33116883e-02],\n",
       "       [ -1.20397280e+00,   8.32909123e-01,   8.91632373e-03],\n",
       "       [ -1.20397280e+00,  -1.20397280e+00,   3.71900826e-02],\n",
       "       [ -1.20397280e+00,  -1.20397280e+00,   3.02395906e-03],\n",
       "       [ -1.20397280e+00,  -1.20397280e+00,   1.27024452e-03],\n",
       "       [ -1.20397280e+00,  -1.20397280e+00,   6.44641418e-03]])"
      ]
     },
     "execution_count": 4,
     "metadata": {},
     "output_type": "execute_result"
    }
   ],
   "source": [
    "X[:10]"
   ]
  },
  {
   "cell_type": "code",
   "execution_count": 23,
   "metadata": {
    "collapsed": false
   },
   "outputs": [],
   "source": [
    "import model5 as model\n",
    "reload(model)\n",
    "clf = model.GetModel()\n",
    "X,Y = model.GetData()\n",
    "pred = clf.predict(X)\n"
   ]
  },
  {
   "cell_type": "code",
   "execution_count": 24,
   "metadata": {
    "collapsed": false
   },
   "outputs": [
    {
     "name": "stdout",
     "output_type": "stream",
     "text": [
      "F1\tP\tR\n",
      "1.39\t1.07\t1.99\n",
      "\n",
      " \tF\tT\n",
      "N\t555\t4578467\n",
      "P\t296\t6\n",
      "best score 0.018542286307\n",
      "best parms {'C': 0.00046415888336127773, 'class_weight': {0: 1, 1: 100.0}}\n",
      "-3.50566581963 1.73643435987 -0.199353987403 0.0453562444182\n"
     ]
    }
   ],
   "source": [
    "import summary as smr\n",
    "reload(smr)\n",
    "smr.summary(Y, pred)\n",
    "smr.clf_summary(clf)"
   ]
  },
  {
   "cell_type": "code",
   "execution_count": 10,
   "metadata": {
    "collapsed": false
   },
   "outputs": [
    {
     "name": "stdout",
     "output_type": "stream",
     "text": [
      "[-0.16534085  1.45092141]\n"
     ]
    }
   ],
   "source": [
    "print clf.best_estimator_.coef_[0]"
   ]
  },
  {
   "cell_type": "code",
   "execution_count": 35,
   "metadata": {
    "collapsed": false
   },
   "outputs": [
    {
     "name": "stdout",
     "output_type": "stream",
     "text": [
      "302\n",
      "302 0\n"
     ]
    }
   ],
   "source": [
    "print np.sum(Y)\n",
    "print np.sum(Y[idx]), np.sum(Y[idx]==0)"
   ]
  },
  {
   "cell_type": "code",
   "execution_count": 36,
   "metadata": {
    "collapsed": false
   },
   "outputs": [
    {
     "data": {
      "text/plain": [
       "[mean: 0.00260, std: 0.00015, params: {'C': 9.9999999999999995e-07, 'class_weight': {0: 1, 1: 100.0}},\n",
       " mean: 0.00258, std: 0.00015, params: {'C': 9.9999999999999995e-07, 'class_weight': {0: 1, 1: 166.81005372000593}},\n",
       " mean: 0.00232, std: 0.00003, params: {'C': 9.9999999999999995e-07, 'class_weight': {0: 1, 1: 278.2559402207126}},\n",
       " mean: 0.00229, std: 0.00006, params: {'C': 9.9999999999999995e-07, 'class_weight': {0: 1, 1: 464.15888336127773}},\n",
       " mean: 0.00222, std: 0.00006, params: {'C': 9.9999999999999995e-07, 'class_weight': {0: 1, 1: 774.26368268112697}},\n",
       " mean: 0.00211, std: 0.00006, params: {'C': 9.9999999999999995e-07, 'class_weight': {0: 1, 1: 1291.5496650148841}},\n",
       " mean: 0.00202, std: 0.00006, params: {'C': 9.9999999999999995e-07, 'class_weight': {0: 1, 1: 2154.4346900318824}},\n",
       " mean: 0.00195, std: 0.00007, params: {'C': 9.9999999999999995e-07, 'class_weight': {0: 1, 1: 3593.8136638046258}},\n",
       " mean: 0.00185, std: 0.00008, params: {'C': 9.9999999999999995e-07, 'class_weight': {0: 1, 1: 5994.8425031894085}},\n",
       " mean: 0.00124, std: 0.00021, params: {'C': 9.9999999999999995e-07, 'class_weight': {0: 1, 1: 10000.0}},\n",
       " mean: 0.00455, std: 0.00030, params: {'C': 4.641588833612782e-06, 'class_weight': {0: 1, 1: 100.0}},\n",
       " mean: 0.00455, std: 0.00030, params: {'C': 4.641588833612782e-06, 'class_weight': {0: 1, 1: 166.81005372000593}},\n",
       " mean: 0.00455, std: 0.00030, params: {'C': 4.641588833612782e-06, 'class_weight': {0: 1, 1: 278.2559402207126}},\n",
       " mean: 0.00443, std: 0.00038, params: {'C': 4.641588833612782e-06, 'class_weight': {0: 1, 1: 464.15888336127773}},\n",
       " mean: 0.00327, std: 0.00041, params: {'C': 4.641588833612782e-06, 'class_weight': {0: 1, 1: 774.26368268112697}},\n",
       " mean: 0.00271, std: 0.00022, params: {'C': 4.641588833612782e-06, 'class_weight': {0: 1, 1: 1291.5496650148841}},\n",
       " mean: 0.00245, std: 0.00006, params: {'C': 4.641588833612782e-06, 'class_weight': {0: 1, 1: 2154.4346900318824}},\n",
       " mean: 0.00207, std: 0.00011, params: {'C': 4.641588833612782e-06, 'class_weight': {0: 1, 1: 3593.8136638046258}},\n",
       " mean: 0.00185, std: 0.00004, params: {'C': 4.641588833612782e-06, 'class_weight': {0: 1, 1: 5994.8425031894085}},\n",
       " mean: 0.00185, std: 0.00004, params: {'C': 4.641588833612782e-06, 'class_weight': {0: 1, 1: 10000.0}},\n",
       " mean: 0.01149, std: 0.00115, params: {'C': 2.1544346900318823e-05, 'class_weight': {0: 1, 1: 100.0}},\n",
       " mean: 0.01075, std: 0.00067, params: {'C': 2.1544346900318823e-05, 'class_weight': {0: 1, 1: 166.81005372000593}},\n",
       " mean: 0.00891, std: 0.00097, params: {'C': 2.1544346900318823e-05, 'class_weight': {0: 1, 1: 278.2559402207126}},\n",
       " mean: 0.00760, std: 0.00103, params: {'C': 2.1544346900318823e-05, 'class_weight': {0: 1, 1: 464.15888336127773}},\n",
       " mean: 0.00486, std: 0.00073, params: {'C': 2.1544346900318823e-05, 'class_weight': {0: 1, 1: 774.26368268112697}},\n",
       " mean: 0.00455, std: 0.00030, params: {'C': 2.1544346900318823e-05, 'class_weight': {0: 1, 1: 1291.5496650148841}},\n",
       " mean: 0.00249, std: 0.00003, params: {'C': 2.1544346900318823e-05, 'class_weight': {0: 1, 1: 2154.4346900318824}},\n",
       " mean: 0.00234, std: 0.00013, params: {'C': 2.1544346900318823e-05, 'class_weight': {0: 1, 1: 3593.8136638046258}},\n",
       " mean: 0.00185, std: 0.00004, params: {'C': 2.1544346900318823e-05, 'class_weight': {0: 1, 1: 5994.8425031894085}},\n",
       " mean: 0.00185, std: 0.00004, params: {'C': 2.1544346900318823e-05, 'class_weight': {0: 1, 1: 10000.0}},\n",
       " mean: 0.01830, std: 0.00172, params: {'C': 0.0001, 'class_weight': {0: 1, 1: 100.0}},\n",
       " mean: 0.01556, std: 0.00249, params: {'C': 0.0001, 'class_weight': {0: 1, 1: 166.81005372000593}},\n",
       " mean: 0.01172, std: 0.00154, params: {'C': 0.0001, 'class_weight': {0: 1, 1: 278.2559402207126}},\n",
       " mean: 0.00895, std: 0.00090, params: {'C': 0.0001, 'class_weight': {0: 1, 1: 464.15888336127773}},\n",
       " mean: 0.00650, std: 0.00052, params: {'C': 0.0001, 'class_weight': {0: 1, 1: 774.26368268112697}},\n",
       " mean: 0.00416, std: 0.00026, params: {'C': 0.0001, 'class_weight': {0: 1, 1: 1291.5496650148841}},\n",
       " mean: 0.00257, std: 0.00014, params: {'C': 0.0001, 'class_weight': {0: 1, 1: 2154.4346900318824}},\n",
       " mean: 0.00245, std: 0.00004, params: {'C': 0.0001, 'class_weight': {0: 1, 1: 3593.8136638046258}},\n",
       " mean: 0.00187, std: 0.00006, params: {'C': 0.0001, 'class_weight': {0: 1, 1: 5994.8425031894085}},\n",
       " mean: 0.00185, std: 0.00004, params: {'C': 0.0001, 'class_weight': {0: 1, 1: 10000.0}},\n",
       " mean: 0.01854, std: 0.00961, params: {'C': 0.00046415888336127773, 'class_weight': {0: 1, 1: 100.0}},\n",
       " mean: 0.01584, std: 0.00123, params: {'C': 0.00046415888336127773, 'class_weight': {0: 1, 1: 166.81005372000593}},\n",
       " mean: 0.01288, std: 0.00073, params: {'C': 0.00046415888336127773, 'class_weight': {0: 1, 1: 278.2559402207126}},\n",
       " mean: 0.00997, std: 0.00118, params: {'C': 0.00046415888336127773, 'class_weight': {0: 1, 1: 464.15888336127773}},\n",
       " mean: 0.00671, std: 0.00044, params: {'C': 0.00046415888336127773, 'class_weight': {0: 1, 1: 774.26368268112697}},\n",
       " mean: 0.00417, std: 0.00024, params: {'C': 0.00046415888336127773, 'class_weight': {0: 1, 1: 1291.5496650148841}},\n",
       " mean: 0.00259, std: 0.00016, params: {'C': 0.00046415888336127773, 'class_weight': {0: 1, 1: 2154.4346900318824}},\n",
       " mean: 0.00240, std: 0.00004, params: {'C': 0.00046415888336127773, 'class_weight': {0: 1, 1: 3593.8136638046258}},\n",
       " mean: 0.00188, std: 0.00007, params: {'C': 0.00046415888336127773, 'class_weight': {0: 1, 1: 5994.8425031894085}},\n",
       " mean: 0.00185, std: 0.00004, params: {'C': 0.00046415888336127773, 'class_weight': {0: 1, 1: 10000.0}},\n",
       " mean: 0.01232, std: 0.00930, params: {'C': 0.0021544346900318821, 'class_weight': {0: 1, 1: 100.0}},\n",
       " mean: 0.01737, std: 0.00115, params: {'C': 0.0021544346900318821, 'class_weight': {0: 1, 1: 166.81005372000593}},\n",
       " mean: 0.01303, std: 0.00070, params: {'C': 0.0021544346900318821, 'class_weight': {0: 1, 1: 278.2559402207126}},\n",
       " mean: 0.01008, std: 0.00094, params: {'C': 0.0021544346900318821, 'class_weight': {0: 1, 1: 464.15888336127773}},\n",
       " mean: 0.00693, std: 0.00058, params: {'C': 0.0021544346900318821, 'class_weight': {0: 1, 1: 774.26368268112697}},\n",
       " mean: 0.00421, std: 0.00021, params: {'C': 0.0021544346900318821, 'class_weight': {0: 1, 1: 1291.5496650148841}},\n",
       " mean: 0.00260, std: 0.00017, params: {'C': 0.0021544346900318821, 'class_weight': {0: 1, 1: 2154.4346900318824}},\n",
       " mean: 0.00237, std: 0.00004, params: {'C': 0.0021544346900318821, 'class_weight': {0: 1, 1: 3593.8136638046258}},\n",
       " mean: 0.00188, std: 0.00008, params: {'C': 0.0021544346900318821, 'class_weight': {0: 1, 1: 5994.8425031894085}},\n",
       " mean: 0.00183, std: 0.00003, params: {'C': 0.0021544346900318821, 'class_weight': {0: 1, 1: 10000.0}},\n",
       " mean: 0.01282, std: 0.00959, params: {'C': 0.01, 'class_weight': {0: 1, 1: 100.0}},\n",
       " mean: 0.01682, std: 0.00262, params: {'C': 0.01, 'class_weight': {0: 1, 1: 166.81005372000593}},\n",
       " mean: 0.01346, std: 0.00040, params: {'C': 0.01, 'class_weight': {0: 1, 1: 278.2559402207126}},\n",
       " mean: 0.01035, std: 0.00116, params: {'C': 0.01, 'class_weight': {0: 1, 1: 464.15888336127773}},\n",
       " mean: 0.00716, std: 0.00045, params: {'C': 0.01, 'class_weight': {0: 1, 1: 774.26368268112697}},\n",
       " mean: 0.00415, std: 0.00009, params: {'C': 0.01, 'class_weight': {0: 1, 1: 1291.5496650148841}},\n",
       " mean: 0.00260, std: 0.00019, params: {'C': 0.01, 'class_weight': {0: 1, 1: 2154.4346900318824}},\n",
       " mean: 0.00232, std: 0.00008, params: {'C': 0.01, 'class_weight': {0: 1, 1: 3593.8136638046258}},\n",
       " mean: 0.00179, std: 0.00008, params: {'C': 0.01, 'class_weight': {0: 1, 1: 5994.8425031894085}},\n",
       " mean: 0.00156, std: 0.00004, params: {'C': 0.01, 'class_weight': {0: 1, 1: 10000.0}},\n",
       " mean: 0.01229, std: 0.00922, params: {'C': 0.046415888336127725, 'class_weight': {0: 1, 1: 100.0}},\n",
       " mean: 0.01723, std: 0.00353, params: {'C': 0.046415888336127725, 'class_weight': {0: 1, 1: 166.81005372000593}},\n",
       " mean: 0.01376, std: 0.00102, params: {'C': 0.046415888336127725, 'class_weight': {0: 1, 1: 278.2559402207126}},\n",
       " mean: 0.01003, std: 0.00103, params: {'C': 0.046415888336127725, 'class_weight': {0: 1, 1: 464.15888336127773}},\n",
       " mean: 0.00703, std: 0.00045, params: {'C': 0.046415888336127725, 'class_weight': {0: 1, 1: 774.26368268112697}},\n",
       " mean: 0.00410, std: 0.00026, params: {'C': 0.046415888336127725, 'class_weight': {0: 1, 1: 1291.5496650148841}},\n",
       " mean: 0.00267, std: 0.00019, params: {'C': 0.046415888336127725, 'class_weight': {0: 1, 1: 2154.4346900318824}},\n",
       " mean: 0.00210, std: 0.00006, params: {'C': 0.046415888336127725, 'class_weight': {0: 1, 1: 3593.8136638046258}},\n",
       " mean: 0.00164, std: 0.00007, params: {'C': 0.046415888336127725, 'class_weight': {0: 1, 1: 5994.8425031894085}},\n",
       " mean: 0.00137, std: 0.00007, params: {'C': 0.046415888336127725, 'class_weight': {0: 1, 1: 10000.0}},\n",
       " mean: 0.00897, std: 0.00851, params: {'C': 0.21544346900318823, 'class_weight': {0: 1, 1: 100.0}},\n",
       " mean: 0.01529, std: 0.00585, params: {'C': 0.21544346900318823, 'class_weight': {0: 1, 1: 166.81005372000593}},\n",
       " mean: 0.01370, std: 0.00075, params: {'C': 0.21544346900318823, 'class_weight': {0: 1, 1: 278.2559402207126}},\n",
       " mean: 0.00861, std: 0.00145, params: {'C': 0.21544346900318823, 'class_weight': {0: 1, 1: 464.15888336127773}},\n",
       " mean: 0.00665, std: 0.00054, params: {'C': 0.21544346900318823, 'class_weight': {0: 1, 1: 774.26368268112697}},\n",
       " mean: 0.00388, std: 0.00029, params: {'C': 0.21544346900318823, 'class_weight': {0: 1, 1: 1291.5496650148841}},\n",
       " mean: 0.00246, std: 0.00020, params: {'C': 0.21544346900318823, 'class_weight': {0: 1, 1: 2154.4346900318824}},\n",
       " mean: 0.00199, std: 0.00008, params: {'C': 0.21544346900318823, 'class_weight': {0: 1, 1: 3593.8136638046258}},\n",
       " mean: 0.00155, std: 0.00005, params: {'C': 0.21544346900318823, 'class_weight': {0: 1, 1: 5994.8425031894085}},\n",
       " mean: 0.00127, std: 0.00007, params: {'C': 0.21544346900318823, 'class_weight': {0: 1, 1: 10000.0}},\n",
       " mean: 0.01021, std: 0.00723, params: {'C': 1.0, 'class_weight': {0: 1, 1: 100.0}},\n",
       " mean: 0.01576, std: 0.00470, params: {'C': 1.0, 'class_weight': {0: 1, 1: 166.81005372000593}},\n",
       " mean: 0.01162, std: 0.00132, params: {'C': 1.0, 'class_weight': {0: 1, 1: 278.2559402207126}},\n",
       " mean: 0.00790, std: 0.00162, params: {'C': 1.0, 'class_weight': {0: 1, 1: 464.15888336127773}},\n",
       " mean: 0.00629, std: 0.00056, params: {'C': 1.0, 'class_weight': {0: 1, 1: 774.26368268112697}},\n",
       " mean: 0.00378, std: 0.00028, params: {'C': 1.0, 'class_weight': {0: 1, 1: 1291.5496650148841}},\n",
       " mean: 0.00243, std: 0.00017, params: {'C': 1.0, 'class_weight': {0: 1, 1: 2154.4346900318824}},\n",
       " mean: 0.00197, std: 0.00006, params: {'C': 1.0, 'class_weight': {0: 1, 1: 3593.8136638046258}},\n",
       " mean: 0.00152, std: 0.00006, params: {'C': 1.0, 'class_weight': {0: 1, 1: 5994.8425031894085}},\n",
       " mean: 0.00129, std: 0.00006, params: {'C': 1.0, 'class_weight': {0: 1, 1: 10000.0}}]"
      ]
     },
     "execution_count": 36,
     "metadata": {},
     "output_type": "execute_result"
    }
   ],
   "source": [
    "clf.grid_scores_"
   ]
  },
  {
   "cell_type": "code",
   "execution_count": 5,
   "metadata": {
    "collapsed": false
   },
   "outputs": [
    {
     "data": {
      "text/plain": [
       "0    3539017\n",
       "1        574\n",
       "dtype: int64"
      ]
     },
     "execution_count": 5,
     "metadata": {},
     "output_type": "execute_result"
    }
   ],
   "source": [
    "data['buy'].value_counts()"
   ]
  },
  {
   "cell_type": "code",
   "execution_count": 6,
   "metadata": {
    "collapsed": false
   },
   "outputs": [],
   "source": [
    "counts = data['user_item_lastday_count'].value_counts()"
   ]
  },
  {
   "cell_type": "code",
   "execution_count": 33,
   "metadata": {
    "collapsed": false
   },
   "outputs": [
    {
     "data": {
      "text/plain": [
       "array([[ 1.        ,  0.41131407],\n",
       "       [ 0.41131407,  1.        ]])"
      ]
     },
     "execution_count": 33,
     "metadata": {},
     "output_type": "execute_result"
    }
   ],
   "source": [
    "np.corrcoef(X[:,0], X[:,1])"
   ]
  },
  {
   "cell_type": "code",
   "execution_count": null,
   "metadata": {
    "collapsed": false
   },
   "outputs": [],
   "source": [
    "clf.fit(X,Y)"
   ]
  },
  {
   "cell_type": "code",
   "execution_count": 43,
   "metadata": {
    "collapsed": false
   },
   "outputs": [],
   "source": [
    "import imp\n",
    "fp, pathname, description = imp.find_module('model5')\n",
    "model = imp.load_module('model5', fp, pathname, description)"
   ]
  },
  {
   "cell_type": "code",
   "execution_count": 51,
   "metadata": {
    "collapsed": false
   },
   "outputs": [],
   "source": [
    "fp.close()"
   ]
  },
  {
   "cell_type": "code",
   "execution_count": 35,
   "metadata": {
    "collapsed": true
   },
   "outputs": [],
   "source": [
    "import pickle\n",
    "f = open('model1.model','rb')\n",
    "clf = pickle.load(f)\n",
    "f.close()"
   ]
  },
  {
   "cell_type": "code",
   "execution_count": 13,
   "metadata": {
    "collapsed": false
   },
   "outputs": [
    {
     "data": {
      "text/plain": [
       "{'C': 0.0021544346900318821, 'class_weight': {0: 1, 1: 120}}"
      ]
     },
     "execution_count": 13,
     "metadata": {},
     "output_type": "execute_result"
    }
   ],
   "source": [
    "clf.best_params_"
   ]
  },
  {
   "cell_type": "code",
   "execution_count": 8,
   "metadata": {
    "collapsed": false
   },
   "outputs": [
    {
     "name": "stdout",
     "output_type": "stream",
     "text": [
      "[-3.33515274] [[ 1.44801788]]\n",
      "2.02360876897\n"
     ]
    }
   ],
   "source": [
    "clf = LogisticRegression(class_weight={0:1,1:120}, C=0.0021544346900318821)\n",
    "clf.fit(X,Y)\n",
    "print clf.intercept_,clf.coef_\n",
    "print f1_score(Y, clf.predict(X))*100"
   ]
  },
  {
   "cell_type": "code",
   "execution_count": 42,
   "metadata": {
    "collapsed": false
   },
   "outputs": [
    {
     "data": {
      "text/plain": [
       "302"
      ]
     },
     "execution_count": 42,
     "metadata": {},
     "output_type": "execute_result"
    }
   ],
   "source": [
    "np.sum(Y)"
   ]
  },
  {
   "cell_type": "code",
   "execution_count": 29,
   "metadata": {
    "collapsed": false
   },
   "outputs": [
    {
     "name": "stdout",
     "output_type": "stream",
     "text": [
      "0.0209094022246 {'C': 0.00021544346900318845, 'class_weight': {0: 1, 1: 100}}\n"
     ]
    }
   ],
   "source": [
    "print clf.best_score_,clf.best_params_"
   ]
  },
  {
   "cell_type": "code",
   "execution_count": 25,
   "metadata": {
    "collapsed": false
   },
   "outputs": [
    {
     "name": "stdout",
     "output_type": "stream",
     "text": [
      "87\n",
      "186\n",
      "0.0574712643678 0.0268817204301\n",
      "0.03663003663\n"
     ]
    }
   ],
   "source": [
    "print np.sum(Y)\n",
    "predX = clf.predict(X)\n",
    "print np.sum(predX)\n",
    "print sklearn.metrics.recall_score(Y, predX), sklearn.metrics.precision_score(Y, predX)\n",
    "print f1_score(Y, predX)"
   ]
  },
  {
   "cell_type": "code",
   "execution_count": 23,
   "metadata": {
    "collapsed": false
   },
   "outputs": [
    {
     "name": "stdout",
     "output_type": "stream",
     "text": [
      "358\n"
     ]
    }
   ],
   "source": [
    "print np.sum(clf.predict(X_test))"
   ]
  },
  {
   "cell_type": "code",
   "execution_count": 22,
   "metadata": {
    "collapsed": false
   },
   "outputs": [
    {
     "name": "stdout",
     "output_type": "stream",
     "text": [
      "[-4.57766365] [[ 0.65020026  1.34236491]]\n"
     ]
    }
   ],
   "source": [
    "print clf.intercept_,clf.coef_"
   ]
  },
  {
   "cell_type": "code",
   "execution_count": 12,
   "metadata": {
    "collapsed": false
   },
   "outputs": [],
   "source": [
    "y = np.zeros(20)\n",
    "t = np.linspace(5,100,20)\n",
    "for i in range(20):\n",
    "    y[i] = f1_score(Y,X[:,0]>np.log(0.3+t[i]))\n"
   ]
  },
  {
   "cell_type": "code",
   "execution_count": 13,
   "metadata": {
    "collapsed": false
   },
   "outputs": [
    {
     "data": {
      "text/plain": [
       "<matplotlib.axes._subplots.AxesSubplot at 0x2012b3d0>"
      ]
     },
     "execution_count": 13,
     "metadata": {},
     "output_type": "execute_result"
    },
    {
     "data": {
      "image/png": "[encoded data removed]",
      "text/plain": [
       "<matplotlib.figure.Figure at 0x2012b030>"
      ]
     },
     "metadata": {},
     "output_type": "display_data"
    }
   ],
   "source": [
    "%matplotlib inline\n",
    "pandas.DataFrame(y*100).plot()"
   ]
  },
  {
   "cell_type": "code",
   "execution_count": 16,
   "metadata": {
    "collapsed": false
   },
   "outputs": [
    {
     "name": "stdout",
     "output_type": "stream",
     "text": [
      "30.0 0.0019305019305\n",
      "0.0\n"
     ]
    }
   ],
   "source": [
    "print t[5],y[5]\n",
    "# print X_test\n",
    "print f1_score(Y_test,(X_test['user_item_count']>t[3]))"
   ]
  },
  {
   "cell_type": "code",
   "execution_count": 5,
   "metadata": {
    "collapsed": false
   },
   "outputs": [
    {
     "name": "stdout",
     "output_type": "stream",
     "text": [
      "GridSearchCV(cv=None, error_score='raise',\n",
      "       estimator=LogisticRegression(C=1.0, class_weight=None, dual=False, fit_intercept=True,\n",
      "          intercept_scaling=1, max_iter=100, multi_class='ovr',\n",
      "          penalty='l2', random_state=None, solver='liblinear', tol=0.0001,\n",
      "          verbose=0),\n",
      "       fit_params={}, iid=True, loss_func=None, n_jobs=16,\n",
      "       param_grid={'C': array([  1.00000e-06,   5.99484e-06,   3.59381e-05,   2.15443e-04,\n",
      "         1.29155e-03,   7.74264e-03,   4.64159e-02,   2.78256e-01,\n",
      "         1.66810e+00,   1.00000e+01]), 'class_weight': [{0: 1, 1: 2}, {0: 1, 1: 10}, {0: 1, 1: 30}, {0: 1, 1: 100}, {0: 1, 1: 300}, {0: 1, 1: 1000}]},\n",
      "       pre_dispatch='2*n_jobs', refit=True, score_func=None, scoring='f1',\n",
      "       verbose=0)\n"
     ]
    }
   ],
   "source": [
    "import pickle\n",
    "with open('model3.model','rb') as f:\n",
    "    clf = pickle.load(f)\n",
    "print clf"
   ]
  },
  {
   "cell_type": "code",
   "execution_count": 18,
   "metadata": {
    "collapsed": false
   },
   "outputs": [
    {
     "name": "stdout",
     "output_type": "stream",
     "text": [
      "1.00400405829\n",
      "{'C': 0.001291549665014884, 'class_weight': {0: 1, 1: 100}}\n"
     ]
    }
   ],
   "source": [
    "print clf.best_score_*100\n",
    "print clf.best_params_"
   ]
  },
  {
   "cell_type": "code",
   "execution_count": 15,
   "metadata": {
    "collapsed": true
   },
   "outputs": [],
   "source": [
    "est = clf.estimator"
   ]
  },
  {
   "cell_type": "code",
   "execution_count": 16,
   "metadata": {
    "collapsed": false
   },
   "outputs": [
    {
     "name": "stdout",
     "output_type": "stream",
     "text": [
      "0.0194432169686\n",
      "[0 0 0 ..., 0 0 0]\n"
     ]
    }
   ],
   "source": [
    "print clf.score(X,Y)\n",
    "print clf.predict(X)"
   ]
  },
  {
   "cell_type": "code",
   "execution_count": 22,
   "metadata": {
    "collapsed": false
   },
   "outputs": [
    {
     "data": {
      "text/plain": [
       "LogisticRegression(C=1.0, class_weight=None, dual=False, fit_intercept=True,\n",
       "          intercept_scaling=1, max_iter=100, multi_class='ovr',\n",
       "          penalty='l2', random_state=None, solver='liblinear', tol=0.0001,\n",
       "          verbose=0)"
      ]
     },
     "execution_count": 22,
     "metadata": {},
     "output_type": "execute_result"
    }
   ],
   "source": [
    "clf.estimator"
   ]
  },
  {
   "cell_type": "code",
   "execution_count": 34,
   "metadata": {
    "collapsed": false
   },
   "outputs": [
    {
     "data": {
      "text/plain": [
       "0    1179196\n",
       "1        215\n",
       "dtype: int64"
      ]
     },
     "execution_count": 34,
     "metadata": {},
     "output_type": "execute_result"
    }
   ],
   "source": [
    "data_test['buy'].value_counts()"
   ]
  },
  {
   "cell_type": "code",
   "execution_count": 47,
   "metadata": {
    "collapsed": false
   },
   "outputs": [
    {
     "data": {
      "text/plain": [
       "0.99981770561746497"
      ]
     },
     "execution_count": 47,
     "metadata": {},
     "output_type": "execute_result"
    }
   ],
   "source": [
    "clf.score(X_test,Y_test)"
   ]
  },
  {
   "cell_type": "code",
   "execution_count": 49,
   "metadata": {
    "collapsed": false
   },
   "outputs": [
    {
     "data": {
      "text/plain": [
       "array([0, 0, 0, ..., 0, 0, 0], dtype=int64)"
      ]
     },
     "execution_count": 49,
     "metadata": {},
     "output_type": "execute_result"
    }
   ],
   "source": [
    "pred = clf.predict(X_test)\n",
    "pred"
   ]
  },
  {
   "cell_type": "code",
   "execution_count": 22,
   "metadata": {
    "collapsed": false
   },
   "outputs": [
    {
     "data": {
      "text/plain": [
       "0.019891500904159132"
      ]
     },
     "execution_count": 22,
     "metadata": {},
     "output_type": "execute_result"
    }
   ],
   "source": [
    "f1_score(Y_test,pred)"
   ]
  },
  {
   "cell_type": "code",
   "execution_count": 38,
   "metadata": {
    "collapsed": false
   },
   "outputs": [
    {
     "data": {
      "text/plain": [
       "0.99981770561746497"
      ]
     },
     "execution_count": 38,
     "metadata": {},
     "output_type": "execute_result"
    }
   ],
   "source": [
    "np.mean(data_test['buy']==0)"
   ]
  },
  {
   "cell_type": "code",
   "execution_count": 23,
   "metadata": {
    "collapsed": false
   },
   "outputs": [
    {
     "data": {
      "text/plain": [
       "0.99871800415631196"
      ]
     },
     "execution_count": 23,
     "metadata": {},
     "output_type": "execute_result"
    }
   ],
   "source": [
    "np.mean(pred[:,0]>0.995)"
   ]
  },
  {
   "cell_type": "code",
   "execution_count": 65,
   "metadata": {
    "collapsed": false
   },
   "outputs": [
    {
     "data": {
      "text/plain": [
       "0    3539017\n",
       "1        574\n",
       "dtype: int64"
      ]
     },
     "execution_count": 65,
     "metadata": {},
     "output_type": "execute_result"
    }
   ],
   "source": [
    "data['buy'].value_counts()"
   ]
  },
  {
   "cell_type": "code",
   "execution_count": 1,
   "metadata": {
    "collapsed": false
   },
   "outputs": [
    {
     "ename": "NameError",
     "evalue": "name 'pandas' is not defined",
     "output_type": "error",
     "traceback": [
      "\u001b[1;31m---------------------------------------------------------------------------\u001b[0m",
      "\u001b[1;31mNameError\u001b[0m                                 Traceback (most recent call last)",
      "\u001b[1;32m<ipython-input-1-19fa448bebe7>\u001b[0m in \u001b[0;36m<module>\u001b[1;34m()\u001b[0m\n\u001b[1;32m----> 1\u001b[1;33m \u001b[0mdata_pred\u001b[0m \u001b[1;33m=\u001b[0m \u001b[0mpandas\u001b[0m\u001b[1;33m.\u001b[0m\u001b[0mread_csv\u001b[0m\u001b[1;33m(\u001b[0m\u001b[1;34m'data.csv'\u001b[0m\u001b[1;33m)\u001b[0m\u001b[1;33m\u001b[0m\u001b[0m\n\u001b[0m\u001b[0;32m      2\u001b[0m \u001b[0mX_pred\u001b[0m\u001b[1;33m=\u001b[0m\u001b[0mnp\u001b[0m\u001b[1;33m.\u001b[0m\u001b[0mlog\u001b[0m\u001b[1;33m(\u001b[0m\u001b[1;36m0.3\u001b[0m\u001b[1;33m+\u001b[0m\u001b[0mdata_pred\u001b[0m\u001b[1;33m[\u001b[0m\u001b[1;33m[\u001b[0m\u001b[1;34m'user_item_count'\u001b[0m\u001b[1;33m,\u001b[0m\u001b[1;34m'user_item_lastday_count'\u001b[0m\u001b[1;33m]\u001b[0m\u001b[1;33m]\u001b[0m\u001b[1;33m)\u001b[0m\u001b[1;33m\u001b[0m\u001b[0m\n\u001b[0;32m      3\u001b[0m \u001b[0mY_pred\u001b[0m\u001b[1;33m=\u001b[0m\u001b[0mdata_pred\u001b[0m\u001b[1;33m[\u001b[0m\u001b[1;34m'buy'\u001b[0m\u001b[1;33m]\u001b[0m\u001b[1;33m\u001b[0m\u001b[0m\n",
      "\u001b[1;31mNameError\u001b[0m: name 'pandas' is not defined"
     ]
    }
   ],
   "source": [
    "data_pred = pandas.read_csv('data.csv')\n",
    "X_pred=np.log(0.3+data_pred[['user_item_count','user_item_lastday_count']])\n",
    "Y_pred=data_pred['buy']"
   ]
  },
  {
   "cell_type": "code",
   "execution_count": 7,
   "metadata": {
    "collapsed": false
   },
   "outputs": [
    {
     "data": {
      "text/plain": [
       "array([5, 6])"
      ]
     },
     "execution_count": 7,
     "metadata": {},
     "output_type": "execute_result"
    }
   ],
   "source": [
    "np.array([1,2])+4"
   ]
  },
  {
   "cell_type": "code",
   "execution_count": 8,
   "metadata": {
    "collapsed": true
   },
   "outputs": [],
   "source": [
    "items = pandas.read_csv('tianchi_mobile_recommend_train_item.csv')\n"
   ]
  },
  {
   "cell_type": "code",
   "execution_count": 14,
   "metadata": {
    "collapsed": false
   },
   "outputs": [],
   "source": [
    "tids=items['item_id']"
   ]
  },
  {
   "cell_type": "code",
   "execution_count": 30,
   "metadata": {
    "collapsed": false
   },
   "outputs": [
    {
     "data": {
      "text/plain": [
       "327414838"
      ]
     },
     "execution_count": 30,
     "metadata": {},
     "output_type": "execute_result"
    }
   ],
   "source": [
    "tids[0]"
   ]
  },
  {
   "cell_type": "code",
   "execution_count": 32,
   "metadata": {
    "collapsed": false
   },
   "outputs": [
    {
     "data": {
      "text/plain": [
       "False"
      ]
     },
     "execution_count": 32,
     "metadata": {},
     "output_type": "execute_result"
    }
   ],
   "source": [
    "'327414838' in list(tids)"
   ]
  },
  {
   "cell_type": "code",
   "execution_count": 14,
   "metadata": {
    "collapsed": true
   },
   "outputs": [],
   "source": [
    "items = pandas.read_csv('tianchi_mobile_recommend_train_item.csv')"
   ]
  },
  {
   "cell_type": "code",
   "execution_count": 17,
   "metadata": {
    "collapsed": false
   },
   "outputs": [],
   "source": [
    "nrow = 10000\n",
    "start = 0\n",
    "fr = pandas.read_csv('feature.csv',iterator=True)"
   ]
  },
  {
   "cell_type": "code",
   "execution_count": 43,
   "metadata": {
    "collapsed": false
   },
   "outputs": [
    {
     "data": {
      "text/plain": [
       "True"
      ]
     },
     "execution_count": 43,
     "metadata": {},
     "output_type": "execute_result"
    }
   ],
   "source": [
    "'buy' in data.keys()"
   ]
  },
  {
   "cell_type": "code",
   "execution_count": 25,
   "metadata": {
    "collapsed": false
   },
   "outputs": [],
   "source": [
    "if 0:\n",
    "    print 111"
   ]
  },
  {
   "cell_type": "code",
   "execution_count": 10,
   "metadata": {
    "collapsed": false
   },
   "outputs": [
    {
     "ename": "TypeError",
     "evalue": "list indices must be integers, not tuple",
     "output_type": "error",
     "traceback": [
      "\u001b[1;31m---------------------------------------------------------------------------\u001b[0m",
      "\u001b[1;31mTypeError\u001b[0m                                 Traceback (most recent call last)",
      "\u001b[1;32m<ipython-input-10-4b514b89e76d>\u001b[0m in \u001b[0;36m<module>\u001b[1;34m()\u001b[0m\n\u001b[0;32m      1\u001b[0m \u001b[0marr\u001b[0m\u001b[1;33m=\u001b[0m\u001b[1;33m[\u001b[0m\u001b[1;36m1\u001b[0m\u001b[1;33m,\u001b[0m\u001b[1;36m2\u001b[0m\u001b[1;33m,\u001b[0m\u001b[1;36m3\u001b[0m\u001b[1;33m,\u001b[0m\u001b[1;36m4\u001b[0m\u001b[1;33m,\u001b[0m\u001b[1;36m5\u001b[0m\u001b[1;33m,\u001b[0m\u001b[1;36m6\u001b[0m\u001b[1;33m]\u001b[0m\u001b[1;33m\u001b[0m\u001b[0m\n\u001b[1;32m----> 2\u001b[1;33m \u001b[0marr\u001b[0m\u001b[1;33m[\u001b[0m\u001b[1;36m1\u001b[0m\u001b[1;33m,\u001b[0m\u001b[1;36m2\u001b[0m\u001b[1;33m]\u001b[0m\u001b[1;33m\u001b[0m\u001b[0m\n\u001b[0m",
      "\u001b[1;31mTypeError\u001b[0m: list indices must be integers, not tuple"
     ]
    }
   ],
   "source": [
    "arr=[1,2,3,4,5,6]\n",
    "arr[1,2]"
   ]
  },
  {
   "cell_type": "code",
   "execution_count": 160,
   "metadata": {
    "collapsed": true
   },
   "outputs": [],
   "source": [
    "fr = pandas.read_csv('data.csv', iterator=True, chunksize=1)"
   ]
  },
  {
   "cell_type": "code",
   "execution_count": 161,
   "metadata": {
    "collapsed": false
   },
   "outputs": [
    {
     "name": "stdout",
     "output_type": "stream",
     "text": [
      "user_id\n",
      "item_id\n",
      "user_action_count\n",
      "user_lastday_count\n",
      "user_buy_count\n",
      "item_click_count\n",
      "item_lastday_count\n",
      "item_buy_count\n",
      "cat_click_count\n",
      "cat_buy_count\n",
      "user_cat_count\n",
      "user_cat_lastday_count\n",
      "user_item_count\n",
      "user_item_lastday_count\n",
      "user_add_car\n",
      "user_add_star\n",
      "item_added_car\n",
      "item_added_start\n",
      "user_item_lasttime\n",
      "cat_add_car\n",
      "cat_add_star\n",
      "user_item_buy\n",
      "user_item_lastweek_click\n",
      "user_item_lastweek_star\n",
      "user_item_lastweek_add_car\n",
      "user_item_lastweek_buy\n",
      "user_item_halfmonth_click\n",
      "user_item_halfmonth_star\n",
      "user_item_halfmonth_add_car\n",
      "user_item_halfmonth_buy\n",
      "user_item_before_halfmonth_click\n",
      "user_item_before_halfmonth_star\n",
      "user_item_before_halfmonth_add_car\n",
      "user_item_before_halfmonth_buy\n",
      "user_cat_lastweek_click\n",
      "user_cat_lastweek_star\n",
      "user_cat_lastweek_add_car\n",
      "user_cat_lastweek_buy\n",
      "user_cat_halfmonth_click\n",
      "user_cat_halfmonth_star\n",
      "user_cat_halfmonth_add_car\n",
      "user_cat_halfmonth_buy\n",
      "user_cat_before_halfmonth_click\n",
      "user_cat_before_halfmonth_star\n",
      "user_cat_before_halfmonth_add_car\n",
      "user_cat_before_halfmonth_buy\n",
      "buy\n"
     ]
    }
   ],
   "source": [
    "df=fr.get_chunk()\n",
    "for i in  df.columns.values:\n",
    "    print i"
   ]
  },
  {
   "cell_type": "code",
   "execution_count": 51,
   "metadata": {
    "collapsed": false
   },
   "outputs": [
    {
     "ename": "AttributeError",
     "evalue": "'TextFileReader' object has no attribute 'end'",
     "output_type": "error",
     "traceback": [
      "\u001b[1;31m---------------------------------------------------------------------------\u001b[0m",
      "\u001b[1;31mAttributeError\u001b[0m                            Traceback (most recent call last)",
      "\u001b[1;32m<ipython-input-51-243d804a7be3>\u001b[0m in \u001b[0;36m<module>\u001b[1;34m()\u001b[0m\n\u001b[1;32m----> 1\u001b[1;33m \u001b[0mfr\u001b[0m\u001b[1;33m.\u001b[0m\u001b[0mend\u001b[0m\u001b[1;33m\u001b[0m\u001b[0m\n\u001b[0m",
      "\u001b[1;31mAttributeError\u001b[0m: 'TextFileReader' object has no attribute 'end'"
     ]
    }
   ],
   "source": [
    "fr.end"
   ]
  },
  {
   "cell_type": "code",
   "execution_count": 74,
   "metadata": {
    "collapsed": false
   },
   "outputs": [
    {
     "data": {
      "text/plain": [
       "False"
      ]
     },
     "execution_count": 74,
     "metadata": {},
     "output_type": "execute_result"
    }
   ],
   "source": [
    "[1]==1"
   ]
  },
  {
   "cell_type": "code",
   "execution_count": 76,
   "metadata": {
    "collapsed": false
   },
   "outputs": [
    {
     "data": {
      "text/plain": [
       "array([ True], dtype=bool)"
      ]
     },
     "execution_count": 76,
     "metadata": {},
     "output_type": "execute_result"
    }
   ],
   "source": [
    "clf.predict([1,1])==0"
   ]
  },
  {
   "cell_type": "markdown",
   "metadata": {},
   "source": [
    "模型3"
   ]
  },
  {
   "cell_type": "code",
   "execution_count": 3,
   "metadata": {
    "collapsed": false
   },
   "outputs": [],
   "source": [
    "import model0 as model\n",
    "clf = model.GetModel()"
   ]
  },
  {
   "cell_type": "code",
   "execution_count": 4,
   "metadata": {
    "collapsed": false
   },
   "outputs": [
    {
     "data": {
      "text/html": [
       "<div style=\"max-height:1000px;max-width:1500px;overflow:auto;\">\n",
       "<table border=\"1\" class=\"dataframe\">\n",
       "  <thead>\n",
       "    <tr style=\"text-align: right;\">\n",
       "      <th></th>\n",
       "      <th>user_id</th>\n",
       "      <th>item_id</th>\n",
       "      <th>user_item_count</th>\n",
       "      <th>user_item_lastday_count</th>\n",
       "      <th>buy</th>\n",
       "    </tr>\n",
       "  </thead>\n",
       "  <tbody>\n",
       "    <tr>\n",
       "      <th>0</th>\n",
       "      <td>8036273</td>\n",
       "      <td>360815626</td>\n",
       "      <td>3</td>\n",
       "      <td>3</td>\n",
       "      <td>0</td>\n",
       "    </tr>\n",
       "    <tr>\n",
       "      <th>1</th>\n",
       "      <td>27751835</td>\n",
       "      <td>244322130</td>\n",
       "      <td>1</td>\n",
       "      <td>0</td>\n",
       "      <td>0</td>\n",
       "    </tr>\n",
       "    <tr>\n",
       "      <th>2</th>\n",
       "      <td>98692568</td>\n",
       "      <td>371781541</td>\n",
       "      <td>2</td>\n",
       "      <td>0</td>\n",
       "      <td>0</td>\n",
       "    </tr>\n",
       "    <tr>\n",
       "      <th>3</th>\n",
       "      <td>69051488</td>\n",
       "      <td>86334753</td>\n",
       "      <td>1</td>\n",
       "      <td>0</td>\n",
       "      <td>0</td>\n",
       "    </tr>\n",
       "    <tr>\n",
       "      <th>4</th>\n",
       "      <td>65801616</td>\n",
       "      <td>117337750</td>\n",
       "      <td>1</td>\n",
       "      <td>0</td>\n",
       "      <td>0</td>\n",
       "    </tr>\n",
       "  </tbody>\n",
       "</table>\n",
       "</div>"
      ],
      "text/plain": [
       "    user_id    item_id  user_item_count  user_item_lastday_count  buy\n",
       "0   8036273  360815626                3                        3    0\n",
       "1  27751835  244322130                1                        0    0\n",
       "2  98692568  371781541                2                        0    0\n",
       "3  69051488   86334753                1                        0    0\n",
       "4  65801616  117337750                1                        0    0"
      ]
     },
     "execution_count": 4,
     "metadata": {},
     "output_type": "execute_result"
    }
   ],
   "source": [
    "data = pandas.read_csv('data.csv.subset.csv')\n",
    "data.head()"
   ]
  },
  {
   "cell_type": "code",
   "execution_count": 24,
   "metadata": {
    "collapsed": true
   },
   "outputs": [],
   "source": [
    "\n",
    "X=data[['user_item_count' , 'user_item_lastday_count']].as_matrix()\n",
    "\n",
    "\n",
    "Y=data['buy'].as_matrix()"
   ]
  },
  {
   "cell_type": "code",
   "execution_count": 5,
   "metadata": {
    "collapsed": true
   },
   "outputs": [],
   "source": [
    "data['item_to_cat_rate'] = data['user_item_lastday_count'] / (1 + data['user_cat_lastday_count'])\n",
    "data['user_item_lastday_count'] = np.log(0.3+data['user_item_lastday_count'])\n",
    "\n",
    "X=data[['user_item_lastday_count','item_to_cat_rate']].as_matrix()\n",
    "\n",
    "\n",
    "Y=data['buy'].as_matrix()"
   ]
  },
  {
   "cell_type": "code",
   "execution_count": 5,
   "metadata": {
    "collapsed": false
   },
   "outputs": [
    {
     "name": "stderr",
     "output_type": "stream",
     "text": [
      "C:\\Python27\\lib\\site-packages\\sklearn\\grid_search.py:370: ChangedBehaviorWarning: The long-standing behavior to use the estimator's score function in GridSearchCV.score has changed. The scoring parameter is now used.\n",
      "  ChangedBehaviorWarning)\n"
     ]
    },
    {
     "data": {
      "text/plain": [
       "0.018018018018018018"
      ]
     },
     "execution_count": 5,
     "metadata": {},
     "output_type": "execute_result"
    }
   ],
   "source": [
    "X,Y = model.GetData()\n",
    "clf.score(X,Y)"
   ]
  },
  {
   "cell_type": "code",
   "execution_count": 27,
   "metadata": {
    "collapsed": false
   },
   "outputs": [
    {
     "data": {
      "text/plain": [
       "1263"
      ]
     },
     "execution_count": 27,
     "metadata": {},
     "output_type": "execute_result"
    }
   ],
   "source": [
    "np.sum(clf.predict(X))"
   ]
  },
  {
   "cell_type": "code",
   "execution_count": 28,
   "metadata": {
    "collapsed": false
   },
   "outputs": [
    {
     "data": {
      "text/plain": [
       "array([[ 1.        ,  0.07609058],\n",
       "       [ 0.07609058,  1.        ]])"
      ]
     },
     "execution_count": 28,
     "metadata": {},
     "output_type": "execute_result"
    }
   ],
   "source": [
    "np.corrcoef(X[:,0],X[:,1])"
   ]
  },
  {
   "cell_type": "code",
   "execution_count": 29,
   "metadata": {
    "collapsed": false
   },
   "outputs": [
    {
     "data": {
      "text/plain": [
       "{'C': 0.0001, 'class_weight': {0: 1, 1: 150}}"
      ]
     },
     "execution_count": 29,
     "metadata": {},
     "output_type": "execute_result"
    }
   ],
   "source": [
    "clf.best_params_"
   ]
  },
  {
   "cell_type": "code",
   "execution_count": 20,
   "metadata": {
    "collapsed": true
   },
   "outputs": [],
   "source": [
    "import model7 as model"
   ]
  },
  {
   "cell_type": "code",
   "execution_count": 23,
   "metadata": {
    "collapsed": false
   },
   "outputs": [
    {
     "data": {
      "text/html": [
       "<div style=\"max-height:1000px;max-width:1500px;overflow:auto;\">\n",
       "<table border=\"1\" class=\"dataframe\">\n",
       "  <thead>\n",
       "    <tr style=\"text-align: right;\">\n",
       "      <th></th>\n",
       "      <th>user_action_count</th>\n",
       "      <th>user_lastday_count</th>\n",
       "      <th>user_buy_count</th>\n",
       "      <th>item_click_count</th>\n",
       "      <th>item_lastday_count</th>\n",
       "      <th>item_buy_count</th>\n",
       "      <th>cat_click_count</th>\n",
       "      <th>cat_buy_count</th>\n",
       "      <th>user_cat_count</th>\n",
       "      <th>user_cat_lastday_count</th>\n",
       "      <th>user_item_count</th>\n",
       "      <th>user_item_lastday_count</th>\n",
       "      <th>user_add_car</th>\n",
       "      <th>user_add_star</th>\n",
       "      <th>item_added_car</th>\n",
       "      <th>item_added_start</th>\n",
       "      <th>user_item_lasttime</th>\n",
       "    </tr>\n",
       "  </thead>\n",
       "  <tbody>\n",
       "    <tr>\n",
       "      <th>0</th>\n",
       "      <td>8.113217</td>\n",
       "      <td>3.010621</td>\n",
       "      <td>1.193922</td>\n",
       "      <td>4.846547</td>\n",
       "      <td>-1.203973</td>\n",
       "      <td>0.262364</td>\n",
       "      <td>12.635454</td>\n",
       "      <td>6.725394</td>\n",
       "      <td>5.372032</td>\n",
       "      <td>-1.203973</td>\n",
       "      <td>1.458615</td>\n",
       "      <td>-1.203973</td>\n",
       "      <td>4.209160</td>\n",
       "      <td>4.567468</td>\n",
       "      <td>1.667707</td>\n",
       "      <td>1.667707</td>\n",
       "      <td>21.072458</td>\n",
       "    </tr>\n",
       "    <tr>\n",
       "      <th>1</th>\n",
       "      <td>6.645481</td>\n",
       "      <td>-1.203973</td>\n",
       "      <td>0.832909</td>\n",
       "      <td>2.424803</td>\n",
       "      <td>-1.203973</td>\n",
       "      <td>-1.203973</td>\n",
       "      <td>10.072652</td>\n",
       "      <td>5.038899</td>\n",
       "      <td>5.160778</td>\n",
       "      <td>-1.203973</td>\n",
       "      <td>0.832909</td>\n",
       "      <td>-1.203973</td>\n",
       "      <td>0.262364</td>\n",
       "      <td>-1.203973</td>\n",
       "      <td>0.262364</td>\n",
       "      <td>-1.203973</td>\n",
       "      <td>21.073029</td>\n",
       "    </tr>\n",
       "    <tr>\n",
       "      <th>2</th>\n",
       "      <td>8.747241</td>\n",
       "      <td>5.338979</td>\n",
       "      <td>2.424803</td>\n",
       "      <td>4.209160</td>\n",
       "      <td>1.193922</td>\n",
       "      <td>-1.203973</td>\n",
       "      <td>12.789046</td>\n",
       "      <td>6.687483</td>\n",
       "      <td>6.743234</td>\n",
       "      <td>3.720862</td>\n",
       "      <td>0.832909</td>\n",
       "      <td>-1.203973</td>\n",
       "      <td>4.950885</td>\n",
       "      <td>4.885072</td>\n",
       "      <td>-1.203973</td>\n",
       "      <td>0.262364</td>\n",
       "      <td>21.072849</td>\n",
       "    </tr>\n",
       "    <tr>\n",
       "      <th>3</th>\n",
       "      <td>7.120687</td>\n",
       "      <td>2.791165</td>\n",
       "      <td>3.306887</td>\n",
       "      <td>0.832909</td>\n",
       "      <td>-1.203973</td>\n",
       "      <td>-1.203973</td>\n",
       "      <td>12.635454</td>\n",
       "      <td>6.725394</td>\n",
       "      <td>4.900076</td>\n",
       "      <td>-1.203973</td>\n",
       "      <td>0.832909</td>\n",
       "      <td>-1.203973</td>\n",
       "      <td>4.712229</td>\n",
       "      <td>2.332144</td>\n",
       "      <td>-1.203973</td>\n",
       "      <td>-1.203973</td>\n",
       "      <td>21.072755</td>\n",
       "    </tr>\n",
       "    <tr>\n",
       "      <th>4</th>\n",
       "      <td>7.871807</td>\n",
       "      <td>4.535820</td>\n",
       "      <td>1.458615</td>\n",
       "      <td>0.832909</td>\n",
       "      <td>-1.203973</td>\n",
       "      <td>-1.203973</td>\n",
       "      <td>5.704782</td>\n",
       "      <td>1.458615</td>\n",
       "      <td>3.918005</td>\n",
       "      <td>-1.203973</td>\n",
       "      <td>0.832909</td>\n",
       "      <td>-1.203973</td>\n",
       "      <td>1.193922</td>\n",
       "      <td>3.230804</td>\n",
       "      <td>-1.203973</td>\n",
       "      <td>-1.203973</td>\n",
       "      <td>21.071693</td>\n",
       "    </tr>\n",
       "  </tbody>\n",
       "</table>\n",
       "</div>"
      ],
      "text/plain": [
       "   user_action_count  user_lastday_count  user_buy_count  item_click_count  \\\n",
       "0           8.113217            3.010621        1.193922          4.846547   \n",
       "1           6.645481           -1.203973        0.832909          2.424803   \n",
       "2           8.747241            5.338979        2.424803          4.209160   \n",
       "3           7.120687            2.791165        3.306887          0.832909   \n",
       "4           7.871807            4.535820        1.458615          0.832909   \n",
       "\n",
       "   item_lastday_count  item_buy_count  cat_click_count  cat_buy_count  \\\n",
       "0           -1.203973        0.262364        12.635454       6.725394   \n",
       "1           -1.203973       -1.203973        10.072652       5.038899   \n",
       "2            1.193922       -1.203973        12.789046       6.687483   \n",
       "3           -1.203973       -1.203973        12.635454       6.725394   \n",
       "4           -1.203973       -1.203973         5.704782       1.458615   \n",
       "\n",
       "   user_cat_count  user_cat_lastday_count  user_item_count  \\\n",
       "0        5.372032               -1.203973         1.458615   \n",
       "1        5.160778               -1.203973         0.832909   \n",
       "2        6.743234                3.720862         0.832909   \n",
       "3        4.900076               -1.203973         0.832909   \n",
       "4        3.918005               -1.203973         0.832909   \n",
       "\n",
       "   user_item_lastday_count  user_add_car  user_add_star  item_added_car  \\\n",
       "0                -1.203973      4.209160       4.567468        1.667707   \n",
       "1                -1.203973      0.262364      -1.203973        0.262364   \n",
       "2                -1.203973      4.950885       4.885072       -1.203973   \n",
       "3                -1.203973      4.712229       2.332144       -1.203973   \n",
       "4                -1.203973      1.193922       3.230804       -1.203973   \n",
       "\n",
       "   item_added_start  user_item_lasttime  \n",
       "0          1.667707           21.072458  \n",
       "1         -1.203973           21.073029  \n",
       "2          0.262364           21.072849  \n",
       "3         -1.203973           21.072755  \n",
       "4         -1.203973           21.071693  "
      ]
     },
     "execution_count": 23,
     "metadata": {},
     "output_type": "execute_result"
    }
   ],
   "source": [
    "X,Y = model.GetData()\n",
    "X.head()"
   ]
  },
  {
   "cell_type": "code",
   "execution_count": 24,
   "metadata": {
    "collapsed": false
   },
   "outputs": [],
   "source": [
    "clf = model.GetModel()"
   ]
  },
  {
   "cell_type": "code",
   "execution_count": 25,
   "metadata": {
    "collapsed": false
   },
   "outputs": [],
   "source": [
    "pred = clf.predict(X)"
   ]
  },
  {
   "cell_type": "code",
   "execution_count": 26,
   "metadata": {
    "collapsed": false
   },
   "outputs": [
    {
     "data": {
      "text/plain": [
       "0    91683\n",
       "1       51\n",
       "dtype: int64"
      ]
     },
     "execution_count": 26,
     "metadata": {},
     "output_type": "execute_result"
    }
   ],
   "source": [
    "pandas.value_counts(pred)"
   ]
  },
  {
   "cell_type": "code",
   "execution_count": 28,
   "metadata": {
    "collapsed": false
   },
   "outputs": [
    {
     "data": {
      "text/plain": [
       "0.13085441987391869"
      ]
     },
     "execution_count": 28,
     "metadata": {},
     "output_type": "execute_result"
    }
   ],
   "source": [
    "clf.best_score_"
   ]
  },
  {
   "cell_type": "code",
   "execution_count": 17,
   "metadata": {
    "collapsed": false
   },
   "outputs": [],
   "source": [
    "X=0\n",
    "data=0\n"
   ]
  },
  {
   "cell_type": "code",
   "execution_count": 56,
   "metadata": {
    "collapsed": false
   },
   "outputs": [],
   "source": [
    "import time"
   ]
  },
  {
   "cell_type": "code",
   "execution_count": 57,
   "metadata": {
    "collapsed": false
   },
   "outputs": [
    {
     "data": {
      "text/plain": [
       "'Thu Apr 02 13:39:12 2015'"
      ]
     },
     "execution_count": 57,
     "metadata": {},
     "output_type": "execute_result"
    }
   ],
   "source": [
    "time.ctime()"
   ]
  },
  {
   "cell_type": "code",
   "execution_count": 62,
   "metadata": {
    "collapsed": false
   },
   "outputs": [],
   "source": [
    "t=time.strptime('2014-12-18 10','%Y-%m-%d %H')"
   ]
  },
  {
   "cell_type": "code",
   "execution_count": 66,
   "metadata": {
    "collapsed": false
   },
   "outputs": [
    {
     "data": {
      "text/plain": [
       "1418868000.0"
      ]
     },
     "execution_count": 66,
     "metadata": {},
     "output_type": "execute_result"
    }
   ],
   "source": [
    "time.mktime(t)"
   ]
  },
  {
   "cell_type": "code",
   "execution_count": 72,
   "metadata": {
    "collapsed": false
   },
   "outputs": [
    {
     "data": {
      "text/plain": [
       "False    4533311\n",
       "True       46013\n",
       "dtype: int64"
      ]
     },
     "execution_count": 72,
     "metadata": {},
     "output_type": "execute_result"
    }
   ],
   "source": [
    "pandas.value_counts((data['buy']==1) | (np.random.rand(len(data))<0.01))"
   ]
  },
  {
   "cell_type": "code",
   "execution_count": 73,
   "metadata": {
    "collapsed": true
   },
   "outputs": [],
   "source": [
    "idx=(data['buy']==1) | (np.random.rand(len(data))<0.01)"
   ]
  },
  {
   "cell_type": "code",
   "execution_count": 23,
   "metadata": {
    "collapsed": false
   },
   "outputs": [],
   "source": [
    "idx = data['buy']==1"
   ]
  },
  {
   "cell_type": "code",
   "execution_count": 30,
   "metadata": {
    "collapsed": false
   },
   "outputs": [
    {
     "data": {
      "text/plain": [
       "2319.0124061381648"
      ]
     },
     "execution_count": 30,
     "metadata": {},
     "output_type": "execute_result"
    }
   ],
   "source": [
    "np.sum((~idx) * np.random.rand(len(idx)))"
   ]
  },
  {
   "cell_type": "code",
   "execution_count": 50,
   "metadata": {
    "collapsed": false
   },
   "outputs": [
    {
     "data": {
      "text/plain": [
       "<module 'summary' from 'summary.py'>"
      ]
     },
     "execution_count": 50,
     "metadata": {},
     "output_type": "execute_result"
    }
   ],
   "source": [
    "import model8 as model\n",
    "reload(model)\n",
    "import summary\n",
    "reload(summary)"
   ]
  },
  {
   "cell_type": "code",
   "execution_count": 51,
   "metadata": {
    "collapsed": true
   },
   "outputs": [],
   "source": [
    "X,Y=model.GetData()"
   ]
  },
  {
   "cell_type": "code",
   "execution_count": 70,
   "metadata": {
    "collapsed": false
   },
   "outputs": [
    {
     "data": {
      "text/plain": [
       "array(['user_action_count', 'user_lastday_count', 'user_buy_count',\n",
       "       'item_click_count', 'item_lastday_count', 'item_buy_count',\n",
       "       'cat_click_count', 'cat_buy_count', 'user_cat_count',\n",
       "       'user_cat_lastday_count', 'user_item_count',\n",
       "       'user_item_lastday_count', 'user_add_car', 'user_add_star',\n",
       "       'item_added_car', 'item_added_start', 'user_item_lasttime',\n",
       "       'item_convert_rate', 'user_convert_rate'], dtype=object)"
      ]
     },
     "execution_count": 70,
     "metadata": {},
     "output_type": "execute_result"
    }
   ],
   "source": [
    "X.columns.values"
   ]
  },
  {
   "cell_type": "code",
   "execution_count": 72,
   "metadata": {
    "collapsed": false
   },
   "outputs": [
    {
     "data": {
      "text/html": [
       "<div style=\"max-height:1000px;max-width:1500px;overflow:auto;\">\n",
       "<table border=\"1\" class=\"dataframe\">\n",
       "  <thead>\n",
       "    <tr style=\"text-align: right;\">\n",
       "      <th></th>\n",
       "      <th>item_click_count</th>\n",
       "      <th>item_buy_count</th>\n",
       "      <th>item_convert_rate</th>\n",
       "    </tr>\n",
       "  </thead>\n",
       "  <tbody>\n",
       "    <tr>\n",
       "      <th>0</th>\n",
       "      <td>4.846547</td>\n",
       "      <td>0.262364</td>\n",
       "      <td>0.007812</td>\n",
       "    </tr>\n",
       "    <tr>\n",
       "      <th>1</th>\n",
       "      <td>2.424803</td>\n",
       "      <td>-1.203973</td>\n",
       "      <td>0.000000</td>\n",
       "    </tr>\n",
       "    <tr>\n",
       "      <th>2</th>\n",
       "      <td>4.209160</td>\n",
       "      <td>-1.203973</td>\n",
       "      <td>0.000000</td>\n",
       "    </tr>\n",
       "    <tr>\n",
       "      <th>3</th>\n",
       "      <td>0.832909</td>\n",
       "      <td>-1.203973</td>\n",
       "      <td>0.000000</td>\n",
       "    </tr>\n",
       "    <tr>\n",
       "      <th>4</th>\n",
       "      <td>0.832909</td>\n",
       "      <td>-1.203973</td>\n",
       "      <td>0.000000</td>\n",
       "    </tr>\n",
       "    <tr>\n",
       "      <th>5</th>\n",
       "      <td>0.832909</td>\n",
       "      <td>-1.203973</td>\n",
       "      <td>0.000000</td>\n",
       "    </tr>\n",
       "    <tr>\n",
       "      <th>6</th>\n",
       "      <td>1.458615</td>\n",
       "      <td>-1.203973</td>\n",
       "      <td>0.000000</td>\n",
       "    </tr>\n",
       "    <tr>\n",
       "      <th>7</th>\n",
       "      <td>0.262364</td>\n",
       "      <td>-1.203973</td>\n",
       "      <td>0.000000</td>\n",
       "    </tr>\n",
       "    <tr>\n",
       "      <th>8</th>\n",
       "      <td>1.193922</td>\n",
       "      <td>-1.203973</td>\n",
       "      <td>0.000000</td>\n",
       "    </tr>\n",
       "    <tr>\n",
       "      <th>9</th>\n",
       "      <td>0.262364</td>\n",
       "      <td>-1.203973</td>\n",
       "      <td>0.000000</td>\n",
       "    </tr>\n",
       "    <tr>\n",
       "      <th>10</th>\n",
       "      <td>3.813307</td>\n",
       "      <td>-1.203973</td>\n",
       "      <td>0.000000</td>\n",
       "    </tr>\n",
       "    <tr>\n",
       "      <th>11</th>\n",
       "      <td>1.193922</td>\n",
       "      <td>-1.203973</td>\n",
       "      <td>0.000000</td>\n",
       "    </tr>\n",
       "    <tr>\n",
       "      <th>12</th>\n",
       "      <td>3.918005</td>\n",
       "      <td>-1.203973</td>\n",
       "      <td>0.000000</td>\n",
       "    </tr>\n",
       "    <tr>\n",
       "      <th>13</th>\n",
       "      <td>1.458615</td>\n",
       "      <td>-1.203973</td>\n",
       "      <td>0.000000</td>\n",
       "    </tr>\n",
       "    <tr>\n",
       "      <th>14</th>\n",
       "      <td>1.840550</td>\n",
       "      <td>-1.203973</td>\n",
       "      <td>0.000000</td>\n",
       "    </tr>\n",
       "    <tr>\n",
       "      <th>15</th>\n",
       "      <td>2.727853</td>\n",
       "      <td>-1.203973</td>\n",
       "      <td>0.000000</td>\n",
       "    </tr>\n",
       "    <tr>\n",
       "      <th>16</th>\n",
       "      <td>0.832909</td>\n",
       "      <td>-1.203973</td>\n",
       "      <td>0.000000</td>\n",
       "    </tr>\n",
       "    <tr>\n",
       "      <th>17</th>\n",
       "      <td>2.850707</td>\n",
       "      <td>-1.203973</td>\n",
       "      <td>0.000000</td>\n",
       "    </tr>\n",
       "    <tr>\n",
       "      <th>18</th>\n",
       "      <td>0.832909</td>\n",
       "      <td>-1.203973</td>\n",
       "      <td>0.000000</td>\n",
       "    </tr>\n",
       "    <tr>\n",
       "      <th>19</th>\n",
       "      <td>3.230804</td>\n",
       "      <td>-1.203973</td>\n",
       "      <td>0.000000</td>\n",
       "    </tr>\n",
       "    <tr>\n",
       "      <th>20</th>\n",
       "      <td>4.557030</td>\n",
       "      <td>1.193922</td>\n",
       "      <td>0.031250</td>\n",
       "    </tr>\n",
       "    <tr>\n",
       "      <th>21</th>\n",
       "      <td>0.262364</td>\n",
       "      <td>-1.203973</td>\n",
       "      <td>0.000000</td>\n",
       "    </tr>\n",
       "    <tr>\n",
       "      <th>22</th>\n",
       "      <td>5.205654</td>\n",
       "      <td>3.058707</td>\n",
       "      <td>0.114754</td>\n",
       "    </tr>\n",
       "    <tr>\n",
       "      <th>23</th>\n",
       "      <td>0.262364</td>\n",
       "      <td>-1.203973</td>\n",
       "      <td>0.000000</td>\n",
       "    </tr>\n",
       "    <tr>\n",
       "      <th>24</th>\n",
       "      <td>2.906901</td>\n",
       "      <td>-1.203973</td>\n",
       "      <td>0.000000</td>\n",
       "    </tr>\n",
       "    <tr>\n",
       "      <th>25</th>\n",
       "      <td>0.262364</td>\n",
       "      <td>-1.203973</td>\n",
       "      <td>0.000000</td>\n",
       "    </tr>\n",
       "    <tr>\n",
       "      <th>26</th>\n",
       "      <td>1.458615</td>\n",
       "      <td>-1.203973</td>\n",
       "      <td>0.000000</td>\n",
       "    </tr>\n",
       "    <tr>\n",
       "      <th>27</th>\n",
       "      <td>3.306887</td>\n",
       "      <td>0.262364</td>\n",
       "      <td>0.035714</td>\n",
       "    </tr>\n",
       "    <tr>\n",
       "      <th>28</th>\n",
       "      <td>4.048301</td>\n",
       "      <td>1.987874</td>\n",
       "      <td>0.120690</td>\n",
       "    </tr>\n",
       "    <tr>\n",
       "      <th>29</th>\n",
       "      <td>3.342862</td>\n",
       "      <td>-1.203973</td>\n",
       "      <td>0.000000</td>\n",
       "    </tr>\n",
       "    <tr>\n",
       "      <th>30</th>\n",
       "      <td>1.667707</td>\n",
       "      <td>-1.203973</td>\n",
       "      <td>0.000000</td>\n",
       "    </tr>\n",
       "    <tr>\n",
       "      <th>31</th>\n",
       "      <td>0.832909</td>\n",
       "      <td>-1.203973</td>\n",
       "      <td>0.000000</td>\n",
       "    </tr>\n",
       "    <tr>\n",
       "      <th>32</th>\n",
       "      <td>2.332144</td>\n",
       "      <td>-1.203973</td>\n",
       "      <td>0.000000</td>\n",
       "    </tr>\n",
       "    <tr>\n",
       "      <th>33</th>\n",
       "      <td>1.193922</td>\n",
       "      <td>-1.203973</td>\n",
       "      <td>0.000000</td>\n",
       "    </tr>\n",
       "    <tr>\n",
       "      <th>34</th>\n",
       "      <td>1.458615</td>\n",
       "      <td>-1.203973</td>\n",
       "      <td>0.000000</td>\n",
       "    </tr>\n",
       "    <tr>\n",
       "      <th>35</th>\n",
       "      <td>2.509599</td>\n",
       "      <td>-1.203973</td>\n",
       "      <td>0.000000</td>\n",
       "    </tr>\n",
       "    <tr>\n",
       "      <th>36</th>\n",
       "      <td>0.262364</td>\n",
       "      <td>-1.203973</td>\n",
       "      <td>0.000000</td>\n",
       "    </tr>\n",
       "    <tr>\n",
       "      <th>37</th>\n",
       "      <td>0.832909</td>\n",
       "      <td>-1.203973</td>\n",
       "      <td>0.000000</td>\n",
       "    </tr>\n",
       "    <tr>\n",
       "      <th>38</th>\n",
       "      <td>2.906901</td>\n",
       "      <td>-1.203973</td>\n",
       "      <td>0.000000</td>\n",
       "    </tr>\n",
       "    <tr>\n",
       "      <th>39</th>\n",
       "      <td>0.832909</td>\n",
       "      <td>-1.203973</td>\n",
       "      <td>0.000000</td>\n",
       "    </tr>\n",
       "    <tr>\n",
       "      <th>40</th>\n",
       "      <td>1.458615</td>\n",
       "      <td>-1.203973</td>\n",
       "      <td>0.000000</td>\n",
       "    </tr>\n",
       "    <tr>\n",
       "      <th>41</th>\n",
       "      <td>1.458615</td>\n",
       "      <td>-1.203973</td>\n",
       "      <td>0.000000</td>\n",
       "    </tr>\n",
       "    <tr>\n",
       "      <th>42</th>\n",
       "      <td>2.116256</td>\n",
       "      <td>-1.203973</td>\n",
       "      <td>0.000000</td>\n",
       "    </tr>\n",
       "    <tr>\n",
       "      <th>43</th>\n",
       "      <td>4.869839</td>\n",
       "      <td>0.262364</td>\n",
       "      <td>0.007634</td>\n",
       "    </tr>\n",
       "    <tr>\n",
       "      <th>44</th>\n",
       "      <td>1.193922</td>\n",
       "      <td>-1.203973</td>\n",
       "      <td>0.000000</td>\n",
       "    </tr>\n",
       "    <tr>\n",
       "      <th>45</th>\n",
       "      <td>1.458615</td>\n",
       "      <td>-1.203973</td>\n",
       "      <td>0.000000</td>\n",
       "    </tr>\n",
       "    <tr>\n",
       "      <th>46</th>\n",
       "      <td>1.840550</td>\n",
       "      <td>-1.203973</td>\n",
       "      <td>0.000000</td>\n",
       "    </tr>\n",
       "    <tr>\n",
       "      <th>47</th>\n",
       "      <td>2.727853</td>\n",
       "      <td>0.262364</td>\n",
       "      <td>0.062500</td>\n",
       "    </tr>\n",
       "    <tr>\n",
       "      <th>48</th>\n",
       "      <td>1.193922</td>\n",
       "      <td>-1.203973</td>\n",
       "      <td>0.000000</td>\n",
       "    </tr>\n",
       "    <tr>\n",
       "      <th>49</th>\n",
       "      <td>2.906901</td>\n",
       "      <td>-1.203973</td>\n",
       "      <td>0.000000</td>\n",
       "    </tr>\n",
       "  </tbody>\n",
       "</table>\n",
       "</div>"
      ],
      "text/plain": [
       "    item_click_count  item_buy_count  item_convert_rate\n",
       "0           4.846547        0.262364           0.007812\n",
       "1           2.424803       -1.203973           0.000000\n",
       "2           4.209160       -1.203973           0.000000\n",
       "3           0.832909       -1.203973           0.000000\n",
       "4           0.832909       -1.203973           0.000000\n",
       "5           0.832909       -1.203973           0.000000\n",
       "6           1.458615       -1.203973           0.000000\n",
       "7           0.262364       -1.203973           0.000000\n",
       "8           1.193922       -1.203973           0.000000\n",
       "9           0.262364       -1.203973           0.000000\n",
       "10          3.813307       -1.203973           0.000000\n",
       "11          1.193922       -1.203973           0.000000\n",
       "12          3.918005       -1.203973           0.000000\n",
       "13          1.458615       -1.203973           0.000000\n",
       "14          1.840550       -1.203973           0.000000\n",
       "15          2.727853       -1.203973           0.000000\n",
       "16          0.832909       -1.203973           0.000000\n",
       "17          2.850707       -1.203973           0.000000\n",
       "18          0.832909       -1.203973           0.000000\n",
       "19          3.230804       -1.203973           0.000000\n",
       "20          4.557030        1.193922           0.031250\n",
       "21          0.262364       -1.203973           0.000000\n",
       "22          5.205654        3.058707           0.114754\n",
       "23          0.262364       -1.203973           0.000000\n",
       "24          2.906901       -1.203973           0.000000\n",
       "25          0.262364       -1.203973           0.000000\n",
       "26          1.458615       -1.203973           0.000000\n",
       "27          3.306887        0.262364           0.035714\n",
       "28          4.048301        1.987874           0.120690\n",
       "29          3.342862       -1.203973           0.000000\n",
       "30          1.667707       -1.203973           0.000000\n",
       "31          0.832909       -1.203973           0.000000\n",
       "32          2.332144       -1.203973           0.000000\n",
       "33          1.193922       -1.203973           0.000000\n",
       "34          1.458615       -1.203973           0.000000\n",
       "35          2.509599       -1.203973           0.000000\n",
       "36          0.262364       -1.203973           0.000000\n",
       "37          0.832909       -1.203973           0.000000\n",
       "38          2.906901       -1.203973           0.000000\n",
       "39          0.832909       -1.203973           0.000000\n",
       "40          1.458615       -1.203973           0.000000\n",
       "41          1.458615       -1.203973           0.000000\n",
       "42          2.116256       -1.203973           0.000000\n",
       "43          4.869839        0.262364           0.007634\n",
       "44          1.193922       -1.203973           0.000000\n",
       "45          1.458615       -1.203973           0.000000\n",
       "46          1.840550       -1.203973           0.000000\n",
       "47          2.727853        0.262364           0.062500\n",
       "48          1.193922       -1.203973           0.000000\n",
       "49          2.906901       -1.203973           0.000000"
      ]
     },
     "execution_count": 72,
     "metadata": {},
     "output_type": "execute_result"
    }
   ],
   "source": [
    "X[['item_click_count','item_buy_count','item_convert_rate']][:50]"
   ]
  },
  {
   "cell_type": "code",
   "execution_count": 68,
   "metadata": {
    "collapsed": false
   },
   "outputs": [
    {
     "data": {
      "text/plain": [
       "<matplotlib.axes._subplots.AxesSubplot at 0x2911ed30>"
      ]
     },
     "execution_count": 68,
     "metadata": {},
     "output_type": "execute_result"
    },
    {
     "data": {
      "image/png": "[encoded data removed]",
      "text/plain": [
       "<matplotlib.figure.Figure at 0x221db830>"
      ]
     },
     "metadata": {},
     "output_type": "display_data"
    }
   ],
   "source": [
    "%matplotlib inline\n",
    "X['user_convert_rate'].hist(bins=50,range=(0,0.1))"
   ]
  },
  {
   "cell_type": "code",
   "execution_count": 49,
   "metadata": {
    "collapsed": false,
    "scrolled": true
   },
   "outputs": [
    {
     "name": "stdout",
     "output_type": "stream",
     "text": [
      "best score 0.130854419874\n",
      "best parms {'C': 0.69519279617756058}\n",
      "clf parms:\n",
      "intercept\t0.000000\n",
      "user_action_count\t-0.371763\n",
      "user_lastday_count\t-0.066816\n",
      "user_buy_count\t0.331509\n",
      "item_click_count\t-0.502071\n",
      "item_lastday_count\t-0.002984\n",
      "item_buy_count\t-0.457847\n",
      "cat_click_count\t-0.802509\n",
      "cat_buy_count\t0.858689\n",
      "user_cat_count\t-0.260454\n",
      "user_cat_lastday_count\t0.208004\n",
      "user_item_count\t1.295417\n",
      "user_item_lastday_count\t1.064782\n",
      "user_add_car\t0.031094\n",
      "user_add_star\t0.109781\n",
      "item_added_car\t1.082721\n",
      "item_added_start\t0.036579\n",
      "user_item_lasttime\t0.030474\n",
      "\n",
      "\n"
     ]
    }
   ],
   "source": [
    "clf = model.GetModel()\n",
    "feature_names = [i for i in X.columns if i not in ['user_id','item_id','buy']]\n",
    "summary.clf_summary(clf, feature_names)"
   ]
  },
  {
   "cell_type": "code",
   "execution_count": 48,
   "metadata": {
    "collapsed": false
   },
   "outputs": [],
   "source": []
  },
  {
   "cell_type": "code",
   "execution_count": 45,
   "metadata": {
    "collapsed": false
   },
   "outputs": [
    {
     "name": "stdout",
     "output_type": "stream",
     "text": [
      "===== for test =====\n",
      " \tF\tT\n",
      "N\t4577313\t1709\n",
      "P\t279\t23\n",
      "F1\tP\tR\n",
      "2.26\t1.33\t7.62\n"
     ]
    },
    {
     "data": {
      "text/plain": [
       "(23.0, 1709.0, 279.0, 4577313.0)"
      ]
     },
     "execution_count": 45,
     "metadata": {},
     "output_type": "execute_result"
    }
   ],
   "source": [
    "summary.TestModel('model7')"
   ]
  },
  {
   "cell_type": "code",
   "execution_count": 62,
   "metadata": {
    "collapsed": false
   },
   "outputs": [
    {
     "data": {
      "text/plain": [
       "0.0"
      ]
     },
     "execution_count": 62,
     "metadata": {},
     "output_type": "execute_result"
    }
   ],
   "source": [
    "P = float(TP)/(TP+TN)\n",
    "0."
   ]
  },
  {
   "cell_type": "code",
   "execution_count": 11,
   "metadata": {
    "collapsed": false
   },
   "outputs": [
    {
     "ename": "NameError",
     "evalue": "name 'reader' is not defined",
     "output_type": "error",
     "traceback": [
      "\u001b[1;31m---------------------------------------------------------------------------\u001b[0m",
      "\u001b[1;31mNameError\u001b[0m                                 Traceback (most recent call last)",
      "\u001b[1;32m<ipython-input-11-537b20b8f198>\u001b[0m in \u001b[0;36m<module>\u001b[1;34m()\u001b[0m\n\u001b[1;32m----> 1\u001b[1;33m \u001b[0mdata\u001b[0m \u001b[1;33m=\u001b[0m \u001b[0mreader\u001b[0m\u001b[1;33m.\u001b[0m\u001b[0mget_chunk\u001b[0m\u001b[1;33m(\u001b[0m\u001b[1;33m)\u001b[0m\u001b[1;33m\u001b[0m\u001b[0m\n\u001b[0m",
      "\u001b[1;31mNameError\u001b[0m: name 'reader' is not defined"
     ]
    }
   ],
   "source": [
    "data = reader.get_chunk()"
   ]
  },
  {
   "cell_type": "code",
   "execution_count": 54,
   "metadata": {
    "collapsed": false
   },
   "outputs": [],
   "source": [
    "X_test = model.GetFeature(data)\n",
    "Y_test = data['buy'].as_matrix()\n",
    "pred = clf.predict(X_test)\n",
    "\n",
    "TP = TP + np.sum(Y_test * pred)\n",
    "TN = TN + np.sum((1-Y_test) * pred)\n",
    "FP = FP + np.sum(Y_test * (1- pred))\n",
    "FN = FN + np.sum((1- Y_test) * (1- pred))"
   ]
  },
  {
   "cell_type": "code",
   "execution_count": 55,
   "metadata": {
    "collapsed": false
   },
   "outputs": [
    {
     "name": "stdout",
     "output_type": "stream",
     "text": [
      "15 910 -4 299079\n"
     ]
    }
   ],
   "source": [
    "print TP,TN,FP,FN"
   ]
  },
  {
   "cell_type": "code",
   "execution_count": 53,
   "metadata": {
    "collapsed": false
   },
   "outputs": [
    {
     "data": {
      "text/plain": [
       "1    99075\n",
       "0      925\n",
       "dtype: int64"
      ]
     },
     "execution_count": 53,
     "metadata": {},
     "output_type": "execute_result"
    }
   ],
   "source": [
    "pandas.value_counts((1-pred) )"
   ]
  },
  {
   "cell_type": "code",
   "execution_count": 164,
   "metadata": {
    "collapsed": true
   },
   "outputs": [],
   "source": [
    "block_size = 100000\n",
    "reader = pandas.read_csv('data.csv', iterator=True, chunksize=block_size)\n"
   ]
  },
  {
   "cell_type": "code",
   "execution_count": 165,
   "metadata": {
    "collapsed": false
   },
   "outputs": [
    {
     "data": {
      "text/html": [
       "<div style=\"max-height:1000px;max-width:1500px;overflow:auto;\">\n",
       "<table border=\"1\" class=\"dataframe\">\n",
       "  <thead>\n",
       "    <tr style=\"text-align: right;\">\n",
       "      <th></th>\n",
       "      <th>user_id</th>\n",
       "      <th>item_id</th>\n",
       "      <th>user_action_count</th>\n",
       "      <th>user_lastday_count</th>\n",
       "      <th>user_buy_count</th>\n",
       "      <th>item_click_count</th>\n",
       "      <th>item_lastday_count</th>\n",
       "      <th>item_buy_count</th>\n",
       "      <th>cat_click_count</th>\n",
       "      <th>cat_buy_count</th>\n",
       "      <th>...</th>\n",
       "      <th>user_cat_lastweek_buy</th>\n",
       "      <th>user_cat_halfmonth_click</th>\n",
       "      <th>user_cat_halfmonth_star</th>\n",
       "      <th>user_cat_halfmonth_add_car</th>\n",
       "      <th>user_cat_halfmonth_buy</th>\n",
       "      <th>user_cat_before_halfmonth_click</th>\n",
       "      <th>user_cat_before_halfmonth_star</th>\n",
       "      <th>user_cat_before_halfmonth_add_car</th>\n",
       "      <th>user_cat_before_halfmonth_buy</th>\n",
       "      <th>buy</th>\n",
       "    </tr>\n",
       "  </thead>\n",
       "  <tbody>\n",
       "    <tr>\n",
       "      <th>0</th>\n",
       "      <td>8036273</td>\n",
       "      <td>360815626</td>\n",
       "      <td>9501</td>\n",
       "      <td>338</td>\n",
       "      <td>56</td>\n",
       "      <td>3</td>\n",
       "      <td>3</td>\n",
       "      <td>0</td>\n",
       "      <td>307261</td>\n",
       "      <td>833</td>\n",
       "      <td>...</td>\n",
       "      <td>0</td>\n",
       "      <td>102</td>\n",
       "      <td>2</td>\n",
       "      <td>7</td>\n",
       "      <td>0</td>\n",
       "      <td>632</td>\n",
       "      <td>15</td>\n",
       "      <td>28</td>\n",
       "      <td>0</td>\n",
       "      <td>0</td>\n",
       "    </tr>\n",
       "    <tr>\n",
       "      <th>1</th>\n",
       "      <td>27751835</td>\n",
       "      <td>244322130</td>\n",
       "      <td>843</td>\n",
       "      <td>0</td>\n",
       "      <td>7</td>\n",
       "      <td>1</td>\n",
       "      <td>0</td>\n",
       "      <td>0</td>\n",
       "      <td>11819</td>\n",
       "      <td>136</td>\n",
       "      <td>...</td>\n",
       "      <td>1</td>\n",
       "      <td>61</td>\n",
       "      <td>7</td>\n",
       "      <td>2</td>\n",
       "      <td>0</td>\n",
       "      <td>30</td>\n",
       "      <td>0</td>\n",
       "      <td>1</td>\n",
       "      <td>0</td>\n",
       "      <td>0</td>\n",
       "    </tr>\n",
       "    <tr>\n",
       "      <th>2</th>\n",
       "      <td>98692568</td>\n",
       "      <td>371781541</td>\n",
       "      <td>559</td>\n",
       "      <td>0</td>\n",
       "      <td>12</td>\n",
       "      <td>2</td>\n",
       "      <td>0</td>\n",
       "      <td>0</td>\n",
       "      <td>3869</td>\n",
       "      <td>68</td>\n",
       "      <td>...</td>\n",
       "      <td>0</td>\n",
       "      <td>2</td>\n",
       "      <td>0</td>\n",
       "      <td>0</td>\n",
       "      <td>0</td>\n",
       "      <td>0</td>\n",
       "      <td>0</td>\n",
       "      <td>0</td>\n",
       "      <td>0</td>\n",
       "      <td>0</td>\n",
       "    </tr>\n",
       "    <tr>\n",
       "      <th>3</th>\n",
       "      <td>69051488</td>\n",
       "      <td>86334753</td>\n",
       "      <td>3989</td>\n",
       "      <td>53</td>\n",
       "      <td>7</td>\n",
       "      <td>9</td>\n",
       "      <td>0</td>\n",
       "      <td>0</td>\n",
       "      <td>3178</td>\n",
       "      <td>91</td>\n",
       "      <td>...</td>\n",
       "      <td>0</td>\n",
       "      <td>3</td>\n",
       "      <td>0</td>\n",
       "      <td>0</td>\n",
       "      <td>0</td>\n",
       "      <td>0</td>\n",
       "      <td>0</td>\n",
       "      <td>0</td>\n",
       "      <td>0</td>\n",
       "      <td>0</td>\n",
       "    </tr>\n",
       "    <tr>\n",
       "      <th>4</th>\n",
       "      <td>65801616</td>\n",
       "      <td>117337750</td>\n",
       "      <td>3079</td>\n",
       "      <td>117</td>\n",
       "      <td>41</td>\n",
       "      <td>1</td>\n",
       "      <td>0</td>\n",
       "      <td>0</td>\n",
       "      <td>282497</td>\n",
       "      <td>1052</td>\n",
       "      <td>...</td>\n",
       "      <td>0</td>\n",
       "      <td>0</td>\n",
       "      <td>0</td>\n",
       "      <td>0</td>\n",
       "      <td>0</td>\n",
       "      <td>0</td>\n",
       "      <td>0</td>\n",
       "      <td>0</td>\n",
       "      <td>0</td>\n",
       "      <td>0</td>\n",
       "    </tr>\n",
       "  </tbody>\n",
       "</table>\n",
       "<p>5 rows × 47 columns</p>\n",
       "</div>"
      ],
      "text/plain": [
       "    user_id    item_id  user_action_count  user_lastday_count  user_buy_count  \\\n",
       "0   8036273  360815626               9501                 338              56   \n",
       "1  27751835  244322130                843                   0               7   \n",
       "2  98692568  371781541                559                   0              12   \n",
       "3  69051488   86334753               3989                  53               7   \n",
       "4  65801616  117337750               3079                 117              41   \n",
       "\n",
       "   item_click_count  item_lastday_count  item_buy_count  cat_click_count  \\\n",
       "0                 3                   3               0           307261   \n",
       "1                 1                   0               0            11819   \n",
       "2                 2                   0               0             3869   \n",
       "3                 9                   0               0             3178   \n",
       "4                 1                   0               0           282497   \n",
       "\n",
       "   cat_buy_count ...   user_cat_lastweek_buy  user_cat_halfmonth_click  \\\n",
       "0            833 ...                       0                       102   \n",
       "1            136 ...                       1                        61   \n",
       "2             68 ...                       0                         2   \n",
       "3             91 ...                       0                         3   \n",
       "4           1052 ...                       0                         0   \n",
       "\n",
       "   user_cat_halfmonth_star  user_cat_halfmonth_add_car  \\\n",
       "0                        2                           7   \n",
       "1                        7                           2   \n",
       "2                        0                           0   \n",
       "3                        0                           0   \n",
       "4                        0                           0   \n",
       "\n",
       "   user_cat_halfmonth_buy  user_cat_before_halfmonth_click  \\\n",
       "0                       0                              632   \n",
       "1                       0                               30   \n",
       "2                       0                                0   \n",
       "3                       0                                0   \n",
       "4                       0                                0   \n",
       "\n",
       "   user_cat_before_halfmonth_star  user_cat_before_halfmonth_add_car  \\\n",
       "0                              15                                 28   \n",
       "1                               0                                  1   \n",
       "2                               0                                  0   \n",
       "3                               0                                  0   \n",
       "4                               0                                  0   \n",
       "\n",
       "   user_cat_before_halfmonth_buy  buy  \n",
       "0                              0    0  \n",
       "1                              0    0  \n",
       "2                              0    0  \n",
       "3                              0    0  \n",
       "4                              0    0  \n",
       "\n",
       "[5 rows x 47 columns]"
      ]
     },
     "execution_count": 165,
     "metadata": {},
     "output_type": "execute_result"
    }
   ],
   "source": [
    "data = reader.get_chunk()\n",
    "data.head()"
   ]
  },
  {
   "cell_type": "code",
   "execution_count": 169,
   "metadata": {
    "collapsed": false
   },
   "outputs": [
    {
     "data": {
      "text/plain": [
       "<matplotlib.axes._subplots.AxesSubplot at 0x2eff9e70>"
      ]
     },
     "execution_count": 169,
     "metadata": {},
     "output_type": "execute_result"
    },
    {
     "data": {
      "image/png": "[encoded data removed]",
      "text/plain": [
       "<matplotlib.figure.Figure at 0x2f00c9f0>"
      ]
     },
     "metadata": {},
     "output_type": "display_data"
    }
   ],
   "source": [
    "data['user_cat_before_halfmonth_star'].value_counts().plot()"
   ]
  },
  {
   "cell_type": "code",
   "execution_count": 150,
   "metadata": {
    "collapsed": false,
    "scrolled": true
   },
   "outputs": [
    {
     "data": {
      "text/plain": [
       "<matplotlib.axes._subplots.AxesSubplot at 0x2f0e44f0>"
      ]
     },
     "execution_count": 150,
     "metadata": {},
     "output_type": "execute_result"
    },
    {
     "data": {
      "image/png": "[encoded data removed]",
      "text/plain": [
       "<matplotlib.figure.Figure at 0x32c8f0b0>"
      ]
     },
     "metadata": {},
     "output_type": "display_data"
    }
   ],
   "source": [
    "%matplotlib inline\n",
    "S=data['user_item_before_halfmonth_add_car'] \n",
    "arr=S.value_counts()\n",
    "arr.plot()"
   ]
  },
  {
   "cell_type": "code",
   "execution_count": 3,
   "metadata": {
    "collapsed": false
   },
   "outputs": [
    {
     "data": {
      "text/plain": [
       "0    168977\n",
       "1       302\n",
       "dtype: int64"
      ]
     },
     "execution_count": 3,
     "metadata": {},
     "output_type": "execute_result"
    }
   ],
   "source": [
    "pandas.value_counts(data['buy'])"
   ]
  },
  {
   "cell_type": "code",
   "execution_count": 4,
   "metadata": {
    "collapsed": false
   },
   "outputs": [
    {
     "ename": "NameError",
     "evalue": "name 'clf' is not defined",
     "output_type": "error",
     "traceback": [
      "\u001b[1;31m---------------------------------------------------------------------------\u001b[0m",
      "\u001b[1;31mNameError\u001b[0m                                 Traceback (most recent call last)",
      "\u001b[1;32m<ipython-input-4-c21c21cffde8>\u001b[0m in \u001b[0;36m<module>\u001b[1;34m()\u001b[0m\n\u001b[1;32m----> 1\u001b[1;33m \u001b[0mdata\u001b[0m\u001b[1;33m[\u001b[0m\u001b[0mclf\u001b[0m\u001b[1;33m.\u001b[0m\u001b[0mpredict_proba\u001b[0m\u001b[1;33m(\u001b[0m\u001b[0mX\u001b[0m\u001b[1;33m)\u001b[0m\u001b[1;33m[\u001b[0m\u001b[1;33m:\u001b[0m\u001b[1;33m,\u001b[0m\u001b[1;36m1\u001b[0m\u001b[1;33m]\u001b[0m\u001b[1;33m>\u001b[0m\u001b[1;36m0.01\u001b[0m\u001b[1;33m]\u001b[0m\u001b[1;33m\u001b[0m\u001b[0m\n\u001b[0m",
      "\u001b[1;31mNameError\u001b[0m: name 'clf' is not defined"
     ]
    }
   ],
   "source": [
    "data[clf.predict_proba(X)[:,1]>0.01]"
   ]
  },
  {
   "cell_type": "code",
   "execution_count": 9,
   "metadata": {
    "collapsed": false
   },
   "outputs": [
    {
     "data": {
      "text/plain": [
       "['user_id',\n",
       " 'item_id',\n",
       " 'user_action_count',\n",
       " 'user_lastday_count',\n",
       " 'user_buy_count',\n",
       " 'item_click_count',\n",
       " 'item_lastday_count',\n",
       " 'item_buy_count',\n",
       " 'cat_click_count',\n",
       " 'cat_buy_count',\n",
       " 'user_cat_count',\n",
       " 'user_cat_lastday_count',\n",
       " 'user_item_count',\n",
       " 'user_item_lastday_count',\n",
       " 'user_add_car',\n",
       " 'user_add_star',\n",
       " 'item_added_car',\n",
       " 'item_added_start',\n",
       " 'user_item_lasttime',\n",
       " 'buy']"
      ]
     },
     "execution_count": 9,
     "metadata": {},
     "output_type": "execute_result"
    }
   ],
   "source": [
    "list(data.keys())"
   ]
  },
  {
   "cell_type": "code",
   "execution_count": 10,
   "metadata": {
    "collapsed": false
   },
   "outputs": [
    {
     "ename": "NameError",
     "evalue": "name 'X' is not defined",
     "output_type": "error",
     "traceback": [
      "\u001b[1;31m---------------------------------------------------------------------------\u001b[0m",
      "\u001b[1;31mNameError\u001b[0m                                 Traceback (most recent call last)",
      "\u001b[1;32m<ipython-input-10-253bcac7dd80>\u001b[0m in \u001b[0;36m<module>\u001b[1;34m()\u001b[0m\n\u001b[1;32m----> 1\u001b[1;33m \u001b[0mX\u001b[0m\u001b[1;33m\u001b[0m\u001b[0m\n\u001b[0m",
      "\u001b[1;31mNameError\u001b[0m: name 'X' is not defined"
     ]
    }
   ],
   "source": [
    "X"
   ]
  },
  {
   "cell_type": "code",
   "execution_count": 13,
   "metadata": {
    "collapsed": true
   },
   "outputs": [],
   "source": [
    "s='fasd.fadsf.afdfd'"
   ]
  },
  {
   "cell_type": "code",
   "execution_count": 19,
   "metadata": {
    "collapsed": false
   },
   "outputs": [
    {
     "data": {
      "text/plain": [
       "10"
      ]
     },
     "execution_count": 19,
     "metadata": {},
     "output_type": "execute_result"
    }
   ],
   "source": [
    "s.rfind('.')"
   ]
  },
  {
   "cell_type": "code",
   "execution_count": 73,
   "metadata": {
    "collapsed": true
   },
   "outputs": [],
   "source": [
    "import time"
   ]
  },
  {
   "cell_type": "code",
   "execution_count": 76,
   "metadata": {
    "collapsed": false
   },
   "outputs": [
    {
     "ename": "TypeError",
     "evalue": "argument must be 9-item sequence, not float",
     "output_type": "error",
     "traceback": [
      "\u001b[1;31m---------------------------------------------------------------------------\u001b[0m",
      "\u001b[1;31mTypeError\u001b[0m                                 Traceback (most recent call last)",
      "\u001b[1;32m<ipython-input-76-1a52cb256353>\u001b[0m in \u001b[0;36m<module>\u001b[1;34m()\u001b[0m\n\u001b[1;32m----> 1\u001b[1;33m \u001b[0mtime\u001b[0m\u001b[1;33m.\u001b[0m\u001b[0mstrftime\u001b[0m\u001b[1;33m(\u001b[0m\u001b[1;34m'%H:%m:%s'\u001b[0m\u001b[1;33m,\u001b[0m\u001b[0mtime\u001b[0m\u001b[1;33m.\u001b[0m\u001b[0mtime\u001b[0m\u001b[1;33m(\u001b[0m\u001b[1;33m)\u001b[0m\u001b[1;33m)\u001b[0m\u001b[1;33m\u001b[0m\u001b[0m\n\u001b[0m",
      "\u001b[1;31mTypeError\u001b[0m: argument must be 9-item sequence, not float"
     ]
    }
   ],
   "source": [
    "time.strftime('%H:%m:%s',time.time())"
   ]
  },
  {
   "cell_type": "code",
   "execution_count": 130,
   "metadata": {
    "collapsed": false
   },
   "outputs": [],
   "source": [
    "import re\n",
    "\n",
    "\n",
    "s = open('str_format.txt', 'rb').read()\n",
    "\n",
    "r = re.compile(r'(\\w+)\\s*=\\s*(\\w+)', re.MULTILINE)"
   ]
  },
  {
   "cell_type": "code",
   "execution_count": 131,
   "metadata": {
    "collapsed": false
   },
   "outputs": [],
   "source": [
    "m=r.findall(s)"
   ]
  },
  {
   "cell_type": "code",
   "execution_count": 142,
   "metadata": {
    "collapsed": false
   },
   "outputs": [
    {
     "data": {
      "text/plain": [
       "'dict'"
      ]
     },
     "execution_count": 142,
     "metadata": {},
     "output_type": "execute_result"
    }
   ],
   "source": [
    "r.search(s).group(2)"
   ]
  },
  {
   "cell_type": "code",
   "execution_count": 120,
   "metadata": {
    "collapsed": false
   },
   "outputs": [
    {
     "data": {
      "text/plain": [
       "'user_item_halfmonth_click'"
      ]
     },
     "execution_count": 120,
     "metadata": {},
     "output_type": "execute_result"
    }
   ],
   "source": [
    "re.search('\\w+', s, re.M).group()"
   ]
  },
  {
   "cell_type": "code",
   "execution_count": null,
   "metadata": {
    "collapsed": true
   },
   "outputs": [],
   "source": [
    "data."
   ]
  }
 ],
 "metadata": {
  "kernelspec": {
   "display_name": "Python 2",
   "language": "python",
   "name": "python2"
  },
  "language_info": {
   "codemirror_mode": {
    "name": "ipython",
    "version": 2
   },
   "file_extension": ".py",
   "mimetype": "text/x-python",
   "name": "python",
   "nbconvert_exporter": "python",
   "pygments_lexer": "ipython2",
   "version": "2.7.9"
  }
 },
 "nbformat": 4,
 "nbformat_minor": 0
}
