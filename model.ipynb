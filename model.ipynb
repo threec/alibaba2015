{
 "cells": [
  {
   "cell_type": "code",
   "execution_count": 1,
   "metadata": {
    "collapsed": false
   },
   "outputs": [],
   "source": [
    "import sklearn,pandas, sklearn.metrics\n",
    "import numpy as np\n",
    "from sklearn import datasets"
   ]
  },
  {
   "cell_type": "code",
   "execution_count": 14,
   "metadata": {
    "collapsed": false,
    "scrolled": true
   },
   "outputs": [
    {
     "data": {
      "text/html": [
       "<div style=\"max-height:1000px;max-width:1500px;overflow:auto;\">\n",
       "<table border=\"1\" class=\"dataframe\">\n",
       "  <thead>\n",
       "    <tr style=\"text-align: right;\">\n",
       "      <th></th>\n",
       "      <th>user_id</th>\n",
       "      <th>item_id</th>\n",
       "      <th>user_cat_lastday_count</th>\n",
       "      <th>user_item_lastday_count</th>\n",
       "      <th>buy</th>\n",
       "    </tr>\n",
       "  </thead>\n",
       "  <tbody>\n",
       "    <tr>\n",
       "      <th>0</th>\n",
       "      <td>8036273</td>\n",
       "      <td>360815626</td>\n",
       "      <td>13</td>\n",
       "      <td>3</td>\n",
       "      <td>0</td>\n",
       "    </tr>\n",
       "    <tr>\n",
       "      <th>1</th>\n",
       "      <td>27751835</td>\n",
       "      <td>244322130</td>\n",
       "      <td>0</td>\n",
       "      <td>0</td>\n",
       "      <td>0</td>\n",
       "    </tr>\n",
       "    <tr>\n",
       "      <th>2</th>\n",
       "      <td>98692568</td>\n",
       "      <td>371781541</td>\n",
       "      <td>0</td>\n",
       "      <td>0</td>\n",
       "      <td>0</td>\n",
       "    </tr>\n",
       "    <tr>\n",
       "      <th>3</th>\n",
       "      <td>69051488</td>\n",
       "      <td>86334753</td>\n",
       "      <td>0</td>\n",
       "      <td>0</td>\n",
       "      <td>0</td>\n",
       "    </tr>\n",
       "    <tr>\n",
       "      <th>4</th>\n",
       "      <td>65801616</td>\n",
       "      <td>117337750</td>\n",
       "      <td>0</td>\n",
       "      <td>0</td>\n",
       "      <td>0</td>\n",
       "    </tr>\n",
       "  </tbody>\n",
       "</table>\n",
       "</div>"
      ],
      "text/plain": [
       "    user_id    item_id  user_cat_lastday_count  user_item_lastday_count  buy\n",
       "0   8036273  360815626                      13                        3    0\n",
       "1  27751835  244322130                       0                        0    0\n",
       "2  98692568  371781541                       0                        0    0\n",
       "3  69051488   86334753                       0                        0    0\n",
       "4  65801616  117337750                       0                        0    0"
      ]
     },
     "execution_count": 14,
     "metadata": {},
     "output_type": "execute_result"
    }
   ],
   "source": [
    "data = pandas.read_csv('data.csv.subset.csv')\n",
    "data.head()"
   ]
  },
  {
   "cell_type": "code",
   "execution_count": 15,
   "metadata": {
    "collapsed": false
   },
   "outputs": [],
   "source": [
    "X=np.log(0.3+data[['user_item_lastday_count','user_cat_lastday_count']].as_matrix())\n",
    "Y=data['buy'].as_matrix()"
   ]
  },
  {
   "cell_type": "code",
   "execution_count": 9,
   "metadata": {
    "collapsed": false
   },
   "outputs": [],
   "source": [
    "data_test = pandas.read_csv('data_test.csv')\n",
    "X_test = np.log(0.3+data_test[['user_item_count','user_item_lastday_count']])\n",
    "Y_test = data_test['buy']"
   ]
  },
  {
   "cell_type": "code",
   "execution_count": 5,
   "metadata": {
    "collapsed": false
   },
   "outputs": [],
   "source": [
    "from sklearn.linear_model import LogisticRegressionCV, LogisticRegression\n",
    "from sklearn.metrics import f1_score\n",
    "from sklearn.grid_search import GridSearchCV\n"
   ]
  },
  {
   "cell_type": "code",
   "execution_count": 8,
   "metadata": {
    "collapsed": false
   },
   "outputs": [],
   "source": [
    "parms = {\n",
    "'C':[1],# np.logspace(-6,1,10),\n",
    "'class_weight':[{0:1,1:2},{0:1,1:10},{0:1,1:30},{0:1,1:100},{0:1,1:300},{0:1,1:1000}]\n",
    "}\n",
    "lr = LogisticRegression(C=10,class_weight={0:1,1:1})\n",
    "clf = GridSearchCV(lr, parms, scoring='f1')"
   ]
  },
  {
   "cell_type": "code",
   "execution_count": 5,
   "metadata": {
    "collapsed": false
   },
   "outputs": [
    {
     "data": {
      "text/plain": [
       "0    3539017\n",
       "1        574\n",
       "dtype: int64"
      ]
     },
     "execution_count": 5,
     "metadata": {},
     "output_type": "execute_result"
    }
   ],
   "source": [
    "data['buy'].value_counts()"
   ]
  },
  {
   "cell_type": "code",
   "execution_count": 6,
   "metadata": {
    "collapsed": false
   },
   "outputs": [],
   "source": [
    "counts = data['user_item_lastday_count'].value_counts()"
   ]
  },
  {
   "cell_type": "code",
   "execution_count": 36,
   "metadata": {
    "collapsed": false
   },
   "outputs": [
    {
     "data": {
      "text/plain": [
       "array([[  1.,  nan],\n",
       "       [ nan,  nan]])"
      ]
     },
     "execution_count": 36,
     "metadata": {},
     "output_type": "execute_result"
    }
   ],
   "source": [
    "np.corrcoef(data['user_item_count'], data['user_item_lastday_count'])"
   ]
  },
  {
   "cell_type": "code",
   "execution_count": null,
   "metadata": {
    "collapsed": false
   },
   "outputs": [],
   "source": [
    "clf.fit(X,Y)"
   ]
  },
  {
   "cell_type": "code",
   "execution_count": 6,
   "metadata": {
    "collapsed": false
   },
   "outputs": [
    {
     "ename": "AttributeError",
     "evalue": "'GridSearchCV' object has no attribute 'intercept_'",
     "output_type": "error",
     "traceback": [
      "\u001b[1;31m---------------------------------------------------------------------------\u001b[0m",
      "\u001b[1;31mAttributeError\u001b[0m                            Traceback (most recent call last)",
      "\u001b[1;32m<ipython-input-6-be8dc40e2368>\u001b[0m in \u001b[0;36m<module>\u001b[1;34m()\u001b[0m\n\u001b[1;32m----> 1\u001b[1;33m \u001b[0mclf\u001b[0m\u001b[1;33m.\u001b[0m\u001b[0mintercept_\u001b[0m\u001b[1;33m,\u001b[0m\u001b[0mclf\u001b[0m\u001b[1;33m.\u001b[0m\u001b[0mcoef_\u001b[0m\u001b[1;33m\u001b[0m\u001b[0m\n\u001b[0m",
      "\u001b[1;31mAttributeError\u001b[0m: 'GridSearchCV' object has no attribute 'intercept_'"
     ]
    }
   ],
   "source": [
    "clf.intercept_,clf.coef_"
   ]
  },
  {
   "cell_type": "code",
   "execution_count": 16,
   "metadata": {
    "collapsed": true
   },
   "outputs": [],
   "source": [
    "import pickle\n",
    "f = open('model2.model','rb')\n",
    "clf = pickle.load(f)\n",
    "f.close()"
   ]
  },
  {
   "cell_type": "code",
   "execution_count": 11,
   "metadata": {
    "collapsed": false
   },
   "outputs": [
    {
     "name": "stdout",
     "output_type": "stream",
     "text": [
      "[-4.57766365] [[ 0.65020026  1.34236491]]\n",
      "0.999630403385 0.99992922618\n",
      "3.64464692483 0.936768149883\n"
     ]
    }
   ],
   "source": [
    "clf = LogisticRegression(class_weight={0:1,1:100}, C=0.0013)\n",
    "clf.fit(X,Y)\n",
    "print clf.intercept_,clf.coef_\n",
    "print clf.score(X_test,Y_test),np.mean(data_test['buy']==0)\n",
    "pred = clf.predict(X_test)\n",
    "print f1_score(Y_test,pred)*100, f1_score(Y, clf.predict(X))*100"
   ]
  },
  {
   "cell_type": "code",
   "execution_count": 7,
   "metadata": {
    "collapsed": false
   },
   "outputs": [
    {
     "name": "stdout",
     "output_type": "stream",
     "text": [
      "0.0209094022246 {'C': 0.00021544346900318845, 'class_weight': {0: 1, 1: 100}}\n"
     ]
    }
   ],
   "source": [
    "print clf.best_score_,clf.best_params_"
   ]
  },
  {
   "cell_type": "code",
   "execution_count": 17,
   "metadata": {
    "collapsed": false
   },
   "outputs": [
    {
     "name": "stdout",
     "output_type": "stream",
     "text": [
      "302\n",
      "781\n",
      "0.0397350993377 0.0153649167734\n"
     ]
    }
   ],
   "source": [
    "print np.sum(Y)\n",
    "predX = clf.predict(X)\n",
    "print np.sum(predX)\n",
    "print sklearn.metrics.recall_score(Y, predX), sklearn.metrics.precision_score(Y, predX)"
   ]
  },
  {
   "cell_type": "code",
   "execution_count": 18,
   "metadata": {
    "collapsed": false
   },
   "outputs": [
    {
     "name": "stdout",
     "output_type": "stream",
     "text": [
      "0.0221606648199\n"
     ]
    }
   ],
   "source": [
    "print f1_score(Y, predX)"
   ]
  },
  {
   "cell_type": "code",
   "execution_count": 18,
   "metadata": {
    "collapsed": false
   },
   "outputs": [
    {
     "data": {
      "text/plain": [
       "0.00032767031943320836"
      ]
     },
     "execution_count": 18,
     "metadata": {},
     "output_type": "execute_result"
    }
   ],
   "source": [
    "1/(1/0.326+1/0.000328)"
   ]
  },
  {
   "cell_type": "code",
   "execution_count": 23,
   "metadata": {
    "collapsed": false
   },
   "outputs": [
    {
     "name": "stdout",
     "output_type": "stream",
     "text": [
      "358\n"
     ]
    }
   ],
   "source": [
    "print np.sum(clf.predict(X_test))"
   ]
  },
  {
   "cell_type": "code",
   "execution_count": 22,
   "metadata": {
    "collapsed": false
   },
   "outputs": [
    {
     "name": "stdout",
     "output_type": "stream",
     "text": [
      "[-4.57766365] [[ 0.65020026  1.34236491]]\n"
     ]
    }
   ],
   "source": [
    "print clf.intercept_,clf.coef_"
   ]
  },
  {
   "cell_type": "code",
   "execution_count": 12,
   "metadata": {
    "collapsed": false
   },
   "outputs": [],
   "source": [
    "y = np.zeros(20)\n",
    "t = np.linspace(5,100,20)\n",
    "for i in range(20):\n",
    "    y[i] = f1_score(Y,X[:,0]>np.log(0.3+t[i]))\n"
   ]
  },
  {
   "cell_type": "code",
   "execution_count": 13,
   "metadata": {
    "collapsed": false
   },
   "outputs": [
    {
     "data": {
      "text/plain": [
       "<matplotlib.axes._subplots.AxesSubplot at 0x2012b3d0>"
      ]
     },
     "execution_count": 13,
     "metadata": {},
     "output_type": "execute_result"
    },
    {
     "data": {
      "image/png": "[encoded data removed]",
      "text/plain": [
       "<matplotlib.figure.Figure at 0x2012b030>"
      ]
     },
     "metadata": {},
     "output_type": "display_data"
    }
   ],
   "source": [
    "%matplotlib inline\n",
    "pandas.DataFrame(y*100).plot()"
   ]
  },
  {
   "cell_type": "code",
   "execution_count": 16,
   "metadata": {
    "collapsed": false
   },
   "outputs": [
    {
     "name": "stdout",
     "output_type": "stream",
     "text": [
      "30.0 0.0019305019305\n",
      "0.0\n"
     ]
    }
   ],
   "source": [
    "print t[5],y[5]\n",
    "# print X_test\n",
    "print f1_score(Y_test,(X_test['user_item_count']>t[3]))"
   ]
  },
  {
   "cell_type": "code",
   "execution_count": 5,
   "metadata": {
    "collapsed": false
   },
   "outputs": [
    {
     "name": "stdout",
     "output_type": "stream",
     "text": [
      "GridSearchCV(cv=None, error_score='raise',\n",
      "       estimator=LogisticRegression(C=1.0, class_weight=None, dual=False, fit_intercept=True,\n",
      "          intercept_scaling=1, max_iter=100, multi_class='ovr',\n",
      "          penalty='l2', random_state=None, solver='liblinear', tol=0.0001,\n",
      "          verbose=0),\n",
      "       fit_params={}, iid=True, loss_func=None, n_jobs=16,\n",
      "       param_grid={'C': array([  1.00000e-06,   5.99484e-06,   3.59381e-05,   2.15443e-04,\n",
      "         1.29155e-03,   7.74264e-03,   4.64159e-02,   2.78256e-01,\n",
      "         1.66810e+00,   1.00000e+01]), 'class_weight': [{0: 1, 1: 2}, {0: 1, 1: 10}, {0: 1, 1: 30}, {0: 1, 1: 100}, {0: 1, 1: 300}, {0: 1, 1: 1000}]},\n",
      "       pre_dispatch='2*n_jobs', refit=True, score_func=None, scoring='f1',\n",
      "       verbose=0)\n"
     ]
    }
   ],
   "source": [
    "import pickle\n",
    "with open('model1.model','rb') as f:\n",
    "    clf = pickle.load(f)\n",
    "print clf"
   ]
  },
  {
   "cell_type": "code",
   "execution_count": 18,
   "metadata": {
    "collapsed": false
   },
   "outputs": [
    {
     "name": "stdout",
     "output_type": "stream",
     "text": [
      "1.00400405829\n",
      "{'C': 0.001291549665014884, 'class_weight': {0: 1, 1: 100}}\n"
     ]
    }
   ],
   "source": [
    "print clf.best_score_*100\n",
    "print clf.best_params_"
   ]
  },
  {
   "cell_type": "code",
   "execution_count": 15,
   "metadata": {
    "collapsed": true
   },
   "outputs": [],
   "source": [
    "est = clf.estimator"
   ]
  },
  {
   "cell_type": "code",
   "execution_count": 16,
   "metadata": {
    "collapsed": false
   },
   "outputs": [
    {
     "name": "stdout",
     "output_type": "stream",
     "text": [
      "0.0194432169686\n",
      "[0 0 0 ..., 0 0 0]\n"
     ]
    }
   ],
   "source": [
    "print clf.score(X,Y)\n",
    "print clf.predict(X)"
   ]
  },
  {
   "cell_type": "code",
   "execution_count": 22,
   "metadata": {
    "collapsed": false
   },
   "outputs": [
    {
     "data": {
      "text/plain": [
       "LogisticRegression(C=1.0, class_weight=None, dual=False, fit_intercept=True,\n",
       "          intercept_scaling=1, max_iter=100, multi_class='ovr',\n",
       "          penalty='l2', random_state=None, solver='liblinear', tol=0.0001,\n",
       "          verbose=0)"
      ]
     },
     "execution_count": 22,
     "metadata": {},
     "output_type": "execute_result"
    }
   ],
   "source": [
    "clf.estimator"
   ]
  },
  {
   "cell_type": "code",
   "execution_count": 34,
   "metadata": {
    "collapsed": false
   },
   "outputs": [
    {
     "data": {
      "text/plain": [
       "0    1179196\n",
       "1        215\n",
       "dtype: int64"
      ]
     },
     "execution_count": 34,
     "metadata": {},
     "output_type": "execute_result"
    }
   ],
   "source": [
    "data_test['buy'].value_counts()"
   ]
  },
  {
   "cell_type": "code",
   "execution_count": 47,
   "metadata": {
    "collapsed": false
   },
   "outputs": [
    {
     "data": {
      "text/plain": [
       "0.99981770561746497"
      ]
     },
     "execution_count": 47,
     "metadata": {},
     "output_type": "execute_result"
    }
   ],
   "source": [
    "clf.score(X_test,Y_test)"
   ]
  },
  {
   "cell_type": "code",
   "execution_count": 49,
   "metadata": {
    "collapsed": false
   },
   "outputs": [
    {
     "data": {
      "text/plain": [
       "array([0, 0, 0, ..., 0, 0, 0], dtype=int64)"
      ]
     },
     "execution_count": 49,
     "metadata": {},
     "output_type": "execute_result"
    }
   ],
   "source": [
    "pred = clf.predict(X_test)\n",
    "pred"
   ]
  },
  {
   "cell_type": "code",
   "execution_count": 22,
   "metadata": {
    "collapsed": false
   },
   "outputs": [
    {
     "data": {
      "text/plain": [
       "0.019891500904159132"
      ]
     },
     "execution_count": 22,
     "metadata": {},
     "output_type": "execute_result"
    }
   ],
   "source": [
    "f1_score(Y_test,pred)"
   ]
  },
  {
   "cell_type": "code",
   "execution_count": 38,
   "metadata": {
    "collapsed": false
   },
   "outputs": [
    {
     "data": {
      "text/plain": [
       "0.99981770561746497"
      ]
     },
     "execution_count": 38,
     "metadata": {},
     "output_type": "execute_result"
    }
   ],
   "source": [
    "np.mean(data_test['buy']==0)"
   ]
  },
  {
   "cell_type": "code",
   "execution_count": 23,
   "metadata": {
    "collapsed": false
   },
   "outputs": [
    {
     "data": {
      "text/plain": [
       "0.99871800415631196"
      ]
     },
     "execution_count": 23,
     "metadata": {},
     "output_type": "execute_result"
    }
   ],
   "source": [
    "np.mean(pred[:,0]>0.995)"
   ]
  },
  {
   "cell_type": "code",
   "execution_count": 65,
   "metadata": {
    "collapsed": false
   },
   "outputs": [
    {
     "data": {
      "text/plain": [
       "0    3539017\n",
       "1        574\n",
       "dtype: int64"
      ]
     },
     "execution_count": 65,
     "metadata": {},
     "output_type": "execute_result"
    }
   ],
   "source": [
    "data['buy'].value_counts()"
   ]
  },
  {
   "cell_type": "code",
   "execution_count": 29,
   "metadata": {
    "collapsed": false
   },
   "outputs": [
    {
     "data": {
      "text/html": [
       "<div style=\"max-height:1000px;max-width:1500px;overflow:auto;\">\n",
       "<table border=\"1\" class=\"dataframe\">\n",
       "  <thead>\n",
       "    <tr style=\"text-align: right;\">\n",
       "      <th></th>\n",
       "      <th>user_id</th>\n",
       "      <th>item_id</th>\n",
       "      <th>user_action_count</th>\n",
       "      <th>user_lastday_count</th>\n",
       "      <th>user_buy_count</th>\n",
       "      <th>item_click_count</th>\n",
       "      <th>item_lastday_count</th>\n",
       "      <th>item_buy_count</th>\n",
       "      <th>cat_click_count</th>\n",
       "      <th>cat_buy_count</th>\n",
       "      <th>user_cat_count</th>\n",
       "      <th>user_cat_lastday_count</th>\n",
       "      <th>user_item_count</th>\n",
       "      <th>user_item_lastday_count</th>\n",
       "      <th>buy</th>\n",
       "    </tr>\n",
       "  </thead>\n",
       "  <tbody>\n",
       "    <tr>\n",
       "      <th>0      </th>\n",
       "      <td>  27751835</td>\n",
       "      <td> 244322130</td>\n",
       "      <td>   843</td>\n",
       "      <td>    0</td>\n",
       "      <td>   7</td>\n",
       "      <td>   1</td>\n",
       "      <td>  0</td>\n",
       "      <td>  0</td>\n",
       "      <td>  12004</td>\n",
       "      <td>  137</td>\n",
       "      <td>  150</td>\n",
       "      <td>   0</td>\n",
       "      <td> 1</td>\n",
       "      <td> 0</td>\n",
       "      <td> 0</td>\n",
       "    </tr>\n",
       "    <tr>\n",
       "      <th>1      </th>\n",
       "      <td>  98692568</td>\n",
       "      <td> 371781541</td>\n",
       "      <td>   567</td>\n",
       "      <td>    0</td>\n",
       "      <td>  12</td>\n",
       "      <td>   2</td>\n",
       "      <td>  0</td>\n",
       "      <td>  0</td>\n",
       "      <td>   3969</td>\n",
       "      <td>   74</td>\n",
       "      <td>    6</td>\n",
       "      <td>   0</td>\n",
       "      <td> 2</td>\n",
       "      <td> 0</td>\n",
       "      <td> 0</td>\n",
       "    </tr>\n",
       "    <tr>\n",
       "      <th>2      </th>\n",
       "      <td> 100014756</td>\n",
       "      <td> 350273263</td>\n",
       "      <td>  1497</td>\n",
       "      <td>   66</td>\n",
       "      <td>  13</td>\n",
       "      <td>   2</td>\n",
       "      <td>  0</td>\n",
       "      <td>  0</td>\n",
       "      <td> 322649</td>\n",
       "      <td>  860</td>\n",
       "      <td>  119</td>\n",
       "      <td>   2</td>\n",
       "      <td> 2</td>\n",
       "      <td> 0</td>\n",
       "      <td> 0</td>\n",
       "    </tr>\n",
       "    <tr>\n",
       "      <th>3      </th>\n",
       "      <td>  48034560</td>\n",
       "      <td> 302154307</td>\n",
       "      <td>   248</td>\n",
       "      <td>    0</td>\n",
       "      <td>   9</td>\n",
       "      <td> 215</td>\n",
       "      <td>  8</td>\n",
       "      <td>  1</td>\n",
       "      <td> 290767</td>\n",
       "      <td>  957</td>\n",
       "      <td>    4</td>\n",
       "      <td>   0</td>\n",
       "      <td> 2</td>\n",
       "      <td> 0</td>\n",
       "      <td> 0</td>\n",
       "    </tr>\n",
       "    <tr>\n",
       "      <th>4      </th>\n",
       "      <td>  68352416</td>\n",
       "      <td> 197974051</td>\n",
       "      <td>  3148</td>\n",
       "      <td>   72</td>\n",
       "      <td>   4</td>\n",
       "      <td>   2</td>\n",
       "      <td>  0</td>\n",
       "      <td>  0</td>\n",
       "      <td>  51605</td>\n",
       "      <td> 1317</td>\n",
       "      <td>  123</td>\n",
       "      <td>   0</td>\n",
       "      <td> 1</td>\n",
       "      <td> 0</td>\n",
       "      <td> 0</td>\n",
       "    </tr>\n",
       "    <tr>\n",
       "      <th>5      </th>\n",
       "      <td>  91450392</td>\n",
       "      <td> 384935079</td>\n",
       "      <td>  1289</td>\n",
       "      <td>   94</td>\n",
       "      <td>   8</td>\n",
       "      <td>   3</td>\n",
       "      <td>  0</td>\n",
       "      <td>  0</td>\n",
       "      <td>  31023</td>\n",
       "      <td>  610</td>\n",
       "      <td>   17</td>\n",
       "      <td>   0</td>\n",
       "      <td> 3</td>\n",
       "      <td> 0</td>\n",
       "      <td> 0</td>\n",
       "    </tr>\n",
       "    <tr>\n",
       "      <th>6      </th>\n",
       "      <td>  68089629</td>\n",
       "      <td> 265879503</td>\n",
       "      <td>  3084</td>\n",
       "      <td>   46</td>\n",
       "      <td>   9</td>\n",
       "      <td> 154</td>\n",
       "      <td>  5</td>\n",
       "      <td> 11</td>\n",
       "      <td>  56403</td>\n",
       "      <td>  948</td>\n",
       "      <td>   26</td>\n",
       "      <td>   0</td>\n",
       "      <td> 2</td>\n",
       "      <td> 0</td>\n",
       "      <td> 0</td>\n",
       "    </tr>\n",
       "    <tr>\n",
       "      <th>7      </th>\n",
       "      <td>  26047046</td>\n",
       "      <td>  57878922</td>\n",
       "      <td>  2049</td>\n",
       "      <td>   68</td>\n",
       "      <td>   2</td>\n",
       "      <td>  43</td>\n",
       "      <td>  0</td>\n",
       "      <td>  1</td>\n",
       "      <td> 290767</td>\n",
       "      <td>  957</td>\n",
       "      <td>  191</td>\n",
       "      <td>   2</td>\n",
       "      <td> 2</td>\n",
       "      <td> 0</td>\n",
       "      <td> 0</td>\n",
       "    </tr>\n",
       "    <tr>\n",
       "      <th>8      </th>\n",
       "      <td> 108430412</td>\n",
       "      <td> 245000744</td>\n",
       "      <td>  6531</td>\n",
       "      <td>  266</td>\n",
       "      <td>  11</td>\n",
       "      <td>   2</td>\n",
       "      <td>  0</td>\n",
       "      <td>  0</td>\n",
       "      <td> 316540</td>\n",
       "      <td>  855</td>\n",
       "      <td>  245</td>\n",
       "      <td>   0</td>\n",
       "      <td> 2</td>\n",
       "      <td> 0</td>\n",
       "      <td> 0</td>\n",
       "    </tr>\n",
       "    <tr>\n",
       "      <th>9      </th>\n",
       "      <td>  14655396</td>\n",
       "      <td> 214188424</td>\n",
       "      <td>   198</td>\n",
       "      <td>    0</td>\n",
       "      <td>   1</td>\n",
       "      <td>   2</td>\n",
       "      <td>  0</td>\n",
       "      <td>  0</td>\n",
       "      <td>  25715</td>\n",
       "      <td>  323</td>\n",
       "      <td>    2</td>\n",
       "      <td>   0</td>\n",
       "      <td> 2</td>\n",
       "      <td> 0</td>\n",
       "      <td> 0</td>\n",
       "    </tr>\n",
       "    <tr>\n",
       "      <th>10     </th>\n",
       "      <td> 122626233</td>\n",
       "      <td> 391644240</td>\n",
       "      <td>  4461</td>\n",
       "      <td>   87</td>\n",
       "      <td>   6</td>\n",
       "      <td>   4</td>\n",
       "      <td>  0</td>\n",
       "      <td>  0</td>\n",
       "      <td>  75311</td>\n",
       "      <td> 1090</td>\n",
       "      <td>   81</td>\n",
       "      <td>   0</td>\n",
       "      <td> 4</td>\n",
       "      <td> 0</td>\n",
       "      <td> 0</td>\n",
       "    </tr>\n",
       "    <tr>\n",
       "      <th>11     </th>\n",
       "      <td> 129077923</td>\n",
       "      <td> 221007776</td>\n",
       "      <td>  1816</td>\n",
       "      <td>   30</td>\n",
       "      <td>  31</td>\n",
       "      <td>   3</td>\n",
       "      <td>  0</td>\n",
       "      <td>  0</td>\n",
       "      <td>   8176</td>\n",
       "      <td>  116</td>\n",
       "      <td>  114</td>\n",
       "      <td>   0</td>\n",
       "      <td> 3</td>\n",
       "      <td> 0</td>\n",
       "      <td> 0</td>\n",
       "    </tr>\n",
       "    <tr>\n",
       "      <th>12     </th>\n",
       "      <td>  36140679</td>\n",
       "      <td> 269289919</td>\n",
       "      <td>  4920</td>\n",
       "      <td>    0</td>\n",
       "      <td>  69</td>\n",
       "      <td>   1</td>\n",
       "      <td>  0</td>\n",
       "      <td>  0</td>\n",
       "      <td>   5753</td>\n",
       "      <td>   86</td>\n",
       "      <td> 1781</td>\n",
       "      <td>   0</td>\n",
       "      <td> 1</td>\n",
       "      <td> 0</td>\n",
       "      <td> 0</td>\n",
       "    </tr>\n",
       "    <tr>\n",
       "      <th>13     </th>\n",
       "      <td>  29847444</td>\n",
       "      <td> 324924415</td>\n",
       "      <td>  2159</td>\n",
       "      <td>   41</td>\n",
       "      <td>  64</td>\n",
       "      <td>   9</td>\n",
       "      <td>  0</td>\n",
       "      <td>  0</td>\n",
       "      <td>   2404</td>\n",
       "      <td>   34</td>\n",
       "      <td>    5</td>\n",
       "      <td>   0</td>\n",
       "      <td> 5</td>\n",
       "      <td> 0</td>\n",
       "      <td> 0</td>\n",
       "    </tr>\n",
       "    <tr>\n",
       "      <th>14     </th>\n",
       "      <td>  76236587</td>\n",
       "      <td>  75082200</td>\n",
       "      <td>  3148</td>\n",
       "      <td>  118</td>\n",
       "      <td>  79</td>\n",
       "      <td>   2</td>\n",
       "      <td>  0</td>\n",
       "      <td>  0</td>\n",
       "      <td>    647</td>\n",
       "      <td>    1</td>\n",
       "      <td>   61</td>\n",
       "      <td>   0</td>\n",
       "      <td> 2</td>\n",
       "      <td> 0</td>\n",
       "      <td> 0</td>\n",
       "    </tr>\n",
       "    <tr>\n",
       "      <th>15     </th>\n",
       "      <td>  27751835</td>\n",
       "      <td>  34563280</td>\n",
       "      <td>   843</td>\n",
       "      <td>    0</td>\n",
       "      <td>   7</td>\n",
       "      <td>   3</td>\n",
       "      <td>  0</td>\n",
       "      <td>  0</td>\n",
       "      <td> 397320</td>\n",
       "      <td> 1782</td>\n",
       "      <td>  165</td>\n",
       "      <td>   0</td>\n",
       "      <td> 3</td>\n",
       "      <td> 0</td>\n",
       "      <td> 0</td>\n",
       "    </tr>\n",
       "    <tr>\n",
       "      <th>16     </th>\n",
       "      <td>  77504559</td>\n",
       "      <td> 364704505</td>\n",
       "      <td> 10706</td>\n",
       "      <td>  408</td>\n",
       "      <td>  26</td>\n",
       "      <td>   1</td>\n",
       "      <td>  0</td>\n",
       "      <td>  0</td>\n",
       "      <td>    410</td>\n",
       "      <td>    8</td>\n",
       "      <td>    1</td>\n",
       "      <td>   0</td>\n",
       "      <td> 1</td>\n",
       "      <td> 0</td>\n",
       "      <td> 0</td>\n",
       "    </tr>\n",
       "    <tr>\n",
       "      <th>17     </th>\n",
       "      <td>  50915402</td>\n",
       "      <td> 290000736</td>\n",
       "      <td> 16615</td>\n",
       "      <td> 1210</td>\n",
       "      <td>   4</td>\n",
       "      <td>   1</td>\n",
       "      <td>  0</td>\n",
       "      <td>  0</td>\n",
       "      <td> 290767</td>\n",
       "      <td>  957</td>\n",
       "      <td>  535</td>\n",
       "      <td> 119</td>\n",
       "      <td> 1</td>\n",
       "      <td> 0</td>\n",
       "      <td> 0</td>\n",
       "    </tr>\n",
       "    <tr>\n",
       "      <th>18     </th>\n",
       "      <td>  99903128</td>\n",
       "      <td> 368881676</td>\n",
       "      <td>  7366</td>\n",
       "      <td>  125</td>\n",
       "      <td>  58</td>\n",
       "      <td>   1</td>\n",
       "      <td>  0</td>\n",
       "      <td>  0</td>\n",
       "      <td>  13856</td>\n",
       "      <td>  164</td>\n",
       "      <td>  230</td>\n",
       "      <td>   3</td>\n",
       "      <td> 1</td>\n",
       "      <td> 0</td>\n",
       "      <td> 0</td>\n",
       "    </tr>\n",
       "    <tr>\n",
       "      <th>19     </th>\n",
       "      <td>  26664688</td>\n",
       "      <td> 106700549</td>\n",
       "      <td>  3661</td>\n",
       "      <td>  484</td>\n",
       "      <td>  45</td>\n",
       "      <td>   3</td>\n",
       "      <td>  0</td>\n",
       "      <td>  0</td>\n",
       "      <td> 125857</td>\n",
       "      <td>  717</td>\n",
       "      <td>    6</td>\n",
       "      <td>   0</td>\n",
       "      <td> 3</td>\n",
       "      <td> 0</td>\n",
       "      <td> 0</td>\n",
       "    </tr>\n",
       "    <tr>\n",
       "      <th>20     </th>\n",
       "      <td>  11521732</td>\n",
       "      <td> 128461162</td>\n",
       "      <td>  4948</td>\n",
       "      <td>   76</td>\n",
       "      <td> 111</td>\n",
       "      <td>   3</td>\n",
       "      <td>  0</td>\n",
       "      <td>  0</td>\n",
       "      <td> 160535</td>\n",
       "      <td>  561</td>\n",
       "      <td>  202</td>\n",
       "      <td>   5</td>\n",
       "      <td> 3</td>\n",
       "      <td> 0</td>\n",
       "      <td> 0</td>\n",
       "    </tr>\n",
       "    <tr>\n",
       "      <th>21     </th>\n",
       "      <td> 124343016</td>\n",
       "      <td> 177158600</td>\n",
       "      <td>   928</td>\n",
       "      <td>   57</td>\n",
       "      <td>   6</td>\n",
       "      <td>   2</td>\n",
       "      <td>  0</td>\n",
       "      <td>  0</td>\n",
       "      <td>  25423</td>\n",
       "      <td>  362</td>\n",
       "      <td>    8</td>\n",
       "      <td>   0</td>\n",
       "      <td> 2</td>\n",
       "      <td> 0</td>\n",
       "      <td> 0</td>\n",
       "    </tr>\n",
       "    <tr>\n",
       "      <th>22     </th>\n",
       "      <td> 124167000</td>\n",
       "      <td> 325752091</td>\n",
       "      <td>  6595</td>\n",
       "      <td>  272</td>\n",
       "      <td>   5</td>\n",
       "      <td>   5</td>\n",
       "      <td>  0</td>\n",
       "      <td>  0</td>\n",
       "      <td>   5632</td>\n",
       "      <td>    4</td>\n",
       "      <td>  107</td>\n",
       "      <td>   8</td>\n",
       "      <td> 5</td>\n",
       "      <td> 0</td>\n",
       "      <td> 0</td>\n",
       "    </tr>\n",
       "    <tr>\n",
       "      <th>23     </th>\n",
       "      <td>    643640</td>\n",
       "      <td>  65520130</td>\n",
       "      <td> 14805</td>\n",
       "      <td>  830</td>\n",
       "      <td>  22</td>\n",
       "      <td>   1</td>\n",
       "      <td>  0</td>\n",
       "      <td>  0</td>\n",
       "      <td>  89510</td>\n",
       "      <td>  878</td>\n",
       "      <td>  293</td>\n",
       "      <td>  15</td>\n",
       "      <td> 1</td>\n",
       "      <td> 0</td>\n",
       "      <td> 0</td>\n",
       "    </tr>\n",
       "    <tr>\n",
       "      <th>24     </th>\n",
       "      <td>  90795949</td>\n",
       "      <td> 192451581</td>\n",
       "      <td>  3209</td>\n",
       "      <td>  245</td>\n",
       "      <td>  15</td>\n",
       "      <td>   1</td>\n",
       "      <td>  0</td>\n",
       "      <td>  0</td>\n",
       "      <td>  21790</td>\n",
       "      <td>  546</td>\n",
       "      <td>   17</td>\n",
       "      <td>   0</td>\n",
       "      <td> 1</td>\n",
       "      <td> 0</td>\n",
       "      <td> 0</td>\n",
       "    </tr>\n",
       "    <tr>\n",
       "      <th>25     </th>\n",
       "      <td>  97861587</td>\n",
       "      <td> 163009105</td>\n",
       "      <td>   236</td>\n",
       "      <td>   35</td>\n",
       "      <td>  12</td>\n",
       "      <td> 137</td>\n",
       "      <td> 10</td>\n",
       "      <td>  4</td>\n",
       "      <td>   1621</td>\n",
       "      <td>   44</td>\n",
       "      <td>   11</td>\n",
       "      <td>   0</td>\n",
       "      <td> 3</td>\n",
       "      <td> 0</td>\n",
       "      <td> 0</td>\n",
       "    </tr>\n",
       "    <tr>\n",
       "      <th>26     </th>\n",
       "      <td>   3410120</td>\n",
       "      <td> 194472040</td>\n",
       "      <td>   718</td>\n",
       "      <td>   60</td>\n",
       "      <td>   4</td>\n",
       "      <td>  30</td>\n",
       "      <td>  0</td>\n",
       "      <td>  0</td>\n",
       "      <td>  61846</td>\n",
       "      <td>  500</td>\n",
       "      <td>  124</td>\n",
       "      <td>   0</td>\n",
       "      <td> 2</td>\n",
       "      <td> 0</td>\n",
       "      <td> 0</td>\n",
       "    </tr>\n",
       "    <tr>\n",
       "      <th>27     </th>\n",
       "      <td>   1067390</td>\n",
       "      <td> 249881952</td>\n",
       "      <td>  1118</td>\n",
       "      <td>   45</td>\n",
       "      <td>  29</td>\n",
       "      <td>   3</td>\n",
       "      <td>  0</td>\n",
       "      <td>  0</td>\n",
       "      <td>  51726</td>\n",
       "      <td>  557</td>\n",
       "      <td>   41</td>\n",
       "      <td>   0</td>\n",
       "      <td> 2</td>\n",
       "      <td> 0</td>\n",
       "      <td> 0</td>\n",
       "    </tr>\n",
       "    <tr>\n",
       "      <th>28     </th>\n",
       "      <td>  48588889</td>\n",
       "      <td> 214110240</td>\n",
       "      <td>  1015</td>\n",
       "      <td>   11</td>\n",
       "      <td>  12</td>\n",
       "      <td> 129</td>\n",
       "      <td>  0</td>\n",
       "      <td> 11</td>\n",
       "      <td>   5776</td>\n",
       "      <td>  191</td>\n",
       "      <td>   12</td>\n",
       "      <td>   0</td>\n",
       "      <td> 8</td>\n",
       "      <td> 0</td>\n",
       "      <td> 0</td>\n",
       "    </tr>\n",
       "    <tr>\n",
       "      <th>29     </th>\n",
       "      <td>  19936645</td>\n",
       "      <td>  50153640</td>\n",
       "      <td>  2408</td>\n",
       "      <td>  171</td>\n",
       "      <td>  19</td>\n",
       "      <td> 124</td>\n",
       "      <td> 26</td>\n",
       "      <td>  0</td>\n",
       "      <td> 290767</td>\n",
       "      <td>  957</td>\n",
       "      <td>  567</td>\n",
       "      <td>  72</td>\n",
       "      <td> 2</td>\n",
       "      <td> 0</td>\n",
       "      <td> 0</td>\n",
       "    </tr>\n",
       "    <tr>\n",
       "      <th>...</th>\n",
       "      <td>...</td>\n",
       "      <td>...</td>\n",
       "      <td>...</td>\n",
       "      <td>...</td>\n",
       "      <td>...</td>\n",
       "      <td>...</td>\n",
       "      <td>...</td>\n",
       "      <td>...</td>\n",
       "      <td>...</td>\n",
       "      <td>...</td>\n",
       "      <td>...</td>\n",
       "      <td>...</td>\n",
       "      <td>...</td>\n",
       "      <td>...</td>\n",
       "      <td>...</td>\n",
       "    </tr>\n",
       "    <tr>\n",
       "      <th>3539561</th>\n",
       "      <td>  62193211</td>\n",
       "      <td> 353908734</td>\n",
       "      <td>  2301</td>\n",
       "      <td>    2</td>\n",
       "      <td>  14</td>\n",
       "      <td>   3</td>\n",
       "      <td>  0</td>\n",
       "      <td>  0</td>\n",
       "      <td>    322</td>\n",
       "      <td>    2</td>\n",
       "      <td>    5</td>\n",
       "      <td>   0</td>\n",
       "      <td> 2</td>\n",
       "      <td> 0</td>\n",
       "      <td> 0</td>\n",
       "    </tr>\n",
       "    <tr>\n",
       "      <th>3539562</th>\n",
       "      <td>  27313574</td>\n",
       "      <td> 197597547</td>\n",
       "      <td>  2457</td>\n",
       "      <td>   40</td>\n",
       "      <td>  24</td>\n",
       "      <td>  87</td>\n",
       "      <td>  0</td>\n",
       "      <td>  0</td>\n",
       "      <td>   5562</td>\n",
       "      <td>   95</td>\n",
       "      <td>   18</td>\n",
       "      <td>   0</td>\n",
       "      <td> 2</td>\n",
       "      <td> 0</td>\n",
       "      <td> 0</td>\n",
       "    </tr>\n",
       "    <tr>\n",
       "      <th>3539563</th>\n",
       "      <td> 135012604</td>\n",
       "      <td> 143449146</td>\n",
       "      <td>  1260</td>\n",
       "      <td>   22</td>\n",
       "      <td>  42</td>\n",
       "      <td>   3</td>\n",
       "      <td>  0</td>\n",
       "      <td>  0</td>\n",
       "      <td>   1987</td>\n",
       "      <td>   13</td>\n",
       "      <td>   56</td>\n",
       "      <td>   0</td>\n",
       "      <td> 1</td>\n",
       "      <td> 0</td>\n",
       "      <td> 0</td>\n",
       "    </tr>\n",
       "    <tr>\n",
       "      <th>3539564</th>\n",
       "      <td> 110388596</td>\n",
       "      <td> 249725494</td>\n",
       "      <td>  1195</td>\n",
       "      <td>    0</td>\n",
       "      <td>   7</td>\n",
       "      <td>  13</td>\n",
       "      <td>  0</td>\n",
       "      <td>  0</td>\n",
       "      <td>   9192</td>\n",
       "      <td>   85</td>\n",
       "      <td>    3</td>\n",
       "      <td>   0</td>\n",
       "      <td> 3</td>\n",
       "      <td> 0</td>\n",
       "      <td> 0</td>\n",
       "    </tr>\n",
       "    <tr>\n",
       "      <th>3539565</th>\n",
       "      <td>  42560916</td>\n",
       "      <td> 359998786</td>\n",
       "      <td>  3067</td>\n",
       "      <td>  164</td>\n",
       "      <td>  48</td>\n",
       "      <td>   9</td>\n",
       "      <td>  0</td>\n",
       "      <td>  0</td>\n",
       "      <td>  61846</td>\n",
       "      <td>  500</td>\n",
       "      <td>   34</td>\n",
       "      <td>   0</td>\n",
       "      <td> 3</td>\n",
       "      <td> 0</td>\n",
       "      <td> 0</td>\n",
       "    </tr>\n",
       "    <tr>\n",
       "      <th>3539566</th>\n",
       "      <td>  12725240</td>\n",
       "      <td> 302981075</td>\n",
       "      <td>  1666</td>\n",
       "      <td>   45</td>\n",
       "      <td>   7</td>\n",
       "      <td>   3</td>\n",
       "      <td>  0</td>\n",
       "      <td>  0</td>\n",
       "      <td>   7261</td>\n",
       "      <td>   19</td>\n",
       "      <td>  294</td>\n",
       "      <td>   0</td>\n",
       "      <td> 3</td>\n",
       "      <td> 0</td>\n",
       "      <td> 0</td>\n",
       "    </tr>\n",
       "    <tr>\n",
       "      <th>3539567</th>\n",
       "      <td> 130321834</td>\n",
       "      <td> 164049778</td>\n",
       "      <td>   655</td>\n",
       "      <td>    0</td>\n",
       "      <td>  61</td>\n",
       "      <td>   2</td>\n",
       "      <td>  0</td>\n",
       "      <td>  1</td>\n",
       "      <td> 367577</td>\n",
       "      <td>  822</td>\n",
       "      <td>   31</td>\n",
       "      <td>   0</td>\n",
       "      <td> 1</td>\n",
       "      <td> 0</td>\n",
       "      <td> 0</td>\n",
       "    </tr>\n",
       "    <tr>\n",
       "      <th>3539568</th>\n",
       "      <td>   1017622</td>\n",
       "      <td> 382506304</td>\n",
       "      <td>  5341</td>\n",
       "      <td>  232</td>\n",
       "      <td>  14</td>\n",
       "      <td>   2</td>\n",
       "      <td>  0</td>\n",
       "      <td>  0</td>\n",
       "      <td> 397320</td>\n",
       "      <td> 1782</td>\n",
       "      <td>  227</td>\n",
       "      <td>  11</td>\n",
       "      <td> 2</td>\n",
       "      <td> 0</td>\n",
       "      <td> 0</td>\n",
       "    </tr>\n",
       "    <tr>\n",
       "      <th>3539569</th>\n",
       "      <td>  12161548</td>\n",
       "      <td> 366170671</td>\n",
       "      <td>  1597</td>\n",
       "      <td>    0</td>\n",
       "      <td>  21</td>\n",
       "      <td>   2</td>\n",
       "      <td>  0</td>\n",
       "      <td>  0</td>\n",
       "      <td>  23588</td>\n",
       "      <td>  345</td>\n",
       "      <td>   32</td>\n",
       "      <td>   0</td>\n",
       "      <td> 2</td>\n",
       "      <td> 0</td>\n",
       "      <td> 0</td>\n",
       "    </tr>\n",
       "    <tr>\n",
       "      <th>3539570</th>\n",
       "      <td> 120226592</td>\n",
       "      <td> 241789906</td>\n",
       "      <td>  2517</td>\n",
       "      <td>  106</td>\n",
       "      <td>   0</td>\n",
       "      <td>  48</td>\n",
       "      <td>  2</td>\n",
       "      <td>  0</td>\n",
       "      <td> 397320</td>\n",
       "      <td> 1782</td>\n",
       "      <td>  617</td>\n",
       "      <td>  93</td>\n",
       "      <td> 2</td>\n",
       "      <td> 2</td>\n",
       "      <td> 0</td>\n",
       "    </tr>\n",
       "    <tr>\n",
       "      <th>3539571</th>\n",
       "      <td> 141263225</td>\n",
       "      <td> 342286126</td>\n",
       "      <td>  1176</td>\n",
       "      <td>    2</td>\n",
       "      <td>  27</td>\n",
       "      <td>   1</td>\n",
       "      <td>  0</td>\n",
       "      <td>  0</td>\n",
       "      <td>  77834</td>\n",
       "      <td>  682</td>\n",
       "      <td>   29</td>\n",
       "      <td>   0</td>\n",
       "      <td> 1</td>\n",
       "      <td> 0</td>\n",
       "      <td> 0</td>\n",
       "    </tr>\n",
       "    <tr>\n",
       "      <th>3539572</th>\n",
       "      <td>   4607223</td>\n",
       "      <td> 186486999</td>\n",
       "      <td>  2716</td>\n",
       "      <td>   71</td>\n",
       "      <td>  56</td>\n",
       "      <td>   3</td>\n",
       "      <td>  0</td>\n",
       "      <td>  1</td>\n",
       "      <td>   1305</td>\n",
       "      <td>   18</td>\n",
       "      <td>    4</td>\n",
       "      <td>   0</td>\n",
       "      <td> 3</td>\n",
       "      <td> 0</td>\n",
       "      <td> 0</td>\n",
       "    </tr>\n",
       "    <tr>\n",
       "      <th>3539573</th>\n",
       "      <td>  83540417</td>\n",
       "      <td> 322157239</td>\n",
       "      <td>  3223</td>\n",
       "      <td>    4</td>\n",
       "      <td>  19</td>\n",
       "      <td>   5</td>\n",
       "      <td>  0</td>\n",
       "      <td>  0</td>\n",
       "      <td>  61846</td>\n",
       "      <td>  500</td>\n",
       "      <td>  122</td>\n",
       "      <td>   0</td>\n",
       "      <td> 2</td>\n",
       "      <td> 0</td>\n",
       "      <td> 0</td>\n",
       "    </tr>\n",
       "    <tr>\n",
       "      <th>3539574</th>\n",
       "      <td>  52417718</td>\n",
       "      <td> 133210280</td>\n",
       "      <td>  1997</td>\n",
       "      <td>   75</td>\n",
       "      <td>  21</td>\n",
       "      <td>  13</td>\n",
       "      <td>  3</td>\n",
       "      <td>  0</td>\n",
       "      <td>   4797</td>\n",
       "      <td>  126</td>\n",
       "      <td>    5</td>\n",
       "      <td>   0</td>\n",
       "      <td> 2</td>\n",
       "      <td> 0</td>\n",
       "      <td> 0</td>\n",
       "    </tr>\n",
       "    <tr>\n",
       "      <th>3539575</th>\n",
       "      <td>  68352416</td>\n",
       "      <td>  54136287</td>\n",
       "      <td>  3148</td>\n",
       "      <td>   72</td>\n",
       "      <td>   4</td>\n",
       "      <td>  55</td>\n",
       "      <td>  0</td>\n",
       "      <td>  0</td>\n",
       "      <td> 125857</td>\n",
       "      <td>  717</td>\n",
       "      <td>   93</td>\n",
       "      <td>   0</td>\n",
       "      <td> 1</td>\n",
       "      <td> 0</td>\n",
       "      <td> 0</td>\n",
       "    </tr>\n",
       "    <tr>\n",
       "      <th>3539576</th>\n",
       "      <td>  69588442</td>\n",
       "      <td> 302799839</td>\n",
       "      <td>  4863</td>\n",
       "      <td>   36</td>\n",
       "      <td>   6</td>\n",
       "      <td>   2</td>\n",
       "      <td>  0</td>\n",
       "      <td>  0</td>\n",
       "      <td> 316540</td>\n",
       "      <td>  855</td>\n",
       "      <td> 1064</td>\n",
       "      <td>  12</td>\n",
       "      <td> 2</td>\n",
       "      <td> 0</td>\n",
       "      <td> 0</td>\n",
       "    </tr>\n",
       "    <tr>\n",
       "      <th>3539577</th>\n",
       "      <td>  60432494</td>\n",
       "      <td>  44399268</td>\n",
       "      <td>  1653</td>\n",
       "      <td>    6</td>\n",
       "      <td>   7</td>\n",
       "      <td>   6</td>\n",
       "      <td>  0</td>\n",
       "      <td>  0</td>\n",
       "      <td>     69</td>\n",
       "      <td>    0</td>\n",
       "      <td>    4</td>\n",
       "      <td>   0</td>\n",
       "      <td> 2</td>\n",
       "      <td> 0</td>\n",
       "      <td> 0</td>\n",
       "    </tr>\n",
       "    <tr>\n",
       "      <th>3539578</th>\n",
       "      <td> 122714235</td>\n",
       "      <td> 144812485</td>\n",
       "      <td>  1358</td>\n",
       "      <td>   35</td>\n",
       "      <td>  16</td>\n",
       "      <td>   1</td>\n",
       "      <td>  0</td>\n",
       "      <td>  0</td>\n",
       "      <td> 397320</td>\n",
       "      <td> 1782</td>\n",
       "      <td>   48</td>\n",
       "      <td>  10</td>\n",
       "      <td> 1</td>\n",
       "      <td> 0</td>\n",
       "      <td> 0</td>\n",
       "    </tr>\n",
       "    <tr>\n",
       "      <th>3539579</th>\n",
       "      <td>  89205429</td>\n",
       "      <td>  64604824</td>\n",
       "      <td>   595</td>\n",
       "      <td>   18</td>\n",
       "      <td>  31</td>\n",
       "      <td>   6</td>\n",
       "      <td>  0</td>\n",
       "      <td>  0</td>\n",
       "      <td> 290767</td>\n",
       "      <td>  957</td>\n",
       "      <td>    4</td>\n",
       "      <td>   0</td>\n",
       "      <td> 1</td>\n",
       "      <td> 0</td>\n",
       "      <td> 0</td>\n",
       "    </tr>\n",
       "    <tr>\n",
       "      <th>3539580</th>\n",
       "      <td>    229807</td>\n",
       "      <td> 397122015</td>\n",
       "      <td>   722</td>\n",
       "      <td>    0</td>\n",
       "      <td>   7</td>\n",
       "      <td>  25</td>\n",
       "      <td>  0</td>\n",
       "      <td>  0</td>\n",
       "      <td> 173112</td>\n",
       "      <td>  713</td>\n",
       "      <td>  101</td>\n",
       "      <td>   0</td>\n",
       "      <td> 6</td>\n",
       "      <td> 0</td>\n",
       "      <td> 0</td>\n",
       "    </tr>\n",
       "    <tr>\n",
       "      <th>3539581</th>\n",
       "      <td>  89315288</td>\n",
       "      <td>  96436751</td>\n",
       "      <td>  5899</td>\n",
       "      <td>  260</td>\n",
       "      <td>  52</td>\n",
       "      <td>   3</td>\n",
       "      <td>  0</td>\n",
       "      <td>  0</td>\n",
       "      <td>    308</td>\n",
       "      <td>    0</td>\n",
       "      <td>    5</td>\n",
       "      <td>   0</td>\n",
       "      <td> 2</td>\n",
       "      <td> 0</td>\n",
       "      <td> 0</td>\n",
       "    </tr>\n",
       "    <tr>\n",
       "      <th>3539582</th>\n",
       "      <td> 134621848</td>\n",
       "      <td> 341053685</td>\n",
       "      <td>  7906</td>\n",
       "      <td>  120</td>\n",
       "      <td>  32</td>\n",
       "      <td>   4</td>\n",
       "      <td>  0</td>\n",
       "      <td>  0</td>\n",
       "      <td> 316540</td>\n",
       "      <td>  855</td>\n",
       "      <td>  260</td>\n",
       "      <td>   7</td>\n",
       "      <td> 4</td>\n",
       "      <td> 0</td>\n",
       "      <td> 0</td>\n",
       "    </tr>\n",
       "    <tr>\n",
       "      <th>3539583</th>\n",
       "      <td>  54867992</td>\n",
       "      <td> 222920181</td>\n",
       "      <td>  3014</td>\n",
       "      <td>   59</td>\n",
       "      <td>   8</td>\n",
       "      <td>   5</td>\n",
       "      <td>  0</td>\n",
       "      <td>  0</td>\n",
       "      <td>   5632</td>\n",
       "      <td>    4</td>\n",
       "      <td>  115</td>\n",
       "      <td>   0</td>\n",
       "      <td> 2</td>\n",
       "      <td> 0</td>\n",
       "      <td> 0</td>\n",
       "    </tr>\n",
       "    <tr>\n",
       "      <th>3539584</th>\n",
       "      <td>  15407004</td>\n",
       "      <td> 114820331</td>\n",
       "      <td>   705</td>\n",
       "      <td>   54</td>\n",
       "      <td>   5</td>\n",
       "      <td>   8</td>\n",
       "      <td>  0</td>\n",
       "      <td>  0</td>\n",
       "      <td>   5435</td>\n",
       "      <td>   72</td>\n",
       "      <td>    6</td>\n",
       "      <td>   0</td>\n",
       "      <td> 2</td>\n",
       "      <td> 0</td>\n",
       "      <td> 0</td>\n",
       "    </tr>\n",
       "    <tr>\n",
       "      <th>3539585</th>\n",
       "      <td>  47346917</td>\n",
       "      <td> 138084792</td>\n",
       "      <td>  6858</td>\n",
       "      <td>  218</td>\n",
       "      <td>  17</td>\n",
       "      <td>   2</td>\n",
       "      <td>  0</td>\n",
       "      <td>  0</td>\n",
       "      <td> 173112</td>\n",
       "      <td>  713</td>\n",
       "      <td>  142</td>\n",
       "      <td>   0</td>\n",
       "      <td> 2</td>\n",
       "      <td> 0</td>\n",
       "      <td> 0</td>\n",
       "    </tr>\n",
       "    <tr>\n",
       "      <th>3539586</th>\n",
       "      <td>  28653821</td>\n",
       "      <td> 253840859</td>\n",
       "      <td>  8010</td>\n",
       "      <td>  133</td>\n",
       "      <td>  13</td>\n",
       "      <td>   1</td>\n",
       "      <td>  0</td>\n",
       "      <td>  0</td>\n",
       "      <td>   3399</td>\n",
       "      <td>    3</td>\n",
       "      <td>  227</td>\n",
       "      <td>   0</td>\n",
       "      <td> 1</td>\n",
       "      <td> 0</td>\n",
       "      <td> 0</td>\n",
       "    </tr>\n",
       "    <tr>\n",
       "      <th>3539587</th>\n",
       "      <td>  31493754</td>\n",
       "      <td> 291385196</td>\n",
       "      <td>  2853</td>\n",
       "      <td>   58</td>\n",
       "      <td>  17</td>\n",
       "      <td>  59</td>\n",
       "      <td>  1</td>\n",
       "      <td>  1</td>\n",
       "      <td>   6958</td>\n",
       "      <td>   78</td>\n",
       "      <td>    1</td>\n",
       "      <td>   0</td>\n",
       "      <td> 1</td>\n",
       "      <td> 0</td>\n",
       "      <td> 0</td>\n",
       "    </tr>\n",
       "    <tr>\n",
       "      <th>3539588</th>\n",
       "      <td> 137050612</td>\n",
       "      <td> 319166381</td>\n",
       "      <td>  6824</td>\n",
       "      <td>  143</td>\n",
       "      <td>  34</td>\n",
       "      <td>   2</td>\n",
       "      <td>  0</td>\n",
       "      <td>  0</td>\n",
       "      <td> 290767</td>\n",
       "      <td>  957</td>\n",
       "      <td>  501</td>\n",
       "      <td>  11</td>\n",
       "      <td> 2</td>\n",
       "      <td> 0</td>\n",
       "      <td> 0</td>\n",
       "    </tr>\n",
       "    <tr>\n",
       "      <th>3539589</th>\n",
       "      <td> 140267624</td>\n",
       "      <td> 238536397</td>\n",
       "      <td>  2377</td>\n",
       "      <td>   26</td>\n",
       "      <td>   9</td>\n",
       "      <td>   2</td>\n",
       "      <td>  0</td>\n",
       "      <td>  0</td>\n",
       "      <td>   5978</td>\n",
       "      <td>  104</td>\n",
       "      <td>    2</td>\n",
       "      <td>   0</td>\n",
       "      <td> 2</td>\n",
       "      <td> 0</td>\n",
       "      <td> 0</td>\n",
       "    </tr>\n",
       "    <tr>\n",
       "      <th>3539590</th>\n",
       "      <td> 128004624</td>\n",
       "      <td> 298645727</td>\n",
       "      <td>   324</td>\n",
       "      <td>    0</td>\n",
       "      <td>   7</td>\n",
       "      <td>   1</td>\n",
       "      <td>  0</td>\n",
       "      <td>  0</td>\n",
       "      <td>    266</td>\n",
       "      <td>    0</td>\n",
       "      <td>    6</td>\n",
       "      <td>   0</td>\n",
       "      <td> 1</td>\n",
       "      <td> 0</td>\n",
       "      <td> 0</td>\n",
       "    </tr>\n",
       "  </tbody>\n",
       "</table>\n",
       "<p>3539591 rows × 15 columns</p>\n",
       "</div>"
      ],
      "text/plain": [
       "           user_id    item_id  user_action_count  user_lastday_count  \\\n",
       "0         27751835  244322130                843                   0   \n",
       "1         98692568  371781541                567                   0   \n",
       "2        100014756  350273263               1497                  66   \n",
       "3         48034560  302154307                248                   0   \n",
       "4         68352416  197974051               3148                  72   \n",
       "5         91450392  384935079               1289                  94   \n",
       "6         68089629  265879503               3084                  46   \n",
       "7         26047046   57878922               2049                  68   \n",
       "8        108430412  245000744               6531                 266   \n",
       "9         14655396  214188424                198                   0   \n",
       "10       122626233  391644240               4461                  87   \n",
       "11       129077923  221007776               1816                  30   \n",
       "12        36140679  269289919               4920                   0   \n",
       "13        29847444  324924415               2159                  41   \n",
       "14        76236587   75082200               3148                 118   \n",
       "15        27751835   34563280                843                   0   \n",
       "16        77504559  364704505              10706                 408   \n",
       "17        50915402  290000736              16615                1210   \n",
       "18        99903128  368881676               7366                 125   \n",
       "19        26664688  106700549               3661                 484   \n",
       "20        11521732  128461162               4948                  76   \n",
       "21       124343016  177158600                928                  57   \n",
       "22       124167000  325752091               6595                 272   \n",
       "23          643640   65520130              14805                 830   \n",
       "24        90795949  192451581               3209                 245   \n",
       "25        97861587  163009105                236                  35   \n",
       "26         3410120  194472040                718                  60   \n",
       "27         1067390  249881952               1118                  45   \n",
       "28        48588889  214110240               1015                  11   \n",
       "29        19936645   50153640               2408                 171   \n",
       "...            ...        ...                ...                 ...   \n",
       "3539561   62193211  353908734               2301                   2   \n",
       "3539562   27313574  197597547               2457                  40   \n",
       "3539563  135012604  143449146               1260                  22   \n",
       "3539564  110388596  249725494               1195                   0   \n",
       "3539565   42560916  359998786               3067                 164   \n",
       "3539566   12725240  302981075               1666                  45   \n",
       "3539567  130321834  164049778                655                   0   \n",
       "3539568    1017622  382506304               5341                 232   \n",
       "3539569   12161548  366170671               1597                   0   \n",
       "3539570  120226592  241789906               2517                 106   \n",
       "3539571  141263225  342286126               1176                   2   \n",
       "3539572    4607223  186486999               2716                  71   \n",
       "3539573   83540417  322157239               3223                   4   \n",
       "3539574   52417718  133210280               1997                  75   \n",
       "3539575   68352416   54136287               3148                  72   \n",
       "3539576   69588442  302799839               4863                  36   \n",
       "3539577   60432494   44399268               1653                   6   \n",
       "3539578  122714235  144812485               1358                  35   \n",
       "3539579   89205429   64604824                595                  18   \n",
       "3539580     229807  397122015                722                   0   \n",
       "3539581   89315288   96436751               5899                 260   \n",
       "3539582  134621848  341053685               7906                 120   \n",
       "3539583   54867992  222920181               3014                  59   \n",
       "3539584   15407004  114820331                705                  54   \n",
       "3539585   47346917  138084792               6858                 218   \n",
       "3539586   28653821  253840859               8010                 133   \n",
       "3539587   31493754  291385196               2853                  58   \n",
       "3539588  137050612  319166381               6824                 143   \n",
       "3539589  140267624  238536397               2377                  26   \n",
       "3539590  128004624  298645727                324                   0   \n",
       "\n",
       "         user_buy_count  item_click_count  item_lastday_count  item_buy_count  \\\n",
       "0                     7                 1                   0               0   \n",
       "1                    12                 2                   0               0   \n",
       "2                    13                 2                   0               0   \n",
       "3                     9               215                   8               1   \n",
       "4                     4                 2                   0               0   \n",
       "5                     8                 3                   0               0   \n",
       "6                     9               154                   5              11   \n",
       "7                     2                43                   0               1   \n",
       "8                    11                 2                   0               0   \n",
       "9                     1                 2                   0               0   \n",
       "10                    6                 4                   0               0   \n",
       "11                   31                 3                   0               0   \n",
       "12                   69                 1                   0               0   \n",
       "13                   64                 9                   0               0   \n",
       "14                   79                 2                   0               0   \n",
       "15                    7                 3                   0               0   \n",
       "16                   26                 1                   0               0   \n",
       "17                    4                 1                   0               0   \n",
       "18                   58                 1                   0               0   \n",
       "19                   45                 3                   0               0   \n",
       "20                  111                 3                   0               0   \n",
       "21                    6                 2                   0               0   \n",
       "22                    5                 5                   0               0   \n",
       "23                   22                 1                   0               0   \n",
       "24                   15                 1                   0               0   \n",
       "25                   12               137                  10               4   \n",
       "26                    4                30                   0               0   \n",
       "27                   29                 3                   0               0   \n",
       "28                   12               129                   0              11   \n",
       "29                   19               124                  26               0   \n",
       "...                 ...               ...                 ...             ...   \n",
       "3539561              14                 3                   0               0   \n",
       "3539562              24                87                   0               0   \n",
       "3539563              42                 3                   0               0   \n",
       "3539564               7                13                   0               0   \n",
       "3539565              48                 9                   0               0   \n",
       "3539566               7                 3                   0               0   \n",
       "3539567              61                 2                   0               1   \n",
       "3539568              14                 2                   0               0   \n",
       "3539569              21                 2                   0               0   \n",
       "3539570               0                48                   2               0   \n",
       "3539571              27                 1                   0               0   \n",
       "3539572              56                 3                   0               1   \n",
       "3539573              19                 5                   0               0   \n",
       "3539574              21                13                   3               0   \n",
       "3539575               4                55                   0               0   \n",
       "3539576               6                 2                   0               0   \n",
       "3539577               7                 6                   0               0   \n",
       "3539578              16                 1                   0               0   \n",
       "3539579              31                 6                   0               0   \n",
       "3539580               7                25                   0               0   \n",
       "3539581              52                 3                   0               0   \n",
       "3539582              32                 4                   0               0   \n",
       "3539583               8                 5                   0               0   \n",
       "3539584               5                 8                   0               0   \n",
       "3539585              17                 2                   0               0   \n",
       "3539586              13                 1                   0               0   \n",
       "3539587              17                59                   1               1   \n",
       "3539588              34                 2                   0               0   \n",
       "3539589               9                 2                   0               0   \n",
       "3539590               7                 1                   0               0   \n",
       "\n",
       "         cat_click_count  cat_buy_count  user_cat_count  \\\n",
       "0                  12004            137             150   \n",
       "1                   3969             74               6   \n",
       "2                 322649            860             119   \n",
       "3                 290767            957               4   \n",
       "4                  51605           1317             123   \n",
       "5                  31023            610              17   \n",
       "6                  56403            948              26   \n",
       "7                 290767            957             191   \n",
       "8                 316540            855             245   \n",
       "9                  25715            323               2   \n",
       "10                 75311           1090              81   \n",
       "11                  8176            116             114   \n",
       "12                  5753             86            1781   \n",
       "13                  2404             34               5   \n",
       "14                   647              1              61   \n",
       "15                397320           1782             165   \n",
       "16                   410              8               1   \n",
       "17                290767            957             535   \n",
       "18                 13856            164             230   \n",
       "19                125857            717               6   \n",
       "20                160535            561             202   \n",
       "21                 25423            362               8   \n",
       "22                  5632              4             107   \n",
       "23                 89510            878             293   \n",
       "24                 21790            546              17   \n",
       "25                  1621             44              11   \n",
       "26                 61846            500             124   \n",
       "27                 51726            557              41   \n",
       "28                  5776            191              12   \n",
       "29                290767            957             567   \n",
       "...                  ...            ...             ...   \n",
       "3539561              322              2               5   \n",
       "3539562             5562             95              18   \n",
       "3539563             1987             13              56   \n",
       "3539564             9192             85               3   \n",
       "3539565            61846            500              34   \n",
       "3539566             7261             19             294   \n",
       "3539567           367577            822              31   \n",
       "3539568           397320           1782             227   \n",
       "3539569            23588            345              32   \n",
       "3539570           397320           1782             617   \n",
       "3539571            77834            682              29   \n",
       "3539572             1305             18               4   \n",
       "3539573            61846            500             122   \n",
       "3539574             4797            126               5   \n",
       "3539575           125857            717              93   \n",
       "3539576           316540            855            1064   \n",
       "3539577               69              0               4   \n",
       "3539578           397320           1782              48   \n",
       "3539579           290767            957               4   \n",
       "3539580           173112            713             101   \n",
       "3539581              308              0               5   \n",
       "3539582           316540            855             260   \n",
       "3539583             5632              4             115   \n",
       "3539584             5435             72               6   \n",
       "3539585           173112            713             142   \n",
       "3539586             3399              3             227   \n",
       "3539587             6958             78               1   \n",
       "3539588           290767            957             501   \n",
       "3539589             5978            104               2   \n",
       "3539590              266              0               6   \n",
       "\n",
       "         user_cat_lastday_count  user_item_count  user_item_lastday_count  buy  \n",
       "0                             0                1                        0    0  \n",
       "1                             0                2                        0    0  \n",
       "2                             2                2                        0    0  \n",
       "3                             0                2                        0    0  \n",
       "4                             0                1                        0    0  \n",
       "5                             0                3                        0    0  \n",
       "6                             0                2                        0    0  \n",
       "7                             2                2                        0    0  \n",
       "8                             0                2                        0    0  \n",
       "9                             0                2                        0    0  \n",
       "10                            0                4                        0    0  \n",
       "11                            0                3                        0    0  \n",
       "12                            0                1                        0    0  \n",
       "13                            0                5                        0    0  \n",
       "14                            0                2                        0    0  \n",
       "15                            0                3                        0    0  \n",
       "16                            0                1                        0    0  \n",
       "17                          119                1                        0    0  \n",
       "18                            3                1                        0    0  \n",
       "19                            0                3                        0    0  \n",
       "20                            5                3                        0    0  \n",
       "21                            0                2                        0    0  \n",
       "22                            8                5                        0    0  \n",
       "23                           15                1                        0    0  \n",
       "24                            0                1                        0    0  \n",
       "25                            0                3                        0    0  \n",
       "26                            0                2                        0    0  \n",
       "27                            0                2                        0    0  \n",
       "28                            0                8                        0    0  \n",
       "29                           72                2                        0    0  \n",
       "...                         ...              ...                      ...  ...  \n",
       "3539561                       0                2                        0    0  \n",
       "3539562                       0                2                        0    0  \n",
       "3539563                       0                1                        0    0  \n",
       "3539564                       0                3                        0    0  \n",
       "3539565                       0                3                        0    0  \n",
       "3539566                       0                3                        0    0  \n",
       "3539567                       0                1                        0    0  \n",
       "3539568                      11                2                        0    0  \n",
       "3539569                       0                2                        0    0  \n",
       "3539570                      93                2                        2    0  \n",
       "3539571                       0                1                        0    0  \n",
       "3539572                       0                3                        0    0  \n",
       "3539573                       0                2                        0    0  \n",
       "3539574                       0                2                        0    0  \n",
       "3539575                       0                1                        0    0  \n",
       "3539576                      12                2                        0    0  \n",
       "3539577                       0                2                        0    0  \n",
       "3539578                      10                1                        0    0  \n",
       "3539579                       0                1                        0    0  \n",
       "3539580                       0                6                        0    0  \n",
       "3539581                       0                2                        0    0  \n",
       "3539582                       7                4                        0    0  \n",
       "3539583                       0                2                        0    0  \n",
       "3539584                       0                2                        0    0  \n",
       "3539585                       0                2                        0    0  \n",
       "3539586                       0                1                        0    0  \n",
       "3539587                       0                1                        0    0  \n",
       "3539588                      11                2                        0    0  \n",
       "3539589                       0                2                        0    0  \n",
       "3539590                       0                1                        0    0  \n",
       "\n",
       "[3539591 rows x 15 columns]"
      ]
     },
     "execution_count": 29,
     "metadata": {},
     "output_type": "execute_result"
    }
   ],
   "source": [
    "data"
   ]
  },
  {
   "cell_type": "code",
   "execution_count": 1,
   "metadata": {
    "collapsed": false
   },
   "outputs": [
    {
     "ename": "NameError",
     "evalue": "name 'pandas' is not defined",
     "output_type": "error",
     "traceback": [
      "\u001b[1;31m---------------------------------------------------------------------------\u001b[0m",
      "\u001b[1;31mNameError\u001b[0m                                 Traceback (most recent call last)",
      "\u001b[1;32m<ipython-input-1-19fa448bebe7>\u001b[0m in \u001b[0;36m<module>\u001b[1;34m()\u001b[0m\n\u001b[1;32m----> 1\u001b[1;33m \u001b[0mdata_pred\u001b[0m \u001b[1;33m=\u001b[0m \u001b[0mpandas\u001b[0m\u001b[1;33m.\u001b[0m\u001b[0mread_csv\u001b[0m\u001b[1;33m(\u001b[0m\u001b[1;34m'data.csv'\u001b[0m\u001b[1;33m)\u001b[0m\u001b[1;33m\u001b[0m\u001b[0m\n\u001b[0m\u001b[0;32m      2\u001b[0m \u001b[0mX_pred\u001b[0m\u001b[1;33m=\u001b[0m\u001b[0mnp\u001b[0m\u001b[1;33m.\u001b[0m\u001b[0mlog\u001b[0m\u001b[1;33m(\u001b[0m\u001b[1;36m0.3\u001b[0m\u001b[1;33m+\u001b[0m\u001b[0mdata_pred\u001b[0m\u001b[1;33m[\u001b[0m\u001b[1;33m[\u001b[0m\u001b[1;34m'user_item_count'\u001b[0m\u001b[1;33m,\u001b[0m\u001b[1;34m'user_item_lastday_count'\u001b[0m\u001b[1;33m]\u001b[0m\u001b[1;33m]\u001b[0m\u001b[1;33m)\u001b[0m\u001b[1;33m\u001b[0m\u001b[0m\n\u001b[0;32m      3\u001b[0m \u001b[0mY_pred\u001b[0m\u001b[1;33m=\u001b[0m\u001b[0mdata_pred\u001b[0m\u001b[1;33m[\u001b[0m\u001b[1;34m'buy'\u001b[0m\u001b[1;33m]\u001b[0m\u001b[1;33m\u001b[0m\u001b[0m\n",
      "\u001b[1;31mNameError\u001b[0m: name 'pandas' is not defined"
     ]
    }
   ],
   "source": [
    "data_pred = pandas.read_csv('data.csv')\n",
    "X_pred=np.log(0.3+data_pred[['user_item_count','user_item_lastday_count']])\n",
    "Y_pred=data_pred['buy']"
   ]
  },
  {
   "cell_type": "code",
   "execution_count": 7,
   "metadata": {
    "collapsed": false
   },
   "outputs": [
    {
     "data": {
      "text/plain": [
       "array([5, 6])"
      ]
     },
     "execution_count": 7,
     "metadata": {},
     "output_type": "execute_result"
    }
   ],
   "source": [
    "np.array([1,2])+4"
   ]
  },
  {
   "cell_type": "code",
   "execution_count": 8,
   "metadata": {
    "collapsed": true
   },
   "outputs": [],
   "source": [
    "items = pandas.read_csv('tianchi_mobile_recommend_train_item.csv')\n"
   ]
  },
  {
   "cell_type": "code",
   "execution_count": 14,
   "metadata": {
    "collapsed": false
   },
   "outputs": [],
   "source": [
    "tids=items['item_id']"
   ]
  },
  {
   "cell_type": "code",
   "execution_count": 30,
   "metadata": {
    "collapsed": false
   },
   "outputs": [
    {
     "data": {
      "text/plain": [
       "327414838"
      ]
     },
     "execution_count": 30,
     "metadata": {},
     "output_type": "execute_result"
    }
   ],
   "source": [
    "tids[0]"
   ]
  },
  {
   "cell_type": "code",
   "execution_count": 32,
   "metadata": {
    "collapsed": false
   },
   "outputs": [
    {
     "data": {
      "text/plain": [
       "False"
      ]
     },
     "execution_count": 32,
     "metadata": {},
     "output_type": "execute_result"
    }
   ],
   "source": [
    "'327414838' in list(tids)"
   ]
  },
  {
   "cell_type": "code",
   "execution_count": 14,
   "metadata": {
    "collapsed": true
   },
   "outputs": [],
   "source": [
    "items = pandas.read_csv('tianchi_mobile_recommend_train_item.csv')"
   ]
  },
  {
   "cell_type": "code",
   "execution_count": 17,
   "metadata": {
    "collapsed": false
   },
   "outputs": [],
   "source": [
    "nrow = 10000\n",
    "start = 0\n",
    "fr = pandas.read_csv('feature.csv',iterator=True)"
   ]
  },
  {
   "cell_type": "code",
   "execution_count": 18,
   "metadata": {
    "collapsed": false
   },
   "outputs": [
    {
     "ename": "MemoryError",
     "evalue": "",
     "output_type": "error",
     "traceback": [
      "\u001b[1;31m---------------------------------------------------------------------------\u001b[0m",
      "\u001b[1;31mMemoryError\u001b[0m                               Traceback (most recent call last)",
      "\u001b[1;32m<ipython-input-18-61dcb5ab6a79>\u001b[0m in \u001b[0;36m<module>\u001b[1;34m()\u001b[0m\n\u001b[1;32m----> 1\u001b[1;33m \u001b[0mfr\u001b[0m\u001b[1;33m.\u001b[0m\u001b[0mread\u001b[0m\u001b[1;33m(\u001b[0m\u001b[1;33m)\u001b[0m\u001b[1;33m\u001b[0m\u001b[0m\n\u001b[0m",
      "\u001b[1;32mC:\\Python27\\lib\\site-packages\\pandas\\io\\parsers.pyc\u001b[0m in \u001b[0;36mread\u001b[1;34m(self, nrows)\u001b[0m\n\u001b[0;32m    713\u001b[0m                 \u001b[1;32mraise\u001b[0m \u001b[0mValueError\u001b[0m\u001b[1;33m(\u001b[0m\u001b[1;34m'skip_footer not supported for iteration'\u001b[0m\u001b[1;33m)\u001b[0m\u001b[1;33m\u001b[0m\u001b[0m\n\u001b[0;32m    714\u001b[0m \u001b[1;33m\u001b[0m\u001b[0m\n\u001b[1;32m--> 715\u001b[1;33m         \u001b[0mret\u001b[0m \u001b[1;33m=\u001b[0m \u001b[0mself\u001b[0m\u001b[1;33m.\u001b[0m\u001b[0m_engine\u001b[0m\u001b[1;33m.\u001b[0m\u001b[0mread\u001b[0m\u001b[1;33m(\u001b[0m\u001b[0mnrows\u001b[0m\u001b[1;33m)\u001b[0m\u001b[1;33m\u001b[0m\u001b[0m\n\u001b[0m\u001b[0;32m    716\u001b[0m \u001b[1;33m\u001b[0m\u001b[0m\n\u001b[0;32m    717\u001b[0m         \u001b[1;32mif\u001b[0m \u001b[0mself\u001b[0m\u001b[1;33m.\u001b[0m\u001b[0moptions\u001b[0m\u001b[1;33m.\u001b[0m\u001b[0mget\u001b[0m\u001b[1;33m(\u001b[0m\u001b[1;34m'as_recarray'\u001b[0m\u001b[1;33m)\u001b[0m\u001b[1;33m:\u001b[0m\u001b[1;33m\u001b[0m\u001b[0m\n",
      "\u001b[1;32mC:\\Python27\\lib\\site-packages\\pandas\\io\\parsers.pyc\u001b[0m in \u001b[0;36mread\u001b[1;34m(self, nrows)\u001b[0m\n\u001b[0;32m   1162\u001b[0m \u001b[1;33m\u001b[0m\u001b[0m\n\u001b[0;32m   1163\u001b[0m         \u001b[1;32mtry\u001b[0m\u001b[1;33m:\u001b[0m\u001b[1;33m\u001b[0m\u001b[0m\n\u001b[1;32m-> 1164\u001b[1;33m             \u001b[0mdata\u001b[0m \u001b[1;33m=\u001b[0m \u001b[0mself\u001b[0m\u001b[1;33m.\u001b[0m\u001b[0m_reader\u001b[0m\u001b[1;33m.\u001b[0m\u001b[0mread\u001b[0m\u001b[1;33m(\u001b[0m\u001b[0mnrows\u001b[0m\u001b[1;33m)\u001b[0m\u001b[1;33m\u001b[0m\u001b[0m\n\u001b[0m\u001b[0;32m   1165\u001b[0m         \u001b[1;32mexcept\u001b[0m \u001b[0mStopIteration\u001b[0m\u001b[1;33m:\u001b[0m\u001b[1;33m\u001b[0m\u001b[0m\n\u001b[0;32m   1166\u001b[0m             \u001b[1;32mif\u001b[0m \u001b[0mnrows\u001b[0m \u001b[1;32mis\u001b[0m \u001b[0mNone\u001b[0m\u001b[1;33m:\u001b[0m\u001b[1;33m\u001b[0m\u001b[0m\n",
      "\u001b[1;32mpandas\\parser.pyx\u001b[0m in \u001b[0;36mpandas.parser.TextReader.read (pandas\\parser.c:7411)\u001b[1;34m()\u001b[0m\n",
      "\u001b[1;32mpandas\\parser.pyx\u001b[0m in \u001b[0;36mpandas.parser.TextReader._read_low_memory (pandas\\parser.c:8004)\u001b[1;34m()\u001b[0m\n",
      "\u001b[1;32mpandas\\parser.pyx\u001b[0m in \u001b[0;36mpandas.parser._concatenate_chunks (pandas\\parser.c:22420)\u001b[1;34m()\u001b[0m\n",
      "\u001b[1;31mMemoryError\u001b[0m: "
     ]
    }
   ],
   "source": []
  },
  {
   "cell_type": "code",
   "execution_count": 25,
   "metadata": {
    "collapsed": false
   },
   "outputs": [],
   "source": [
    "if 0:\n",
    "    print 111"
   ]
  },
  {
   "cell_type": "code",
   "execution_count": 10,
   "metadata": {
    "collapsed": false
   },
   "outputs": [
    {
     "ename": "TypeError",
     "evalue": "list indices must be integers, not tuple",
     "output_type": "error",
     "traceback": [
      "\u001b[1;31m---------------------------------------------------------------------------\u001b[0m",
      "\u001b[1;31mTypeError\u001b[0m                                 Traceback (most recent call last)",
      "\u001b[1;32m<ipython-input-10-4b514b89e76d>\u001b[0m in \u001b[0;36m<module>\u001b[1;34m()\u001b[0m\n\u001b[0;32m      1\u001b[0m \u001b[0marr\u001b[0m\u001b[1;33m=\u001b[0m\u001b[1;33m[\u001b[0m\u001b[1;36m1\u001b[0m\u001b[1;33m,\u001b[0m\u001b[1;36m2\u001b[0m\u001b[1;33m,\u001b[0m\u001b[1;36m3\u001b[0m\u001b[1;33m,\u001b[0m\u001b[1;36m4\u001b[0m\u001b[1;33m,\u001b[0m\u001b[1;36m5\u001b[0m\u001b[1;33m,\u001b[0m\u001b[1;36m6\u001b[0m\u001b[1;33m]\u001b[0m\u001b[1;33m\u001b[0m\u001b[0m\n\u001b[1;32m----> 2\u001b[1;33m \u001b[0marr\u001b[0m\u001b[1;33m[\u001b[0m\u001b[1;36m1\u001b[0m\u001b[1;33m,\u001b[0m\u001b[1;36m2\u001b[0m\u001b[1;33m]\u001b[0m\u001b[1;33m\u001b[0m\u001b[0m\n\u001b[0m",
      "\u001b[1;31mTypeError\u001b[0m: list indices must be integers, not tuple"
     ]
    }
   ],
   "source": [
    "arr=[1,2,3,4,5,6]\n",
    "arr[1,2]"
   ]
  },
  {
   "cell_type": "code",
   "execution_count": null,
   "metadata": {
    "collapsed": true
   },
   "outputs": [],
   "source": []
  }
 ],
 "metadata": {
  "kernelspec": {
   "display_name": "Python 2",
   "language": "python",
   "name": "python2"
  },
  "language_info": {
   "codemirror_mode": {
    "name": "ipython",
    "version": 2
   },
   "file_extension": ".py",
   "mimetype": "text/x-python",
   "name": "python",
   "nbconvert_exporter": "python",
   "pygments_lexer": "ipython2",
   "version": "2.7.9"
  }
 },
 "nbformat": 4,
 "nbformat_minor": 0
}
